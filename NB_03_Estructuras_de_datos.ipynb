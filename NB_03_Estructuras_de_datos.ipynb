{
  "cells": [
    {
      "cell_type": "markdown",
      "metadata": {
        "id": "view-in-github",
        "colab_type": "text"
      },
      "source": [
        "<a href=\"https://colab.research.google.com/github/vivianahuetio/Notebooks_Python/blob/main/NB_03_Estructuras_de_datos.ipynb\" target=\"_parent\"><img src=\"https://colab.research.google.com/assets/colab-badge.svg\" alt=\"Open In Colab\"/></a>"
      ]
    },
    {
      "cell_type": "markdown",
      "metadata": {
        "id": "gOo6-K8OROr-"
      },
      "source": [
        "## Estructuras de Datos"
      ]
    },
    {
      "cell_type": "markdown",
      "metadata": {
        "id": "2h7JOt_SROsC"
      },
      "source": [
        "1) Crear una lista que contenga nombres de ciudades del mundo que contenga más de 5 elementos e imprimir por pantalla"
      ]
    },
    {
      "cell_type": "code",
      "execution_count": 5,
      "metadata": {
        "id": "bCRYLmk4ROsD",
        "outputId": "edb14e4c-0bfd-4259-e891-aff7a9d49da8",
        "colab": {
          "base_uri": "https://localhost:8080/"
        }
      },
      "outputs": [
        {
          "output_type": "stream",
          "name": "stdout",
          "text": [
            "['Cali', 'México', 'Santiago', 'Lima', 'Caracas', 'New York']\n"
          ]
        }
      ],
      "source": [
        "Lista = ['Cali','México', 'Santiago', 'Lima', 'Caracas', 'New York']\n",
        "print(Lista)"
      ]
    },
    {
      "cell_type": "markdown",
      "metadata": {
        "id": "VCrh2XrdROsF"
      },
      "source": [
        "2) Imprimir por pantalla el segundo elemento de la lista"
      ]
    },
    {
      "cell_type": "code",
      "execution_count": 6,
      "metadata": {
        "id": "tiWRkyqFROsF",
        "outputId": "f9b16db9-81db-4569-98b6-1d79358f0f37",
        "colab": {
          "base_uri": "https://localhost:8080/"
        }
      },
      "outputs": [
        {
          "output_type": "stream",
          "name": "stdout",
          "text": [
            "México\n"
          ]
        }
      ],
      "source": [
        "print(Lista[1])"
      ]
    },
    {
      "cell_type": "markdown",
      "metadata": {
        "id": "Swqo5QLAROsG"
      },
      "source": [
        "3) Imprimir por pantalla del segundo al cuarto elemento"
      ]
    },
    {
      "cell_type": "code",
      "execution_count": 8,
      "metadata": {
        "id": "5vSXTkn5ROsG",
        "outputId": "5cc31451-4b6d-420a-db95-c227d523a03f",
        "colab": {
          "base_uri": "https://localhost:8080/"
        }
      },
      "outputs": [
        {
          "output_type": "stream",
          "name": "stdout",
          "text": [
            "['México', 'Santiago', 'Lima']\n"
          ]
        }
      ],
      "source": [
        "print(Lista[1:4])"
      ]
    },
    {
      "cell_type": "markdown",
      "metadata": {
        "id": "ECqEJfz0ROsH"
      },
      "source": [
        "4) Visualizar el tipo de dato de la lista"
      ]
    },
    {
      "cell_type": "code",
      "execution_count": 11,
      "metadata": {
        "id": "VAMTuVPhROsI",
        "outputId": "3187615b-73c5-4aa7-b257-88340e4c2aa7",
        "colab": {
          "base_uri": "https://localhost:8080/"
        }
      },
      "outputs": [
        {
          "output_type": "stream",
          "name": "stdout",
          "text": [
            "<class 'list'>\n"
          ]
        }
      ],
      "source": [
        "print(type(Lista))"
      ]
    },
    {
      "cell_type": "markdown",
      "metadata": {
        "id": "DA8jxl0ZROsI"
      },
      "source": [
        "5) Visualizar todos los elementos de la lista a partir del tercero de manera genérica, es decir, sin explicitar la posición del último elemento"
      ]
    },
    {
      "cell_type": "code",
      "execution_count": 12,
      "metadata": {
        "id": "s6JQ6vJxROsJ",
        "outputId": "e63463d5-6540-48cf-f477-0d8d3ea38d81",
        "colab": {
          "base_uri": "https://localhost:8080/"
        }
      },
      "outputs": [
        {
          "output_type": "stream",
          "name": "stdout",
          "text": [
            "['Santiago', 'Lima', 'Caracas', 'New York']\n"
          ]
        }
      ],
      "source": [
        "print(Lista[2:])"
      ]
    },
    {
      "cell_type": "markdown",
      "metadata": {
        "id": "O1a70R0zROsJ"
      },
      "source": [
        "6) Visualizar los primeros 4 elementos de la lista"
      ]
    },
    {
      "cell_type": "code",
      "execution_count": 14,
      "metadata": {
        "id": "ZmxJun2FROsJ",
        "outputId": "f9539611-8b65-4786-fe8a-a8af9c59e200",
        "colab": {
          "base_uri": "https://localhost:8080/"
        }
      },
      "outputs": [
        {
          "output_type": "stream",
          "name": "stdout",
          "text": [
            "['Cali', 'México', 'Santiago', 'Lima']\n"
          ]
        }
      ],
      "source": [
        "print(Lista[0:4])\n",
        "    "
      ]
    },
    {
      "cell_type": "markdown",
      "metadata": {
        "id": "zMCsecGzROsK"
      },
      "source": [
        "7) Agregar una ciudad más a la lista que ya exista y otra que no ¿Arroja algún tipo de error?"
      ]
    },
    {
      "cell_type": "code",
      "source": [
        "print(Lista)"
      ],
      "metadata": {
        "id": "2CIWwYVDcxfC",
        "outputId": "b87ccea3-48bb-45c7-85ae-6784109e23c7",
        "colab": {
          "base_uri": "https://localhost:8080/"
        }
      },
      "execution_count": 7,
      "outputs": [
        {
          "output_type": "stream",
          "name": "stdout",
          "text": [
            "['Cali', 'México', 'Santiago', 'Lima', 'Caracas', 'New York']\n"
          ]
        }
      ]
    },
    {
      "cell_type": "code",
      "source": [
        "Lista.append('Bogotá')\n",
        "Lista"
      ],
      "metadata": {
        "id": "gPsS1tKTc1bL",
        "outputId": "a8d5171c-7eb5-4ba2-deb3-aa1407f18469",
        "colab": {
          "base_uri": "https://localhost:8080/"
        }
      },
      "execution_count": 9,
      "outputs": [
        {
          "output_type": "execute_result",
          "data": {
            "text/plain": [
              "['Cali',\n",
              " 'México',\n",
              " 'Santiago',\n",
              " 'Lima',\n",
              " 'Caracas',\n",
              " 'New York',\n",
              " 'Bogotá',\n",
              " 'Bogotá']"
            ]
          },
          "metadata": {},
          "execution_count": 9
        }
      ]
    },
    {
      "cell_type": "code",
      "source": [
        "Lista.remove('Bogotá')"
      ],
      "metadata": {
        "id": "igJlqmwBc1N0"
      },
      "execution_count": 10,
      "outputs": []
    },
    {
      "cell_type": "code",
      "source": [
        "print(Lista)"
      ],
      "metadata": {
        "id": "tU2KtNzjc04R",
        "outputId": "f6f92441-b3e6-468f-ef1b-c25e43d6bfe4",
        "colab": {
          "base_uri": "https://localhost:8080/"
        }
      },
      "execution_count": 11,
      "outputs": [
        {
          "output_type": "stream",
          "name": "stdout",
          "text": [
            "['Cali', 'México', 'Santiago', 'Lima', 'Caracas', 'New York', 'Bogotá']\n"
          ]
        }
      ]
    },
    {
      "cell_type": "code",
      "source": [
        "Lista.append('Lima')\n",
        "print(Lista)"
      ],
      "metadata": {
        "id": "Bn7cXn46c0pd",
        "outputId": "6c06065e-f7f2-4853-d9c5-4c3a37fdbb83",
        "colab": {
          "base_uri": "https://localhost:8080/"
        }
      },
      "execution_count": 13,
      "outputs": [
        {
          "output_type": "stream",
          "name": "stdout",
          "text": [
            "['Cali', 'México', 'Santiago', 'Lima', 'Caracas', 'New York', 'Bogotá', 'Lima', 'Lima']\n"
          ]
        }
      ]
    },
    {
      "cell_type": "code",
      "source": [
        "Lista.remove('Lima')"
      ],
      "metadata": {
        "id": "vWI9Kmtedk_e"
      },
      "execution_count": 14,
      "outputs": []
    },
    {
      "cell_type": "code",
      "source": [
        "print(Lista)"
      ],
      "metadata": {
        "id": "dr4CErlSdkyt",
        "outputId": "ff061de2-6362-4ec1-a78a-6552d4c3295a",
        "colab": {
          "base_uri": "https://localhost:8080/"
        }
      },
      "execution_count": 15,
      "outputs": [
        {
          "output_type": "stream",
          "name": "stdout",
          "text": [
            "['Cali', 'México', 'Santiago', 'Caracas', 'New York', 'Bogotá', 'Lima', 'Lima']\n"
          ]
        }
      ]
    },
    {
      "cell_type": "code",
      "source": [
        "Lista.remove('Lima')\n",
        "Lista"
      ],
      "metadata": {
        "id": "UJLkpagDd1GV",
        "outputId": "7784a6d5-7363-460d-bdd2-f5e2ac513210",
        "colab": {
          "base_uri": "https://localhost:8080/"
        }
      },
      "execution_count": 16,
      "outputs": [
        {
          "output_type": "execute_result",
          "data": {
            "text/plain": [
              "['Cali', 'México', 'Santiago', 'Caracas', 'New York', 'Bogotá', 'Lima']"
            ]
          },
          "metadata": {},
          "execution_count": 16
        }
      ]
    },
    {
      "cell_type": "code",
      "source": [
        "ultimo_elemento = Lista[-1]\n",
        "print(ultimo_elemento) \n"
      ],
      "metadata": {
        "id": "WStJQQY4d08-",
        "outputId": "4662d30e-aa81-40f5-a061-11768afd4889",
        "colab": {
          "base_uri": "https://localhost:8080/"
        }
      },
      "execution_count": 18,
      "outputs": [
        {
          "output_type": "stream",
          "name": "stdout",
          "text": [
            "Lima\n"
          ]
        }
      ]
    },
    {
      "cell_type": "code",
      "source": [],
      "metadata": {
        "id": "oMAW3rl-d0sd"
      },
      "execution_count": null,
      "outputs": []
    },
    {
      "cell_type": "code",
      "source": [
        "l_01= ['Lima', 'Caracas', 'New York']\n",
        "l_01"
      ],
      "metadata": {
        "colab": {
          "base_uri": "https://localhost:8080/"
        },
        "id": "yoVBKXOiWJ99",
        "outputId": "c216eb33-1b83-4fe1-e68d-9130a7a79836"
      },
      "execution_count": 31,
      "outputs": [
        {
          "output_type": "execute_result",
          "data": {
            "text/plain": [
              "['Lima', 'Caracas', 'New York']"
            ]
          },
          "metadata": {},
          "execution_count": 31
        }
      ]
    },
    {
      "cell_type": "code",
      "source": [
        "type(l_01)"
      ],
      "metadata": {
        "colab": {
          "base_uri": "https://localhost:8080/"
        },
        "id": "uDTaM5pCXStn",
        "outputId": "9de5fec9-56ff-4383-d1ff-1292c6289a9e"
      },
      "execution_count": 41,
      "outputs": [
        {
          "output_type": "execute_result",
          "data": {
            "text/plain": [
              "list"
            ]
          },
          "metadata": {},
          "execution_count": 41
        }
      ]
    },
    {
      "cell_type": "code",
      "source": [
        "l_01.append('Medellin')\n"
      ],
      "metadata": {
        "id": "tvbyk_bCWQ1O"
      },
      "execution_count": 38,
      "outputs": []
    },
    {
      "cell_type": "code",
      "source": [
        "l_01"
      ],
      "metadata": {
        "colab": {
          "base_uri": "https://localhost:8080/"
        },
        "id": "gCgmcSfvXpBl",
        "outputId": "5f454722-0c8c-499d-c495-9411b40a92a7"
      },
      "execution_count": 53,
      "outputs": [
        {
          "output_type": "execute_result",
          "data": {
            "text/plain": [
              "['Lima',\n",
              " 'New York',\n",
              " 'Caracas',\n",
              " 'Caracas',\n",
              " 'Caracas',\n",
              " 'Medellin',\n",
              " 'Lima',\n",
              " 'New York',\n",
              " 'Caracas',\n",
              " 'Caracas',\n",
              " 'Caracas',\n",
              " 'Medellin']"
            ]
          },
          "metadata": {},
          "execution_count": 53
        }
      ]
    },
    {
      "cell_type": "code",
      "source": [
        "l_01.remove(6,'Caracas')"
      ],
      "metadata": {
        "colab": {
          "base_uri": "https://localhost:8080/",
          "height": 169
        },
        "id": "0V8jbuSuYioI",
        "outputId": "0730acb5-d8ab-42a3-c41a-53560b6e70a4"
      },
      "execution_count": 61,
      "outputs": [
        {
          "output_type": "error",
          "ename": "TypeError",
          "evalue": "ignored",
          "traceback": [
            "\u001b[0;31m---------------------------------------------------------------------------\u001b[0m",
            "\u001b[0;31mTypeError\u001b[0m                                 Traceback (most recent call last)",
            "\u001b[0;32m<ipython-input-61-a9978b37afd9>\u001b[0m in \u001b[0;36m<module>\u001b[0;34m\u001b[0m\n\u001b[0;32m----> 1\u001b[0;31m \u001b[0ml_01\u001b[0m\u001b[0;34m.\u001b[0m\u001b[0mremove\u001b[0m\u001b[0;34m(\u001b[0m\u001b[0;36m6\u001b[0m\u001b[0;34m,\u001b[0m\u001b[0;34m'Caracas'\u001b[0m\u001b[0;34m)\u001b[0m\u001b[0;34m\u001b[0m\u001b[0;34m\u001b[0m\u001b[0m\n\u001b[0m",
            "\u001b[0;31mTypeError\u001b[0m: remove() takes exactly one argument (2 given)"
          ]
        }
      ]
    },
    {
      "cell_type": "code",
      "source": [
        "l_01"
      ],
      "metadata": {
        "colab": {
          "base_uri": "https://localhost:8080/"
        },
        "id": "CCKyIeZJYilv",
        "outputId": "54ef5c8e-40d8-4db9-dc9e-1c13ecb7ab63"
      },
      "execution_count": 59,
      "outputs": [
        {
          "output_type": "execute_result",
          "data": {
            "text/plain": [
              "['Lima',\n",
              " 'New York',\n",
              " 'Medellin',\n",
              " 'Lima',\n",
              " 'New York',\n",
              " 'Caracas',\n",
              " 'Caracas',\n",
              " 'Caracas',\n",
              " 'Medellin']"
            ]
          },
          "metadata": {},
          "execution_count": 59
        }
      ]
    },
    {
      "cell_type": "code",
      "source": [],
      "metadata": {
        "id": "wjLj3gDZYsKK"
      },
      "execution_count": null,
      "outputs": []
    },
    {
      "cell_type": "code",
      "source": [],
      "metadata": {
        "id": "EniP58igYsH7"
      },
      "execution_count": null,
      "outputs": []
    },
    {
      "cell_type": "code",
      "source": [],
      "metadata": {
        "id": "ioYHSU3IYsF8"
      },
      "execution_count": null,
      "outputs": []
    },
    {
      "cell_type": "code",
      "source": [
        "l_01+=l_01"
      ],
      "metadata": {
        "id": "UUd3uDUDXo--"
      },
      "execution_count": 52,
      "outputs": []
    },
    {
      "cell_type": "code",
      "source": [
        "l_01"
      ],
      "metadata": {
        "colab": {
          "base_uri": "https://localhost:8080/"
        },
        "id": "XkFvggSeWWIV",
        "outputId": "a54542fc-38cf-490e-e4c2-41f3d3fc4dcc"
      },
      "execution_count": 46,
      "outputs": [
        {
          "output_type": "execute_result",
          "data": {
            "text/plain": [
              "['Lima', 'New York', 'Caracas', 'Caracas', 'Caracas', 'Medellin']"
            ]
          },
          "metadata": {},
          "execution_count": 46
        }
      ]
    },
    {
      "cell_type": "code",
      "source": [
        "l_01.remove('Caracas')"
      ],
      "metadata": {
        "id": "zIuRJbVEXGNi"
      },
      "execution_count": 44,
      "outputs": []
    },
    {
      "cell_type": "code",
      "source": [
        "l_01"
      ],
      "metadata": {
        "colab": {
          "base_uri": "https://localhost:8080/"
        },
        "id": "QatlcYqYXqEp",
        "outputId": "fb06ba08-3441-4894-de66-49c8fd64fefc"
      },
      "execution_count": 45,
      "outputs": [
        {
          "output_type": "execute_result",
          "data": {
            "text/plain": [
              "['Lima', 'New York', 'Caracas', 'Caracas', 'Caracas', 'Medellin']"
            ]
          },
          "metadata": {},
          "execution_count": 45
        }
      ]
    },
    {
      "cell_type": "code",
      "source": [],
      "metadata": {
        "id": "7aVQz1jIXqCB"
      },
      "execution_count": null,
      "outputs": []
    },
    {
      "cell_type": "code",
      "source": [],
      "metadata": {
        "id": "tOGr3qxsXp_r"
      },
      "execution_count": null,
      "outputs": []
    },
    {
      "cell_type": "code",
      "source": [],
      "metadata": {
        "id": "SVO3C2lnXp7j"
      },
      "execution_count": null,
      "outputs": []
    },
    {
      "cell_type": "code",
      "source": [
        "l_01.remove('')"
      ],
      "metadata": {
        "id": "_Yfu0nqEWxAt"
      },
      "execution_count": null,
      "outputs": []
    },
    {
      "cell_type": "code",
      "execution_count": 26,
      "metadata": {
        "id": "PjKJHU-FROsK",
        "colab": {
          "base_uri": "https://localhost:8080/"
        },
        "outputId": "a4320668-6816-4124-ab05-090a8d4d2a21"
      },
      "outputs": [
        {
          "output_type": "stream",
          "name": "stdout",
          "text": [
            "['Cali', 'México', 'Santiago', 'Lima', 'Caracas', 'New York', 'Lima', 'Lima', 'Caracas', 'Caracas', 'Buenos Aires', 'Buenos Aires']\n"
          ]
        }
      ],
      "source": [
        "Lista.append('Buenos Aires')\n",
        "print(Lista)\n"
      ]
    },
    {
      "cell_type": "code",
      "source": [
        "print"
      ],
      "metadata": {
        "colab": {
          "base_uri": "https://localhost:8080/",
          "height": 169
        },
        "id": "JmHfSFaqVvNm",
        "outputId": "6faf32dc-5507-4e9a-b2b0-1dd07bed3ddf"
      },
      "execution_count": 4,
      "outputs": [
        {
          "output_type": "error",
          "ename": "NameError",
          "evalue": "ignored",
          "traceback": [
            "\u001b[0;31m---------------------------------------------------------------------------\u001b[0m",
            "\u001b[0;31mNameError\u001b[0m                                 Traceback (most recent call last)",
            "\u001b[0;32m<ipython-input-4-83bc427bfd65>\u001b[0m in \u001b[0;36m<module>\u001b[0;34m\u001b[0m\n\u001b[0;32m----> 1\u001b[0;31m \u001b[0mprint\u001b[0m\u001b[0;34m(\u001b[0m\u001b[0mLista\u001b[0m\u001b[0;34m)\u001b[0m\u001b[0;34m\u001b[0m\u001b[0;34m\u001b[0m\u001b[0m\n\u001b[0m",
            "\u001b[0;31mNameError\u001b[0m: name 'Lista' is not defined"
          ]
        }
      ]
    },
    {
      "cell_type": "markdown",
      "metadata": {
        "id": "oJnijXrtROsL"
      },
      "source": [
        "8) Agregar otra ciudad, pero en la cuarta posición"
      ]
    },
    {
      "cell_type": "code",
      "execution_count": 17,
      "metadata": {
        "id": "-8plnal8ROsL",
        "colab": {
          "base_uri": "https://localhost:8080/",
          "height": 169
        },
        "outputId": "76edd7c3-0e15-4541-cb68-5f144127a4d3"
      },
      "outputs": [
        {
          "output_type": "error",
          "ename": "NameError",
          "evalue": "ignored",
          "traceback": [
            "\u001b[0;31m---------------------------------------------------------------------------\u001b[0m",
            "\u001b[0;31mNameError\u001b[0m                                 Traceback (most recent call last)",
            "\u001b[0;32m<ipython-input-17-8ba4b153fea0>\u001b[0m in \u001b[0;36m<module>\u001b[0;34m\u001b[0m\n\u001b[0;32m----> 1\u001b[0;31m \u001b[0mlista\u001b[0m\u001b[0;34m.\u001b[0m\u001b[0minsert\u001b[0m\u001b[0;34m(\u001b[0m\u001b[0;36m3\u001b[0m\u001b[0;34m,\u001b[0m \u001b[0;34m'Quito'\u001b[0m\u001b[0;34m)\u001b[0m\u001b[0;34m\u001b[0m\u001b[0;34m\u001b[0m\u001b[0m\n\u001b[0m",
            "\u001b[0;31mNameError\u001b[0m: name 'lista' is not defined"
          ]
        }
      ],
      "source": [
        "lista.insert(3, 'Quito')"
      ]
    },
    {
      "cell_type": "code",
      "execution_count": null,
      "metadata": {
        "id": "xtLuA4kvROsL",
        "outputId": "b4fe5732-15dd-4fc8-9b04-df04a288c3ac"
      },
      "outputs": [
        {
          "name": "stdout",
          "output_type": "stream",
          "text": [
            "['Buenos Aires', 'Brasilia', 'Asunción', 'Quito', 'Montevideo', 'Santiago', 'Lima', 'Caracas', 'Bogotá', 'Ciudad de Méjico', 'Montevideo']\n"
          ]
        }
      ],
      "source": [
        "print(lis)"
      ]
    },
    {
      "cell_type": "markdown",
      "metadata": {
        "id": "V5vPv38JROsL"
      },
      "source": [
        "9) Concatenar otra lista a la ya creada"
      ]
    },
    {
      "cell_type": "code",
      "execution_count": null,
      "metadata": {
        "id": "5lQcKHX9ROsM",
        "outputId": "5d766f71-6884-464d-b5cd-aa4469a81879"
      },
      "outputs": [
        {
          "name": "stdout",
          "output_type": "stream",
          "text": [
            "['Buenos Aires', 'Brasilia', 'Asunción', 'Quito', 'Montevideo', 'Santiago', 'Lima', 'Caracas', 'Bogotá', 'Ciudad de Méjico', 'Montevideo', 'Madrid', 'Roma', 'Bruselas']\n"
          ]
        }
      ],
      "source": [
        "lis.extend(['Madrid','Roma','Bruselas'])\n",
        "print(lis)"
      ]
    },
    {
      "cell_type": "markdown",
      "metadata": {
        "id": "le_glj40ROsM"
      },
      "source": [
        "10) Encontrar el índice de la ciudad que en el punto 7 agregamos duplicada. ¿Se nota alguna particularidad?"
      ]
    },
    {
      "cell_type": "code",
      "execution_count": null,
      "metadata": {
        "id": "f6eJ6uTtROsM",
        "outputId": "d2271ae1-0b7b-4b8e-d9cf-2485393b6604"
      },
      "outputs": [
        {
          "name": "stdout",
          "output_type": "stream",
          "text": [
            "4\n"
          ]
        }
      ],
      "source": [
        "print(lis.index('Montevideo'))"
      ]
    },
    {
      "cell_type": "markdown",
      "metadata": {
        "id": "MgwWRLXsROsM"
      },
      "source": [
        "11) ¿Qué pasa si se busca un elemento que no existe?"
      ]
    },
    {
      "cell_type": "code",
      "execution_count": null,
      "metadata": {
        "id": "IRqs1EDWROsM",
        "outputId": "e5f450f6-41c4-4549-8b05-5fef0335ad07"
      },
      "outputs": [
        {
          "ename": "ValueError",
          "evalue": "'París' is not in list",
          "output_type": "error",
          "traceback": [
            "\u001b[1;31m---------------------------------------------------------------------------\u001b[0m",
            "\u001b[1;31mValueError\u001b[0m                                Traceback (most recent call last)",
            "\u001b[1;32m~\\AppData\\Local\\Temp/ipykernel_2688/2999708316.py\u001b[0m in \u001b[0;36m<module>\u001b[1;34m\u001b[0m\n\u001b[1;32m----> 1\u001b[1;33m \u001b[0mprint\u001b[0m\u001b[1;33m(\u001b[0m\u001b[0mlis\u001b[0m\u001b[1;33m.\u001b[0m\u001b[0mindex\u001b[0m\u001b[1;33m(\u001b[0m\u001b[1;34m'París'\u001b[0m\u001b[1;33m)\u001b[0m\u001b[1;33m)\u001b[0m\u001b[1;33m\u001b[0m\u001b[1;33m\u001b[0m\u001b[0m\n\u001b[0m",
            "\u001b[1;31mValueError\u001b[0m: 'París' is not in list"
          ]
        }
      ],
      "source": [
        "print(lis.index('París'))"
      ]
    },
    {
      "cell_type": "markdown",
      "metadata": {
        "id": "3nkJKIixROsN"
      },
      "source": [
        "12) Eliminar un elemento de la lista"
      ]
    },
    {
      "cell_type": "code",
      "execution_count": null,
      "metadata": {
        "id": "F3yvqsFWROsN"
      },
      "outputs": [],
      "source": [
        "lis.remove('Buenos Aires')"
      ]
    },
    {
      "cell_type": "code",
      "execution_count": null,
      "metadata": {
        "id": "OWdOnGaiROsN",
        "outputId": "b4d0bdae-b026-4fde-8102-e8ab8685680b"
      },
      "outputs": [
        {
          "name": "stdout",
          "output_type": "stream",
          "text": [
            "['Brasilia', 'Asunción', 'Quito', 'Montevideo', 'Santiago', 'Lima', 'Caracas', 'Bogotá', 'Ciudad de Méjico', 'Montevideo', 'Madrid', 'Roma', 'Bruselas']\n"
          ]
        }
      ],
      "source": [
        "print(lis)"
      ]
    },
    {
      "cell_type": "markdown",
      "metadata": {
        "id": "dfeDHKHQROsN"
      },
      "source": [
        "13) ¿Qué pasa si el elemento a eliminar no existe?"
      ]
    },
    {
      "cell_type": "code",
      "execution_count": null,
      "metadata": {
        "id": "BVCMYxTaROsN",
        "outputId": "3ff0b084-49e8-4627-aeea-52d0374ff248"
      },
      "outputs": [
        {
          "ename": "ValueError",
          "evalue": "list.remove(x): x not in list",
          "output_type": "error",
          "traceback": [
            "\u001b[1;31m---------------------------------------------------------------------------\u001b[0m",
            "\u001b[1;31mValueError\u001b[0m                                Traceback (most recent call last)",
            "\u001b[1;32m~\\AppData\\Local\\Temp/ipykernel_2688/2377769693.py\u001b[0m in \u001b[0;36m<module>\u001b[1;34m\u001b[0m\n\u001b[1;32m----> 1\u001b[1;33m \u001b[0mlis\u001b[0m\u001b[1;33m.\u001b[0m\u001b[0mremove\u001b[0m\u001b[1;33m(\u001b[0m\u001b[1;34m'Buenos Aires'\u001b[0m\u001b[1;33m)\u001b[0m\u001b[1;33m\u001b[0m\u001b[1;33m\u001b[0m\u001b[0m\n\u001b[0m",
            "\u001b[1;31mValueError\u001b[0m: list.remove(x): x not in list"
          ]
        }
      ],
      "source": [
        "lis.remove('Buenos Aires')"
      ]
    },
    {
      "cell_type": "markdown",
      "metadata": {
        "id": "gdOLYh-rROsO"
      },
      "source": [
        "14) Extraer el úlimo elemento de la lista, guardarlo en una variable e imprimirlo"
      ]
    },
    {
      "cell_type": "code",
      "execution_count": null,
      "metadata": {
        "id": "wMir7tV3ROsO",
        "outputId": "9c410a49-013b-4bac-c751-cfd8c515aedf"
      },
      "outputs": [
        {
          "name": "stdout",
          "output_type": "stream",
          "text": [
            "Bruselas\n"
          ]
        }
      ],
      "source": [
        "ultimo = lis.pop()\n",
        "print(ultimo)"
      ]
    },
    {
      "cell_type": "markdown",
      "metadata": {
        "id": "Wn7YNvm-ROsO"
      },
      "source": [
        "15) Mostrar la lista multiplicada por 4"
      ]
    },
    {
      "cell_type": "code",
      "execution_count": null,
      "metadata": {
        "id": "nyqDyOksROsO",
        "outputId": "89980083-1d04-4b98-8659-81ae0ee10d6e"
      },
      "outputs": [
        {
          "name": "stdout",
          "output_type": "stream",
          "text": [
            "['Brasilia', 'Asunción', 'Quito', 'Montevideo', 'Santiago', 'Lima', 'Caracas', 'Bogotá', 'Ciudad de Méjico', 'Montevideo', 'Madrid', 'Roma', 'Brasilia', 'Asunción', 'Quito', 'Montevideo', 'Santiago', 'Lima', 'Caracas', 'Bogotá', 'Ciudad de Méjico', 'Montevideo', 'Madrid', 'Roma', 'Brasilia', 'Asunción', 'Quito', 'Montevideo', 'Santiago', 'Lima', 'Caracas', 'Bogotá', 'Ciudad de Méjico', 'Montevideo', 'Madrid', 'Roma', 'Brasilia', 'Asunción', 'Quito', 'Montevideo', 'Santiago', 'Lima', 'Caracas', 'Bogotá', 'Ciudad de Méjico', 'Montevideo', 'Madrid', 'Roma']\n"
          ]
        }
      ],
      "source": [
        "print(lis * 4)"
      ]
    },
    {
      "cell_type": "markdown",
      "metadata": {
        "id": "oSMArFOcROsO"
      },
      "source": [
        "16) Crear una tupla que contenga los números enteros del 1 al 20"
      ]
    },
    {
      "cell_type": "code",
      "execution_count": null,
      "metadata": {
        "id": "VR6xfQMQROsO",
        "outputId": "ab395d4d-25b4-4523-cd1d-214f45e3392e"
      },
      "outputs": [
        {
          "name": "stdout",
          "output_type": "stream",
          "text": [
            "<class 'tuple'>\n",
            "(1, 2, 3, 4, 5, 6, 7, 8, 9, 10, 11, 12, 13, 14, 15, 16, 17, 18, 19, 20)\n"
          ]
        }
      ],
      "source": [
        "tup = (1,2,3,4,5,6,7,8,9,10,11,12,13,14,15,16,17,18,19,20)\n",
        "print(type(tup))\n",
        "print(tup)"
      ]
    },
    {
      "cell_type": "markdown",
      "metadata": {
        "id": "1uROYokrROsP"
      },
      "source": [
        "17) Imprimir desde el índice 10 al 15 de la tupla"
      ]
    },
    {
      "cell_type": "code",
      "execution_count": null,
      "metadata": {
        "id": "OqH_7bzQROsP",
        "outputId": "7f98ca02-8c10-454c-bf9a-d6d4ddf6724c"
      },
      "outputs": [
        {
          "name": "stdout",
          "output_type": "stream",
          "text": [
            "(11, 12, 13, 14, 15, 16)\n"
          ]
        }
      ],
      "source": [
        "print(tup[10:16])"
      ]
    },
    {
      "cell_type": "markdown",
      "metadata": {
        "id": "Sf3asE-cROsP"
      },
      "source": [
        "18) Evaluar si los números 20 y 30 están dentro de la tupla"
      ]
    },
    {
      "cell_type": "code",
      "execution_count": null,
      "metadata": {
        "id": "212OYKujROsP",
        "outputId": "b9b655f5-1d89-47eb-926e-c87db1d561c6"
      },
      "outputs": [
        {
          "name": "stdout",
          "output_type": "stream",
          "text": [
            "True\n",
            "False\n"
          ]
        }
      ],
      "source": [
        "print(20 in tup)\n",
        "print(30 in tup)"
      ]
    },
    {
      "cell_type": "markdown",
      "metadata": {
        "id": "28EC58KMROsP"
      },
      "source": [
        "19) Con la lista creada en el punto 1, validar la existencia del elemento 'París' y si no existe, agregarlo. Utilizar una variable e informar lo sucedido."
      ]
    },
    {
      "cell_type": "code",
      "execution_count": null,
      "metadata": {
        "id": "WUqfVjPLROsP",
        "outputId": "9a7323f1-78b7-4dd5-e7ea-f2a5f5bd7d87"
      },
      "outputs": [
        {
          "name": "stdout",
          "output_type": "stream",
          "text": [
            "Se insertó el elemento París\n"
          ]
        }
      ],
      "source": [
        "elemento = 'París'\n",
        "if (not(elemento in lis)):\n",
        "    lis.append(elemento)\n",
        "    print('Se insertó el elemento', elemento)\n",
        "else:\n",
        "    print('El elemento', elemento, 'ya existía')\n"
      ]
    },
    {
      "cell_type": "markdown",
      "metadata": {
        "id": "ro4pPPTCROsQ"
      },
      "source": [
        "20) Mostrar la cantidad de veces que se encuentra un elemento específico dentro de la tupla y de la lista"
      ]
    },
    {
      "cell_type": "code",
      "execution_count": null,
      "metadata": {
        "id": "WQLIsL-zROsQ",
        "outputId": "5f7468f8-c910-47f1-ce57-a11d17e9d8a0"
      },
      "outputs": [
        {
          "name": "stdout",
          "output_type": "stream",
          "text": [
            "1\n",
            "2\n"
          ]
        }
      ],
      "source": [
        "print(tup.count(10))\n",
        "print(lis.count('Montevideo'))"
      ]
    },
    {
      "cell_type": "markdown",
      "metadata": {
        "id": "swMx8CRyROsQ"
      },
      "source": [
        "21) Convertir la tupla en una lista"
      ]
    },
    {
      "cell_type": "code",
      "execution_count": null,
      "metadata": {
        "id": "Xr4CBIKZROsQ",
        "outputId": "d5a3aa52-5c36-4bd8-b8ab-d598591efb7f"
      },
      "outputs": [
        {
          "name": "stdout",
          "output_type": "stream",
          "text": [
            "[1, 2, 3, 4, 5, 6, 7, 8, 9, 10, 11, 12, 13, 14, 15, 16, 17, 18, 19, 20]\n"
          ]
        }
      ],
      "source": [
        "lis2=list(tup)\n",
        "print(lis2)"
      ]
    },
    {
      "cell_type": "markdown",
      "metadata": {
        "id": "hFv2f6efROsR"
      },
      "source": [
        "22) Desempaquetar solo los primeros 3 elementos de la tupla en 3 variables"
      ]
    },
    {
      "cell_type": "code",
      "execution_count": null,
      "metadata": {
        "id": "Fae6ERtDROsR",
        "outputId": "c29c4d72-8e3c-4f5b-8296-e78c11db7a59"
      },
      "outputs": [
        {
          "name": "stdout",
          "output_type": "stream",
          "text": [
            "1\n",
            "2\n",
            "3\n"
          ]
        }
      ],
      "source": [
        "v1, v2, v3, _, _, _, _, _, _, _, _, _, _, _, _, _, _, _, _, _ = tup\n",
        "print(v1)\n",
        "print(v2)\n",
        "print(v3)"
      ]
    },
    {
      "cell_type": "markdown",
      "metadata": {
        "id": "Kafvp84hROsR"
      },
      "source": [
        "23) Crear un diccionario utilizando la lista crada en el punto 1, asignandole la clave \"ciudad\". Agregar tambien otras claves, como puede ser \"Pais\" y \"Continente\"."
      ]
    },
    {
      "cell_type": "code",
      "execution_count": null,
      "metadata": {
        "id": "sps9fuesROsR"
      },
      "outputs": [],
      "source": [
        "dicc = {  'Ciudad': lis, \n",
        "'País': ['Brasil','Paraguay','Ecuador','Uruguay','Chile','Perú','Venezuela','Colombia','Méjico','Uruguay','España','Italia','Francia'], \n",
        "'Continente' : ['América','América','América','América','América','América','América','América','América','América','Europa','Europa','Europa']}"
      ]
    },
    {
      "cell_type": "code",
      "execution_count": null,
      "metadata": {
        "id": "HKn5wOyaROsR",
        "outputId": "ccc76cab-2d64-4e2c-e6c3-b704e1a48022"
      },
      "outputs": [
        {
          "name": "stdout",
          "output_type": "stream",
          "text": [
            "{'Ciudad': ['Brasilia', 'Asunción', 'Quito', 'Montevideo', 'Santiago', 'Lima', 'Caracas', 'Bogotá', 'Ciudad de Méjico', 'Montevideo', 'Madrid', 'Roma', 'París'], 'País': ['Brasil', 'Paraguay', 'Ecuador', 'Uruguay', 'Chile', 'Perú', 'Venezuela', 'Colombia', 'Méjico', 'Uruguay', 'España', 'Italia', 'Francia'], 'Continente': ['América', 'América', 'América', 'América', 'América', 'América', 'América', 'América', 'América', 'América', 'Europa', 'Europa', 'Europa']}\n"
          ]
        }
      ],
      "source": [
        "print(dicc)"
      ]
    },
    {
      "cell_type": "markdown",
      "metadata": {
        "id": "fcTWxVFpROsR"
      },
      "source": [
        "24) Imprimir las claves del diccionario"
      ]
    },
    {
      "cell_type": "code",
      "execution_count": null,
      "metadata": {
        "id": "fqOoCzRMROsR",
        "outputId": "56d004ac-4cb9-4b20-f26a-e7552610377b"
      },
      "outputs": [
        {
          "name": "stdout",
          "output_type": "stream",
          "text": [
            "dict_keys(['Ciudad', 'País', 'Continente'])\n"
          ]
        }
      ],
      "source": [
        "print(dicc.keys())"
      ]
    },
    {
      "cell_type": "markdown",
      "metadata": {
        "id": "eJiiEgbnROsS"
      },
      "source": [
        "25) Imprimir las ciudades a través de su clave"
      ]
    },
    {
      "cell_type": "code",
      "execution_count": null,
      "metadata": {
        "id": "jUx_n7pIROsS",
        "outputId": "f20486f7-f71e-4b67-85ba-7e48eb1381b2"
      },
      "outputs": [
        {
          "name": "stdout",
          "output_type": "stream",
          "text": [
            "['Brasilia', 'Asunción', 'Quito', 'Montevideo', 'Santiago', 'Lima', 'Caracas', 'Bogotá', 'Ciudad de Méjico', 'Montevideo', 'Madrid', 'Roma', 'París']\n"
          ]
        }
      ],
      "source": [
        "print(dicc['Ciudad'])"
      ]
    }
  ],
  "metadata": {
    "interpreter": {
      "hash": "c85384e4cb51c8b72350f3a8712cc8351fdc3955e32a27f9b60c6242ab125f01"
    },
    "kernelspec": {
      "display_name": "Python 3 (ipykernel)",
      "language": "python",
      "name": "python3"
    },
    "language_info": {
      "codemirror_mode": {
        "name": "ipython",
        "version": 3
      },
      "file_extension": ".py",
      "mimetype": "text/x-python",
      "name": "python",
      "nbconvert_exporter": "python",
      "pygments_lexer": "ipython3",
      "version": "3.9.7"
    },
    "colab": {
      "provenance": [],
      "include_colab_link": true
    }
  },
  "nbformat": 4,
  "nbformat_minor": 0
}