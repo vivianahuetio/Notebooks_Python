{
  "cells": [
    {
      "cell_type": "markdown",
      "metadata": {
        "id": "view-in-github",
        "colab_type": "text"
      },
      "source": [
        "<a href=\"https://colab.research.google.com/github/vivianahuetio/Notebooks_Python/blob/main/NB_03_Estructuras_de_datos.ipynb\" target=\"_parent\"><img src=\"https://colab.research.google.com/assets/colab-badge.svg\" alt=\"Open In Colab\"/></a>"
      ]
    },
    {
      "cell_type": "markdown",
      "metadata": {
        "id": "gOo6-K8OROr-"
      },
      "source": [
        "## Estructuras de Datos"
      ]
    },
    {
      "cell_type": "markdown",
      "metadata": {
        "id": "2h7JOt_SROsC"
      },
      "source": [
        "1) Crear una lista que contenga nombres de ciudades del mundo que contenga más de 5 elementos e imprimir por pantalla"
      ]
    },
    {
      "cell_type": "code",
      "execution_count": null,
      "metadata": {
        "id": "bCRYLmk4ROsD",
        "outputId": "c3d5bbef-b2de-4ad9-feca-71d1b0295271"
      },
      "outputs": [
        {
          "name": "stdout",
          "output_type": "stream",
          "text": [
            "['Buenos Aires', 'Brasilia', 'Asunción', 'Montevideo', 'Santiago', 'Lima', 'Caracas', 'Bogotá']\n"
          ]
        }
      ],
      "source": [
        "lis = ['Buenos Aires','Brasilia','Asunción','Montevideo','Santiago','Lima','Caracas','Bogotá']\n",
        "print(lis)"
      ]
    },
    {
      "cell_type": "markdown",
      "metadata": {
        "id": "VCrh2XrdROsF"
      },
      "source": [
        "2) Imprimir por pantalla el segundo elemento de la lista"
      ]
    },
    {
      "cell_type": "code",
      "execution_count": null,
      "metadata": {
        "id": "tiWRkyqFROsF",
        "outputId": "079d6a62-8c33-493c-87da-642f1a74d14f"
      },
      "outputs": [
        {
          "name": "stdout",
          "output_type": "stream",
          "text": [
            "Brasilia\n"
          ]
        }
      ],
      "source": [
        "print(lis[1])"
      ]
    },
    {
      "cell_type": "markdown",
      "metadata": {
        "id": "Swqo5QLAROsG"
      },
      "source": [
        "3) Imprimir por pantalla del segundo al cuarto elemento"
      ]
    },
    {
      "cell_type": "code",
      "execution_count": null,
      "metadata": {
        "id": "5vSXTkn5ROsG",
        "outputId": "e7a4b9e5-71af-46d8-e57b-9541f7478879"
      },
      "outputs": [
        {
          "name": "stdout",
          "output_type": "stream",
          "text": [
            "['Brasilia', 'Asunción', 'Montevideo']\n"
          ]
        }
      ],
      "source": [
        "print(lis[1:4])"
      ]
    },
    {
      "cell_type": "markdown",
      "metadata": {
        "id": "ECqEJfz0ROsH"
      },
      "source": [
        "4) Visualizar el tipo de dato de la lista"
      ]
    },
    {
      "cell_type": "code",
      "execution_count": null,
      "metadata": {
        "id": "VAMTuVPhROsI",
        "outputId": "6e4323ec-d7cd-40d2-993b-3fb2857377e8"
      },
      "outputs": [
        {
          "name": "stdout",
          "output_type": "stream",
          "text": [
            "<class 'list'>\n"
          ]
        }
      ],
      "source": [
        "print(type(lis))"
      ]
    },
    {
      "cell_type": "markdown",
      "metadata": {
        "id": "DA8jxl0ZROsI"
      },
      "source": [
        "5) Visualizar todos los elementos de la lista a partir del tercero de manera genérica, es decir, sin explicitar la posición del último elemento"
      ]
    },
    {
      "cell_type": "code",
      "execution_count": null,
      "metadata": {
        "id": "s6JQ6vJxROsJ",
        "outputId": "c7527b83-9bf3-4db8-a2ba-0ba168cd63c3"
      },
      "outputs": [
        {
          "name": "stdout",
          "output_type": "stream",
          "text": [
            "['Asunción', 'Montevideo', 'Santiago', 'Lima', 'Caracas', 'Bogotá']\n"
          ]
        }
      ],
      "source": [
        "print(lis[2:])"
      ]
    },
    {
      "cell_type": "markdown",
      "metadata": {
        "id": "O1a70R0zROsJ"
      },
      "source": [
        "6) Visualizar los primeros 4 elementos de la lista"
      ]
    },
    {
      "cell_type": "code",
      "execution_count": null,
      "metadata": {
        "id": "ZmxJun2FROsJ",
        "outputId": "544b06c1-bd99-487f-f448-428a683f6da5"
      },
      "outputs": [
        {
          "name": "stdout",
          "output_type": "stream",
          "text": [
            "['Buenos Aires', 'Brasilia', 'Asunción', 'Montevideo']\n"
          ]
        }
      ],
      "source": [
        "print(lis[:4])\n",
        "    "
      ]
    },
    {
      "cell_type": "markdown",
      "metadata": {
        "id": "zMCsecGzROsK"
      },
      "source": [
        "7) Agregar una ciudad más a la lista que ya exista y otra que no ¿Arroja algún tipo de error?"
      ]
    },
    {
      "cell_type": "code",
      "execution_count": null,
      "metadata": {
        "id": "PjKJHU-FROsK"
      },
      "outputs": [],
      "source": [
        "lis.append('Ciudad de Méjico')"
      ]
    },
    {
      "cell_type": "code",
      "execution_count": null,
      "metadata": {
        "id": "1xEkl-zqROsK"
      },
      "outputs": [],
      "source": [
        "lis.append('Montevideo')"
      ]
    },
    {
      "cell_type": "code",
      "execution_count": null,
      "metadata": {
        "id": "PnuScs_qROsK",
        "outputId": "4dc1b561-cf95-4d32-e1e2-d81ec64bde1a"
      },
      "outputs": [
        {
          "name": "stdout",
          "output_type": "stream",
          "text": [
            "['Buenos Aires', 'Brasilia', 'Asunción', 'Montevideo', 'Santiago', 'Lima', 'Caracas', 'Bogotá', 'Ciudad de Méjico', 'Montevideo']\n"
          ]
        }
      ],
      "source": [
        "print(lis)"
      ]
    },
    {
      "cell_type": "markdown",
      "metadata": {
        "id": "oJnijXrtROsL"
      },
      "source": [
        "8) Agregar otra ciudad, pero en la cuarta posición"
      ]
    },
    {
      "cell_type": "code",
      "execution_count": null,
      "metadata": {
        "id": "-8plnal8ROsL"
      },
      "outputs": [],
      "source": [
        "lis.insert(3, 'Quito')"
      ]
    },
    {
      "cell_type": "code",
      "execution_count": null,
      "metadata": {
        "id": "xtLuA4kvROsL",
        "outputId": "b4fe5732-15dd-4fc8-9b04-df04a288c3ac"
      },
      "outputs": [
        {
          "name": "stdout",
          "output_type": "stream",
          "text": [
            "['Buenos Aires', 'Brasilia', 'Asunción', 'Quito', 'Montevideo', 'Santiago', 'Lima', 'Caracas', 'Bogotá', 'Ciudad de Méjico', 'Montevideo']\n"
          ]
        }
      ],
      "source": [
        "print(lis)"
      ]
    },
    {
      "cell_type": "markdown",
      "metadata": {
        "id": "V5vPv38JROsL"
      },
      "source": [
        "9) Concatenar otra lista a la ya creada"
      ]
    },
    {
      "cell_type": "code",
      "execution_count": null,
      "metadata": {
        "id": "5lQcKHX9ROsM",
        "outputId": "5d766f71-6884-464d-b5cd-aa4469a81879"
      },
      "outputs": [
        {
          "name": "stdout",
          "output_type": "stream",
          "text": [
            "['Buenos Aires', 'Brasilia', 'Asunción', 'Quito', 'Montevideo', 'Santiago', 'Lima', 'Caracas', 'Bogotá', 'Ciudad de Méjico', 'Montevideo', 'Madrid', 'Roma', 'Bruselas']\n"
          ]
        }
      ],
      "source": [
        "lis.extend(['Madrid','Roma','Bruselas'])\n",
        "print(lis)"
      ]
    },
    {
      "cell_type": "markdown",
      "metadata": {
        "id": "le_glj40ROsM"
      },
      "source": [
        "10) Encontrar el índice de la ciudad que en el punto 7 agregamos duplicada. ¿Se nota alguna particularidad?"
      ]
    },
    {
      "cell_type": "code",
      "execution_count": null,
      "metadata": {
        "id": "f6eJ6uTtROsM",
        "outputId": "d2271ae1-0b7b-4b8e-d9cf-2485393b6604"
      },
      "outputs": [
        {
          "name": "stdout",
          "output_type": "stream",
          "text": [
            "4\n"
          ]
        }
      ],
      "source": [
        "print(lis.index('Montevideo'))"
      ]
    },
    {
      "cell_type": "markdown",
      "metadata": {
        "id": "MgwWRLXsROsM"
      },
      "source": [
        "11) ¿Qué pasa si se busca un elemento que no existe?"
      ]
    },
    {
      "cell_type": "code",
      "execution_count": null,
      "metadata": {
        "id": "IRqs1EDWROsM",
        "outputId": "e5f450f6-41c4-4549-8b05-5fef0335ad07"
      },
      "outputs": [
        {
          "ename": "ValueError",
          "evalue": "'París' is not in list",
          "output_type": "error",
          "traceback": [
            "\u001b[1;31m---------------------------------------------------------------------------\u001b[0m",
            "\u001b[1;31mValueError\u001b[0m                                Traceback (most recent call last)",
            "\u001b[1;32m~\\AppData\\Local\\Temp/ipykernel_2688/2999708316.py\u001b[0m in \u001b[0;36m<module>\u001b[1;34m\u001b[0m\n\u001b[1;32m----> 1\u001b[1;33m \u001b[0mprint\u001b[0m\u001b[1;33m(\u001b[0m\u001b[0mlis\u001b[0m\u001b[1;33m.\u001b[0m\u001b[0mindex\u001b[0m\u001b[1;33m(\u001b[0m\u001b[1;34m'París'\u001b[0m\u001b[1;33m)\u001b[0m\u001b[1;33m)\u001b[0m\u001b[1;33m\u001b[0m\u001b[1;33m\u001b[0m\u001b[0m\n\u001b[0m",
            "\u001b[1;31mValueError\u001b[0m: 'París' is not in list"
          ]
        }
      ],
      "source": [
        "print(lis.index('París'))"
      ]
    },
    {
      "cell_type": "markdown",
      "metadata": {
        "id": "3nkJKIixROsN"
      },
      "source": [
        "12) Eliminar un elemento de la lista"
      ]
    },
    {
      "cell_type": "code",
      "execution_count": null,
      "metadata": {
        "id": "F3yvqsFWROsN"
      },
      "outputs": [],
      "source": [
        "lis.remove('Buenos Aires')"
      ]
    },
    {
      "cell_type": "code",
      "execution_count": null,
      "metadata": {
        "id": "OWdOnGaiROsN",
        "outputId": "b4d0bdae-b026-4fde-8102-e8ab8685680b"
      },
      "outputs": [
        {
          "name": "stdout",
          "output_type": "stream",
          "text": [
            "['Brasilia', 'Asunción', 'Quito', 'Montevideo', 'Santiago', 'Lima', 'Caracas', 'Bogotá', 'Ciudad de Méjico', 'Montevideo', 'Madrid', 'Roma', 'Bruselas']\n"
          ]
        }
      ],
      "source": [
        "print(lis)"
      ]
    },
    {
      "cell_type": "markdown",
      "metadata": {
        "id": "dfeDHKHQROsN"
      },
      "source": [
        "13) ¿Qué pasa si el elemento a eliminar no existe?"
      ]
    },
    {
      "cell_type": "code",
      "execution_count": null,
      "metadata": {
        "id": "BVCMYxTaROsN",
        "outputId": "3ff0b084-49e8-4627-aeea-52d0374ff248"
      },
      "outputs": [
        {
          "ename": "ValueError",
          "evalue": "list.remove(x): x not in list",
          "output_type": "error",
          "traceback": [
            "\u001b[1;31m---------------------------------------------------------------------------\u001b[0m",
            "\u001b[1;31mValueError\u001b[0m                                Traceback (most recent call last)",
            "\u001b[1;32m~\\AppData\\Local\\Temp/ipykernel_2688/2377769693.py\u001b[0m in \u001b[0;36m<module>\u001b[1;34m\u001b[0m\n\u001b[1;32m----> 1\u001b[1;33m \u001b[0mlis\u001b[0m\u001b[1;33m.\u001b[0m\u001b[0mremove\u001b[0m\u001b[1;33m(\u001b[0m\u001b[1;34m'Buenos Aires'\u001b[0m\u001b[1;33m)\u001b[0m\u001b[1;33m\u001b[0m\u001b[1;33m\u001b[0m\u001b[0m\n\u001b[0m",
            "\u001b[1;31mValueError\u001b[0m: list.remove(x): x not in list"
          ]
        }
      ],
      "source": [
        "lis.remove('Buenos Aires')"
      ]
    },
    {
      "cell_type": "markdown",
      "metadata": {
        "id": "gdOLYh-rROsO"
      },
      "source": [
        "14) Extraer el úlimo elemento de la lista, guardarlo en una variable e imprimirlo"
      ]
    },
    {
      "cell_type": "code",
      "execution_count": null,
      "metadata": {
        "id": "wMir7tV3ROsO",
        "outputId": "9c410a49-013b-4bac-c751-cfd8c515aedf"
      },
      "outputs": [
        {
          "name": "stdout",
          "output_type": "stream",
          "text": [
            "Bruselas\n"
          ]
        }
      ],
      "source": [
        "ultimo = lis.pop()\n",
        "print(ultimo)"
      ]
    },
    {
      "cell_type": "markdown",
      "metadata": {
        "id": "Wn7YNvm-ROsO"
      },
      "source": [
        "15) Mostrar la lista multiplicada por 4"
      ]
    },
    {
      "cell_type": "code",
      "execution_count": null,
      "metadata": {
        "id": "nyqDyOksROsO",
        "outputId": "89980083-1d04-4b98-8659-81ae0ee10d6e"
      },
      "outputs": [
        {
          "name": "stdout",
          "output_type": "stream",
          "text": [
            "['Brasilia', 'Asunción', 'Quito', 'Montevideo', 'Santiago', 'Lima', 'Caracas', 'Bogotá', 'Ciudad de Méjico', 'Montevideo', 'Madrid', 'Roma', 'Brasilia', 'Asunción', 'Quito', 'Montevideo', 'Santiago', 'Lima', 'Caracas', 'Bogotá', 'Ciudad de Méjico', 'Montevideo', 'Madrid', 'Roma', 'Brasilia', 'Asunción', 'Quito', 'Montevideo', 'Santiago', 'Lima', 'Caracas', 'Bogotá', 'Ciudad de Méjico', 'Montevideo', 'Madrid', 'Roma', 'Brasilia', 'Asunción', 'Quito', 'Montevideo', 'Santiago', 'Lima', 'Caracas', 'Bogotá', 'Ciudad de Méjico', 'Montevideo', 'Madrid', 'Roma']\n"
          ]
        }
      ],
      "source": [
        "print(lis * 4)"
      ]
    },
    {
      "cell_type": "markdown",
      "metadata": {
        "id": "oSMArFOcROsO"
      },
      "source": [
        "16) Crear una tupla que contenga los números enteros del 1 al 20"
      ]
    },
    {
      "cell_type": "code",
      "execution_count": null,
      "metadata": {
        "id": "VR6xfQMQROsO",
        "outputId": "ab395d4d-25b4-4523-cd1d-214f45e3392e"
      },
      "outputs": [
        {
          "name": "stdout",
          "output_type": "stream",
          "text": [
            "<class 'tuple'>\n",
            "(1, 2, 3, 4, 5, 6, 7, 8, 9, 10, 11, 12, 13, 14, 15, 16, 17, 18, 19, 20)\n"
          ]
        }
      ],
      "source": [
        "tup = (1,2,3,4,5,6,7,8,9,10,11,12,13,14,15,16,17,18,19,20)\n",
        "print(type(tup))\n",
        "print(tup)"
      ]
    },
    {
      "cell_type": "markdown",
      "metadata": {
        "id": "1uROYokrROsP"
      },
      "source": [
        "17) Imprimir desde el índice 10 al 15 de la tupla"
      ]
    },
    {
      "cell_type": "code",
      "execution_count": null,
      "metadata": {
        "id": "OqH_7bzQROsP",
        "outputId": "7f98ca02-8c10-454c-bf9a-d6d4ddf6724c"
      },
      "outputs": [
        {
          "name": "stdout",
          "output_type": "stream",
          "text": [
            "(11, 12, 13, 14, 15, 16)\n"
          ]
        }
      ],
      "source": [
        "print(tup[10:16])"
      ]
    },
    {
      "cell_type": "markdown",
      "metadata": {
        "id": "Sf3asE-cROsP"
      },
      "source": [
        "18) Evaluar si los números 20 y 30 están dentro de la tupla"
      ]
    },
    {
      "cell_type": "code",
      "execution_count": null,
      "metadata": {
        "id": "212OYKujROsP",
        "outputId": "b9b655f5-1d89-47eb-926e-c87db1d561c6"
      },
      "outputs": [
        {
          "name": "stdout",
          "output_type": "stream",
          "text": [
            "True\n",
            "False\n"
          ]
        }
      ],
      "source": [
        "print(20 in tup)\n",
        "print(30 in tup)"
      ]
    },
    {
      "cell_type": "markdown",
      "metadata": {
        "id": "28EC58KMROsP"
      },
      "source": [
        "19) Con la lista creada en el punto 1, validar la existencia del elemento 'París' y si no existe, agregarlo. Utilizar una variable e informar lo sucedido."
      ]
    },
    {
      "cell_type": "code",
      "execution_count": null,
      "metadata": {
        "id": "WUqfVjPLROsP",
        "outputId": "9a7323f1-78b7-4dd5-e7ea-f2a5f5bd7d87"
      },
      "outputs": [
        {
          "name": "stdout",
          "output_type": "stream",
          "text": [
            "Se insertó el elemento París\n"
          ]
        }
      ],
      "source": [
        "elemento = 'París'\n",
        "if (not(elemento in lis)):\n",
        "    lis.append(elemento)\n",
        "    print('Se insertó el elemento', elemento)\n",
        "else:\n",
        "    print('El elemento', elemento, 'ya existía')\n"
      ]
    },
    {
      "cell_type": "markdown",
      "metadata": {
        "id": "ro4pPPTCROsQ"
      },
      "source": [
        "20) Mostrar la cantidad de veces que se encuentra un elemento específico dentro de la tupla y de la lista"
      ]
    },
    {
      "cell_type": "code",
      "execution_count": null,
      "metadata": {
        "id": "WQLIsL-zROsQ",
        "outputId": "5f7468f8-c910-47f1-ce57-a11d17e9d8a0"
      },
      "outputs": [
        {
          "name": "stdout",
          "output_type": "stream",
          "text": [
            "1\n",
            "2\n"
          ]
        }
      ],
      "source": [
        "print(tup.count(10))\n",
        "print(lis.count('Montevideo'))"
      ]
    },
    {
      "cell_type": "markdown",
      "metadata": {
        "id": "swMx8CRyROsQ"
      },
      "source": [
        "21) Convertir la tupla en una lista"
      ]
    },
    {
      "cell_type": "code",
      "execution_count": null,
      "metadata": {
        "id": "Xr4CBIKZROsQ",
        "outputId": "d5a3aa52-5c36-4bd8-b8ab-d598591efb7f"
      },
      "outputs": [
        {
          "name": "stdout",
          "output_type": "stream",
          "text": [
            "[1, 2, 3, 4, 5, 6, 7, 8, 9, 10, 11, 12, 13, 14, 15, 16, 17, 18, 19, 20]\n"
          ]
        }
      ],
      "source": [
        "lis2=list(tup)\n",
        "print(lis2)"
      ]
    },
    {
      "cell_type": "markdown",
      "metadata": {
        "id": "hFv2f6efROsR"
      },
      "source": [
        "22) Desempaquetar solo los primeros 3 elementos de la tupla en 3 variables"
      ]
    },
    {
      "cell_type": "code",
      "execution_count": null,
      "metadata": {
        "id": "Fae6ERtDROsR",
        "outputId": "c29c4d72-8e3c-4f5b-8296-e78c11db7a59"
      },
      "outputs": [
        {
          "name": "stdout",
          "output_type": "stream",
          "text": [
            "1\n",
            "2\n",
            "3\n"
          ]
        }
      ],
      "source": [
        "v1, v2, v3, _, _, _, _, _, _, _, _, _, _, _, _, _, _, _, _, _ = tup\n",
        "print(v1)\n",
        "print(v2)\n",
        "print(v3)"
      ]
    },
    {
      "cell_type": "markdown",
      "metadata": {
        "id": "Kafvp84hROsR"
      },
      "source": [
        "23) Crear un diccionario utilizando la lista crada en el punto 1, asignandole la clave \"ciudad\". Agregar tambien otras claves, como puede ser \"Pais\" y \"Continente\"."
      ]
    },
    {
      "cell_type": "code",
      "execution_count": null,
      "metadata": {
        "id": "sps9fuesROsR"
      },
      "outputs": [],
      "source": [
        "dicc = {  'Ciudad': lis, \n",
        "'País': ['Brasil','Paraguay','Ecuador','Uruguay','Chile','Perú','Venezuela','Colombia','Méjico','Uruguay','España','Italia','Francia'], \n",
        "'Continente' : ['América','América','América','América','América','América','América','América','América','América','Europa','Europa','Europa']}"
      ]
    },
    {
      "cell_type": "code",
      "execution_count": null,
      "metadata": {
        "id": "HKn5wOyaROsR",
        "outputId": "ccc76cab-2d64-4e2c-e6c3-b704e1a48022"
      },
      "outputs": [
        {
          "name": "stdout",
          "output_type": "stream",
          "text": [
            "{'Ciudad': ['Brasilia', 'Asunción', 'Quito', 'Montevideo', 'Santiago', 'Lima', 'Caracas', 'Bogotá', 'Ciudad de Méjico', 'Montevideo', 'Madrid', 'Roma', 'París'], 'País': ['Brasil', 'Paraguay', 'Ecuador', 'Uruguay', 'Chile', 'Perú', 'Venezuela', 'Colombia', 'Méjico', 'Uruguay', 'España', 'Italia', 'Francia'], 'Continente': ['América', 'América', 'América', 'América', 'América', 'América', 'América', 'América', 'América', 'América', 'Europa', 'Europa', 'Europa']}\n"
          ]
        }
      ],
      "source": [
        "print(dicc)"
      ]
    },
    {
      "cell_type": "markdown",
      "metadata": {
        "id": "fcTWxVFpROsR"
      },
      "source": [
        "24) Imprimir las claves del diccionario"
      ]
    },
    {
      "cell_type": "code",
      "execution_count": null,
      "metadata": {
        "id": "fqOoCzRMROsR",
        "outputId": "56d004ac-4cb9-4b20-f26a-e7552610377b"
      },
      "outputs": [
        {
          "name": "stdout",
          "output_type": "stream",
          "text": [
            "dict_keys(['Ciudad', 'País', 'Continente'])\n"
          ]
        }
      ],
      "source": [
        "print(dicc.keys())"
      ]
    },
    {
      "cell_type": "markdown",
      "metadata": {
        "id": "eJiiEgbnROsS"
      },
      "source": [
        "25) Imprimir las ciudades a través de su clave"
      ]
    },
    {
      "cell_type": "code",
      "execution_count": null,
      "metadata": {
        "id": "jUx_n7pIROsS",
        "outputId": "f20486f7-f71e-4b67-85ba-7e48eb1381b2"
      },
      "outputs": [
        {
          "name": "stdout",
          "output_type": "stream",
          "text": [
            "['Brasilia', 'Asunción', 'Quito', 'Montevideo', 'Santiago', 'Lima', 'Caracas', 'Bogotá', 'Ciudad de Méjico', 'Montevideo', 'Madrid', 'Roma', 'París']\n"
          ]
        }
      ],
      "source": [
        "print(dicc['Ciudad'])"
      ]
    }
  ],
  "metadata": {
    "interpreter": {
      "hash": "c85384e4cb51c8b72350f3a8712cc8351fdc3955e32a27f9b60c6242ab125f01"
    },
    "kernelspec": {
      "display_name": "Python 3 (ipykernel)",
      "language": "python",
      "name": "python3"
    },
    "language_info": {
      "codemirror_mode": {
        "name": "ipython",
        "version": 3
      },
      "file_extension": ".py",
      "mimetype": "text/x-python",
      "name": "python",
      "nbconvert_exporter": "python",
      "pygments_lexer": "ipython3",
      "version": "3.9.7"
    },
    "colab": {
      "provenance": [],
      "include_colab_link": true
    }
  },
  "nbformat": 4,
  "nbformat_minor": 0
}