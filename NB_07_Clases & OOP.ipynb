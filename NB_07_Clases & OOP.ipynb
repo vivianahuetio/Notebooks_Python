{
  "cells": [
    {
      "cell_type": "markdown",
      "metadata": {
        "id": "view-in-github",
        "colab_type": "text"
      },
      "source": [
        "<a href=\"https://colab.research.google.com/github/vivianahuetio/Notebooks_Python/blob/main/NB_07_Clases%20%26%20OOP.ipynb\" target=\"_parent\"><img src=\"https://colab.research.google.com/assets/colab-badge.svg\" alt=\"Open In Colab\"/></a>"
      ]
    },
    {
      "cell_type": "markdown",
      "metadata": {
        "id": "XEPM1d9GY42A"
      },
      "source": [
        "## Clases y Programación Orientada a Objetos"
      ]
    },
    {
      "cell_type": "markdown",
      "source": [
        "El hombre crea a partir de la experimentación y no de la planeación, la POO brinda esta experimentación  logra que los lenguajes sean de más alto nivel, más cercanos a como los humanos pensamos el mundo, vemos la realidad como objetos q se interrelacionan.\n",
        "\n",
        "A un OBJETO lo conforma una estructura de datos que eventualmente tiene funciones asociadas y esta agrupadas por consistencia y comodidas. Un onjeto tiene entonces propiedades (datos) y métodos (funciones asociadas).\n",
        "\n",
        "La Variable se 'crea' y el objeto se 'instancia'.\n",
        "\n",
        "CLASE: al instanciar un objeto, se tiene una definición prelimitar, que determina la estructura de los datos y los métodos, y puede crear más de un objeto, a esta definición se le llama CLASE.\n",
        "\n",
        "ABSTRACCIÓN: Separamos los datos del objeto y generamos un molde (clase).\n",
        "\n",
        "ENCAPUSULAR: No cambia las propiedades y métodos. Eje: cuenta banco\n",
        "\n",
        "La HERENCIA es cuando se puede crear una clase a partir de otra, eje: clase: Autos, Clase2: autos deportivos. Da jerarquia padre e hijo.\n",
        "\n",
        "POLIMORFISMO: para crear métodos on el mismo nombre pero diferente comportamiento.\n",
        "\n",
        "\n",
        "*   Con una clase se instancian varios objetos\n",
        "*   Con **class** nombreclase :  ------> Creo la clase\n",
        "*   Con **_init_** () :  --------> construyo la clase\n",
        "\n",
        "\n",
        "*   Un clase debe tener atributos (datos) y métodos (definiciones para modificar o mostrar los atributos). En el ejemplo los atributos son tipo, color, cilindraje, y los métodos son 'soyunvehículo'\n",
        "\n",
        "\n",
        "Código para Método generico con implementación particular (vacía):\n",
        "\n",
        "def nombremetodogenerico(self):\n",
        "pass\n",
        "\n",
        "también se puede crear una clase vacía heradada:\n",
        "\n",
        "Class Animal:\n",
        "def __init__(self, especie, edad)\n",
        "self.especie = especie\n",
        "self.edad = edad\n",
        "\n",
        "....\n",
        "\n",
        "\n",
        "class Perro(Animal):  ------> esta es la clase heradada de animal\n",
        "pass\n",
        "\n",
        "mi_perro = Perro('mamifero', 10)\n",
        "\n",
        "\n",
        "\n",
        "**USO DE SUPER**\n",
        "\n",
        "Se usa para llamar a todos los atributos de  __init__. Así:\n",
        "super().__init__(atributos), en el ejemplo anterior seria:\n",
        "\n",
        "super().__init__(especie, edad)\n",
        "\n",
        "\n",
        "\n",
        "\n",
        "\n",
        "\n",
        "\n",
        "\n",
        "\n",
        "\n",
        "\n",
        "\n",
        "\n",
        "\n",
        "\n",
        "\n",
        "\n",
        "\n",
        "\n",
        "\n",
        "\n",
        "\n"
      ],
      "metadata": {
        "id": "KsR6sUKeaNIB"
      }
    },
    {
      "cell_type": "markdown",
      "metadata": {
        "id": "QwCN0odtY42G"
      },
      "source": [
        "1) Crear la clase vehículo que contenga los atributos:<br>\n",
        "Color<br>\n",
        "Si es moto, auto, camioneta ó camión<br>\n",
        "Cilindrada del motor"
      ]
    },
    {
      "cell_type": "code",
      "source": [
        "class vehiculo:\n",
        "  def __init__(self, tipo, color, cilindraje):\n",
        "      self.tipo = tipo\n",
        "      self.color = color\n",
        "      self.cilindraje = cilindraje\n",
        "  def soyunvehiculo(self):\n",
        "      print('Es un vehiculo de tipo', self.tipo , 'de color', self.color, 'con cilindeaje', self.cilindraje)\n",
        "\n",
        "a1 = vehiculo('moto', 'azul',1200)\n",
        "print(a1.tipo)\n",
        "print(a1.color)\n",
        "print(a1.cilindraje)\n",
        "a1.soyunvehiculo ()"
      ],
      "metadata": {
        "id": "mWhgHcwm0K7u",
        "outputId": "5fa4bd59-df55-40e6-fd50-aca9a5628f0a",
        "colab": {
          "base_uri": "https://localhost:8080/"
        }
      },
      "execution_count": 19,
      "outputs": [
        {
          "output_type": "stream",
          "name": "stdout",
          "text": [
            "moto\n",
            "azul\n",
            "1200\n",
            "Es un vehiculo de tipo moto de color azul con cilindeaje 1200\n"
          ]
        }
      ]
    },
    {
      "cell_type": "code",
      "source": [],
      "metadata": {
        "id": "rBlEYsR90Ktg"
      },
      "execution_count": null,
      "outputs": []
    },
    {
      "cell_type": "code",
      "execution_count": null,
      "metadata": {
        "id": "CLFt9vmUY42J"
      },
      "outputs": [],
      "source": [
        "class Vehiculo:\n",
        "    def __init__(self, color, tipo, cilindrada):\n",
        "        self.color = color\n",
        "        self.tipo = tipo\n",
        "        self.cilindrada = cilindrada"
      ]
    },
    {
      "cell_type": "markdown",
      "metadata": {
        "id": "vywqSJjxY42L"
      },
      "source": [
        "2) A la clase Vehiculo creada en el punto 1, agregar los siguientes métodos:<br>\n",
        "Acelerar<br>\n",
        "Frenar<br>\n",
        "Doblar<br>"
      ]
    },
    {
      "cell_type": "code",
      "source": [
        "class vehiculo:\n",
        "  def __init__(self, tipo, color, cilindraje):\n",
        "      self.tipo = tipo\n",
        "      self.color = color\n",
        "      self.cilindraje = cilindraje\n",
        "  def soyunvehiculo(self):\n",
        "      print('Es un vehiculo de tipo', self.tipo , 'de color', self.color, 'con cilindeaje', self.cilindraje)\n",
        "  def acelerar(self):\n",
        "      print()\n",
        "\n",
        "a1 = vehiculo('moto', 'azul',1200)\n",
        "print(a1.tipo)\n",
        "print(a1.color)\n",
        "print(a1.cilindraje)\n",
        "a1.soyunvehiculo ()"
      ],
      "metadata": {
        "id": "Ts2fw5l98fcW"
      },
      "execution_count": null,
      "outputs": []
    },
    {
      "cell_type": "code",
      "execution_count": null,
      "metadata": {
        "id": "bBA43OGdY42M"
      },
      "outputs": [],
      "source": [
        "class Vehiculo:\n",
        "    def __init__(self, color, tipo, cilindrada):\n",
        "        self.color = color\n",
        "        self.tipo = tipo\n",
        "        self.cilindrada = cilindrada\n",
        "        self.velocidad = 0\n",
        "        self.direccion = 0\n",
        "\n",
        "    def Acelerar(self, vel):\n",
        "        self.velocidad += vel\n",
        "\n",
        "    def Frenar(self, vel):\n",
        "        self.velocidad -= vel\n",
        "    \n",
        "    def Doblar(self, grados):\n",
        "        self.direccion += grados"
      ]
    },
    {
      "cell_type": "markdown",
      "metadata": {
        "id": "LerxT7WXY42N"
      },
      "source": [
        "3) Instanciar 3 objetos de la clase vehículo y ejecutar sus métodos, probar luego el resultado"
      ]
    },
    {
      "cell_type": "code",
      "execution_count": null,
      "metadata": {
        "id": "Z1_fTFOSY42O"
      },
      "outputs": [],
      "source": [
        "a1 = Vehiculo('rojo', 'auto', 2)\n",
        "a2 = Vehiculo('blanco', 'camioneta', 3.6)\n",
        "a3 = Vehiculo('negro', 'moto', 1)"
      ]
    },
    {
      "cell_type": "code",
      "execution_count": null,
      "metadata": {
        "id": "MsjReEeyY42P"
      },
      "outputs": [],
      "source": [
        "a1.Acelerar(40)\n",
        "a2.Acelerar(60)\n",
        "a3.Acelerar(30)\n",
        "a1.Doblar(30)\n",
        "a3.Doblar(-30)\n",
        "a2.Frenar(-50)"
      ]
    },
    {
      "cell_type": "markdown",
      "metadata": {
        "id": "gwgSqptLY42Q"
      },
      "source": [
        "4) Agregar a la clase Vehiculo, un método que muestre su estado, es decir, a que velocidad se encuentra y su dirección. Y otro método que muestre color, tipo y cilindrada"
      ]
    },
    {
      "cell_type": "code",
      "execution_count": null,
      "metadata": {
        "id": "9WgFP8h7Y42Q"
      },
      "outputs": [],
      "source": [
        "class Vehiculo:\n",
        "    def __init__(self, color, tipo, cilindrada):\n",
        "        self.color = color\n",
        "        self.tipo = tipo\n",
        "        self.cilindrada = cilindrada\n",
        "        self.velocidad = 0\n",
        "        self.direccion = 0\n",
        "\n",
        "    def Acelerar(self, vel):\n",
        "        self.velocidad += vel\n",
        "\n",
        "    def Frenar(self, vel):\n",
        "        self.velocidad -= vel\n",
        "    \n",
        "    def Doblar(self, grados):\n",
        "        self.direccion += grados\n",
        "\n",
        "    def Estado(self):\n",
        "        print('Velocidad:', self.velocidad, '- Dirección:', self.direccion)\n",
        "\n",
        "    def Detalle(self):\n",
        "        print('Soy', self.tipo, 'de color', self.color, 'y mi cilindrada es de', self.cilindrada, 'litros')"
      ]
    },
    {
      "cell_type": "code",
      "execution_count": null,
      "metadata": {
        "id": "cXRoFXv1Y42S",
        "outputId": "dbd5a0b7-d6d4-412c-d594-6f0e658834f9"
      },
      "outputs": [
        {
          "name": "stdout",
          "output_type": "stream",
          "text": [
            "Soy auto de color rojo y mi cilindrada es de 2 litros\n"
          ]
        }
      ],
      "source": [
        "a1 = Vehiculo('rojo', 'auto', 2)\n",
        "a1.Detalle()"
      ]
    },
    {
      "cell_type": "code",
      "execution_count": null,
      "metadata": {
        "id": "vxilXmy3Y42T",
        "outputId": "0ea39eee-39dc-4f2e-98b9-c5262005df42"
      },
      "outputs": [
        {
          "name": "stdout",
          "output_type": "stream",
          "text": [
            "Velocidad: 0 - Dirección: 0\n",
            "Velocidad: 30 - Dirección: 0\n"
          ]
        }
      ],
      "source": [
        "a1.Estado()\n",
        "a1.Acelerar(30)\n",
        "a1.Estado()"
      ]
    },
    {
      "cell_type": "markdown",
      "metadata": {
        "id": "9IEccc-OY42U"
      },
      "source": [
        "5) Crear una clase que permita utilizar las funciones creadas en la práctica del módulo 6<br>\n",
        "Verificar Primo<br>\n",
        "Valor modal<br>\n",
        "Conversión grados<br>\n",
        "Factorial<br>"
      ]
    },
    {
      "cell_type": "code",
      "execution_count": null,
      "metadata": {
        "id": "k9At_ZScY42V"
      },
      "outputs": [],
      "source": [
        "class Herramientas:\n",
        "    def __init__(self) -> None:\n",
        "        pass\n",
        "\n",
        "    def verifica_primo(self, nro):\n",
        "        es_primo = True\n",
        "        for i in range(2, nro):\n",
        "            if nro % i == 0:\n",
        "                es_primo = False\n",
        "                break\n",
        "        return es_primo\n",
        "\n",
        "    def valor_modal(self, lista, menor):\n",
        "        lista_unicos = []\n",
        "        lista_repeticiones = []\n",
        "        if len(lista) == 0:\n",
        "            return None\n",
        "        if (menor):\n",
        "            lista.sort()\n",
        "        else:\n",
        "            lista.sort(reverse=True)\n",
        "        for elemento in lista:\n",
        "            if elemento in lista_unicos:\n",
        "                i = lista_unicos.index(elemento)\n",
        "                lista_repeticiones[i] += 1\n",
        "            else:\n",
        "                lista_unicos.append(elemento)\n",
        "                lista_repeticiones.append(1)\n",
        "        moda = lista_unicos[0]\n",
        "        maximo = lista_repeticiones[0]\n",
        "        for i, elemento in enumerate(lista_unicos):\n",
        "            if lista_repeticiones[i] > maximo:\n",
        "                moda = lista_unicos[i]\n",
        "                maximo = lista_repeticiones[i]\n",
        "        return moda, maximo\n",
        "\n",
        "    def conversion_grados(self, valor, origen, destino):\n",
        "        valor_destino = None\n",
        "        if (origen == 'celsius'):\n",
        "            if (destino == 'celsius'):\n",
        "                valor_destino = valor\n",
        "            elif (destino == 'farenheit'):\n",
        "                valor_destino = (valor * 9 / 5) + 32\n",
        "            elif (destino == 'kelvin'):\n",
        "                valor_destino = valor + 273.15\n",
        "            else:\n",
        "                print('Parámetro de Destino incorrecto')\n",
        "        elif (origen == 'farenheit'):\n",
        "            if (destino == 'celsius'):\n",
        "                valor_destino = (valor - 32) * 5 / 9\n",
        "            elif (destino == 'farenheit'):\n",
        "                valor_destino = valor\n",
        "            elif (destino == 'kelvin'):\n",
        "                valor_destino = ((valor - 32) * 5 / 9) + 273.15\n",
        "            else:\n",
        "                print('Parámetro de Destino incorrecto')\n",
        "        elif (origen == 'kelvin'):\n",
        "            if (destino == 'celsius'):\n",
        "                valor_destino = valor - 273.15\n",
        "            elif (destino == 'farenheit'):\n",
        "                valor_destino = ((valor - 273.15) * 9 / 5) + 32\n",
        "            elif (destino == 'kelvin'):\n",
        "                valor_destino = valor\n",
        "            else:\n",
        "                print('Parámetro de Destino incorrecto')\n",
        "        else:\n",
        "            print('Parámetro de Origen incorrecto')\n",
        "        return valor_destino\n",
        "\n",
        "    def factorial(self, numero):\n",
        "        if(type(numero) != int):\n",
        "            return 'El numero debe ser un entero'\n",
        "        if(numero < 0):\n",
        "            return 'El numero debe ser pisitivo'\n",
        "        if (numero > 1):\n",
        "            numero = numero * self.factorial(numero - 1)\n",
        "        return numero"
      ]
    },
    {
      "cell_type": "code",
      "execution_count": null,
      "metadata": {
        "id": "WMMeZBP_Y42V"
      },
      "outputs": [],
      "source": [
        "h = Herramientas()"
      ]
    },
    {
      "cell_type": "markdown",
      "metadata": {
        "id": "fubHIsPHY42V"
      },
      "source": [
        "6) Probar las funciones incorporadas en la clase del punto 5"
      ]
    },
    {
      "cell_type": "code",
      "execution_count": null,
      "metadata": {
        "id": "k6t0gsqaY42W",
        "outputId": "de0a3168-434f-4dc7-d858-4e4cdb6dec94"
      },
      "outputs": [
        {
          "data": {
            "text/plain": [
              "True"
            ]
          },
          "execution_count": 28,
          "metadata": {},
          "output_type": "execute_result"
        }
      ],
      "source": [
        "h.verifica_primo(7)"
      ]
    },
    {
      "cell_type": "code",
      "execution_count": null,
      "metadata": {
        "id": "B2hdbanDY42W",
        "outputId": "e7a26372-fc6b-44d3-8de8-c498d07a4cdb"
      },
      "outputs": [
        {
          "name": "stdout",
          "output_type": "stream",
          "text": [
            "El valor modal es 8 y se reptie 2 veces\n"
          ]
        }
      ],
      "source": [
        "listado = [1,8,2,5,4,8,10,7]\n",
        "moda, repe = h.valor_modal(listado, True)\n",
        "print('El valor modal es', moda, 'y se reptie', repe, 'veces')"
      ]
    },
    {
      "cell_type": "code",
      "execution_count": null,
      "metadata": {
        "id": "U8PjC1dOY42W",
        "outputId": "b18a91fe-720e-4359-bfed-72b89bf13400"
      },
      "outputs": [
        {
          "data": {
            "text/plain": [
              "283.15"
            ]
          },
          "execution_count": 31,
          "metadata": {},
          "output_type": "execute_result"
        }
      ],
      "source": [
        "h.conversion_grados(10, 'celsius', 'kelvin')"
      ]
    },
    {
      "cell_type": "code",
      "execution_count": null,
      "metadata": {
        "id": "n4NTSbGCY42X",
        "outputId": "17524d46-fc84-46a5-91f7-a0206fc42e60"
      },
      "outputs": [
        {
          "data": {
            "text/plain": [
              "720"
            ]
          },
          "execution_count": 35,
          "metadata": {},
          "output_type": "execute_result"
        }
      ],
      "source": [
        "h.factorial(6)"
      ]
    },
    {
      "cell_type": "markdown",
      "metadata": {
        "id": "b6SXL9aHY42X"
      },
      "source": [
        "7) Es necesario que la clase creada en el punto 5 contenga una lista, sobre la cual se aplquen las funciones incorporadas"
      ]
    },
    {
      "cell_type": "code",
      "execution_count": null,
      "metadata": {
        "id": "p_p4sTgvY42X"
      },
      "outputs": [],
      "source": [
        "class Herramientas:\n",
        "    def __init__(self, lista_numeros):\n",
        "        self.lista = lista_numeros\n",
        "\n",
        "    def verifica_primo(self):\n",
        "        for i in self.lista:\n",
        "            if (self.__verifica_primo(i)):\n",
        "                print('El elemento', i, 'SI es un numero primo')\n",
        "            else:\n",
        "                print('El elemento', i, 'NO es un numero primo')\n",
        "\n",
        "    def conversion_grados(self, origen, destino):\n",
        "        for i in self.lista:\n",
        "            print(i, 'grados', origen, 'son', self.__conversion_grados(i, origen, destino),'grados',destino)\n",
        "    \n",
        "    def factorial(self):\n",
        "        for i in self.lista:\n",
        "            print('El factorial de ', i, 'es', self.__factorial(i))\n",
        "\n",
        "    def __verifica_primo(self, nro):\n",
        "        es_primo = True\n",
        "        for i in range(2, nro):\n",
        "            if nro % i == 0:\n",
        "                es_primo = False\n",
        "                break\n",
        "        return es_primo\n",
        "\n",
        "    def valor_modal(self, menor):\n",
        "        lista_unicos = []\n",
        "        lista_repeticiones = []\n",
        "        if len(self.lista) == 0:\n",
        "            return None\n",
        "        if (menor):\n",
        "            self.lista.sort()\n",
        "        else:\n",
        "            self.lista.sort(reverse=True)\n",
        "        for elemento in self.lista:\n",
        "            if elemento in lista_unicos:\n",
        "                i = lista_unicos.index(elemento)\n",
        "                lista_repeticiones[i] += 1\n",
        "            else:\n",
        "                lista_unicos.append(elemento)\n",
        "                lista_repeticiones.append(1)\n",
        "        moda = lista_unicos[0]\n",
        "        maximo = lista_repeticiones[0]\n",
        "        for i, elemento in enumerate(lista_unicos):\n",
        "            if lista_repeticiones[i] > maximo:\n",
        "                moda = lista_unicos[i]\n",
        "                maximo = lista_repeticiones[i]\n",
        "        return moda, maximo\n",
        "\n",
        "    def __conversion_grados(self, valor, origen, destino):\n",
        "        valor_destino = None\n",
        "        if (origen == 'celsius'):\n",
        "            if (destino == 'celsius'):\n",
        "                valor_destino = valor\n",
        "            elif (destino == 'farenheit'):\n",
        "                valor_destino = (valor * 9 / 5) + 32\n",
        "            elif (destino == 'kelvin'):\n",
        "                valor_destino = valor + 273.15\n",
        "            else:\n",
        "                print('Parámetro de Destino incorrecto')\n",
        "        elif (origen == 'farenheit'):\n",
        "            if (destino == 'celsius'):\n",
        "                valor_destino = (valor - 32) * 5 / 9\n",
        "            elif (destino == 'farenheit'):\n",
        "                valor_destino = valor\n",
        "            elif (destino == 'kelvin'):\n",
        "                valor_destino = ((valor - 32) * 5 / 9) + 273.15\n",
        "            else:\n",
        "                print('Parámetro de Destino incorrecto')\n",
        "        elif (origen == 'kelvin'):\n",
        "            if (destino == 'celsius'):\n",
        "                valor_destino = valor - 273.15\n",
        "            elif (destino == 'farenheit'):\n",
        "                valor_destino = ((valor - 273.15) * 9 / 5) + 32\n",
        "            elif (destino == 'kelvin'):\n",
        "                valor_destino = valor\n",
        "            else:\n",
        "                print('Parámetro de Destino incorrecto')\n",
        "        else:\n",
        "            print('Parámetro de Origen incorrecto')\n",
        "        return valor_destino\n",
        "\n",
        "    def __factorial(self, numero):\n",
        "        if(type(numero) != int):\n",
        "            return 'El numero debe ser un entero'\n",
        "        if(numero < 0):\n",
        "            return 'El numero debe ser pisitivo'\n",
        "        if (numero > 1):\n",
        "            numero = numero * self.__factorial(numero - 1)\n",
        "        return numero"
      ]
    },
    {
      "cell_type": "code",
      "execution_count": null,
      "metadata": {
        "id": "Nuy25YivY42Y"
      },
      "outputs": [],
      "source": [
        "h = Herramientas([1,1,2,5,8,8,9,11,15,16,16,16,18,20])"
      ]
    },
    {
      "cell_type": "code",
      "execution_count": null,
      "metadata": {
        "id": "GSuJzvFaY42d",
        "outputId": "5c557920-166c-4b5d-acfc-d29b590523aa"
      },
      "outputs": [
        {
          "name": "stdout",
          "output_type": "stream",
          "text": [
            "1 grados celsius son 33.8 grados farenheit\n",
            "1 grados celsius son 33.8 grados farenheit\n",
            "2 grados celsius son 35.6 grados farenheit\n",
            "5 grados celsius son 41.0 grados farenheit\n",
            "8 grados celsius son 46.4 grados farenheit\n",
            "8 grados celsius son 46.4 grados farenheit\n",
            "9 grados celsius son 48.2 grados farenheit\n",
            "11 grados celsius son 51.8 grados farenheit\n",
            "15 grados celsius son 59.0 grados farenheit\n",
            "16 grados celsius son 60.8 grados farenheit\n",
            "16 grados celsius son 60.8 grados farenheit\n",
            "16 grados celsius son 60.8 grados farenheit\n",
            "18 grados celsius son 64.4 grados farenheit\n",
            "20 grados celsius son 68.0 grados farenheit\n"
          ]
        }
      ],
      "source": [
        "h.conversion_grados('celsius','farenheit')"
      ]
    },
    {
      "cell_type": "code",
      "execution_count": null,
      "metadata": {
        "id": "rqO6gE5TY42d",
        "outputId": "319a9e77-f4eb-4133-8958-9293bffb4f21"
      },
      "outputs": [
        {
          "name": "stdout",
          "output_type": "stream",
          "text": [
            "El elemento 1 SI es un numero primo\n",
            "El elemento 1 SI es un numero primo\n",
            "El elemento 2 SI es un numero primo\n",
            "El elemento 5 SI es un numero primo\n",
            "El elemento 8 NO es un numero primo\n",
            "El elemento 8 NO es un numero primo\n",
            "El elemento 9 NO es un numero primo\n",
            "El elemento 11 SI es un numero primo\n",
            "El elemento 15 NO es un numero primo\n",
            "El elemento 16 NO es un numero primo\n",
            "El elemento 16 NO es un numero primo\n",
            "El elemento 16 NO es un numero primo\n",
            "El elemento 18 NO es un numero primo\n",
            "El elemento 20 NO es un numero primo\n"
          ]
        }
      ],
      "source": [
        "h.verifica_primo()"
      ]
    },
    {
      "cell_type": "code",
      "execution_count": null,
      "metadata": {
        "id": "9BIeI73nY42e",
        "outputId": "60b27a95-a9ad-4798-abb9-2f0130f20e57"
      },
      "outputs": [
        {
          "name": "stdout",
          "output_type": "stream",
          "text": [
            "El valor modal es 16 y se reptie 3 veces\n"
          ]
        }
      ],
      "source": [
        "moda, repe = h.valor_modal(False)\n",
        "print('El valor modal es', moda, 'y se reptie', repe, 'veces')"
      ]
    },
    {
      "cell_type": "code",
      "execution_count": null,
      "metadata": {
        "id": "RQqcKim_Y42f",
        "outputId": "ca33901f-dbe1-47ab-dc8e-1dc267e13e1d"
      },
      "outputs": [
        {
          "name": "stdout",
          "output_type": "stream",
          "text": [
            "El factorial de  20 es 2432902008176640000\n",
            "El factorial de  18 es 6402373705728000\n",
            "El factorial de  16 es 20922789888000\n",
            "El factorial de  16 es 20922789888000\n",
            "El factorial de  16 es 20922789888000\n",
            "El factorial de  15 es 1307674368000\n",
            "El factorial de  11 es 39916800\n",
            "El factorial de  9 es 362880\n",
            "El factorial de  8 es 40320\n",
            "El factorial de  8 es 40320\n",
            "El factorial de  5 es 120\n",
            "El factorial de  2 es 2\n",
            "El factorial de  1 es 1\n",
            "El factorial de  1 es 1\n"
          ]
        }
      ],
      "source": [
        "h.factorial()"
      ]
    },
    {
      "cell_type": "markdown",
      "metadata": {
        "id": "Ge1cLzEpY42f"
      },
      "source": [
        "8) Crear un archivo .py aparte y ubicar allí la clase generada en el punto anterior. Luego realizar la importación del módulo y probar alguna de sus funciones"
      ]
    },
    {
      "cell_type": "code",
      "execution_count": null,
      "metadata": {
        "id": "TBj9gxnIY42f"
      },
      "outputs": [],
      "source": [
        "from herramientas import *"
      ]
    },
    {
      "cell_type": "code",
      "execution_count": null,
      "metadata": {
        "id": "eJiNfLlgY42f"
      },
      "outputs": [],
      "source": [
        "h2 = Herramientas([1,1,2,3,5,6,8,8])"
      ]
    },
    {
      "cell_type": "code",
      "execution_count": null,
      "metadata": {
        "id": "lD40OlqOY42f",
        "outputId": "162df167-f976-43a6-b71f-377f2348a467"
      },
      "outputs": [
        {
          "name": "stdout",
          "output_type": "stream",
          "text": [
            "El elemento 1 SI es un numero primo\n",
            "El elemento 1 SI es un numero primo\n",
            "El elemento 2 SI es un numero primo\n",
            "El elemento 3 SI es un numero primo\n",
            "El elemento 5 SI es un numero primo\n",
            "El elemento 6 NO es un numero primo\n",
            "El elemento 8 NO es un numero primo\n",
            "El elemento 8 NO es un numero primo\n"
          ]
        }
      ],
      "source": [
        "h2.verifica_primo()"
      ]
    }
  ],
  "metadata": {
    "interpreter": {
      "hash": "c85384e4cb51c8b72350f3a8712cc8351fdc3955e32a27f9b60c6242ab125f01"
    },
    "kernelspec": {
      "display_name": "Python 3 (ipykernel)",
      "language": "python",
      "name": "python3"
    },
    "language_info": {
      "codemirror_mode": {
        "name": "ipython",
        "version": 3
      },
      "file_extension": ".py",
      "mimetype": "text/x-python",
      "name": "python",
      "nbconvert_exporter": "python",
      "pygments_lexer": "ipython3",
      "version": "3.9.7"
    },
    "colab": {
      "provenance": [],
      "include_colab_link": true
    }
  },
  "nbformat": 4,
  "nbformat_minor": 0
}