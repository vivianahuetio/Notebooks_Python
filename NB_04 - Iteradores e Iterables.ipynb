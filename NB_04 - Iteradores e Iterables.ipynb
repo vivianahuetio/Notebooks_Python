{
  "cells": [
    {
      "cell_type": "markdown",
      "metadata": {
        "id": "view-in-github",
        "colab_type": "text"
      },
      "source": [
        "<a href=\"https://colab.research.google.com/github/vivianahuetio/Notebooks_Python/blob/main/NB_04%20-%20Iteradores%20e%20Iterables.ipynb\" target=\"_parent\"><img src=\"https://colab.research.google.com/assets/colab-badge.svg\" alt=\"Open In Colab\"/></a>"
      ]
    },
    {
      "cell_type": "markdown",
      "metadata": {
        "id": "xmddk9Yl2cgX"
      },
      "source": [
        "## Iteradores e iterables"
      ]
    },
    {
      "cell_type": "markdown",
      "metadata": {
        "id": "6v9aCci72cgb"
      },
      "source": [
        "1) A partir de una lista vacía, utilizar un ciclo while para cargar allí números negativos del -15 al -1"
      ]
    },
    {
      "cell_type": "code",
      "execution_count": 5,
      "metadata": {
        "id": "oCFN31e52cgc",
        "outputId": "f4ad01ba-0696-4cae-a383-73fc457755bf",
        "colab": {
          "base_uri": "https://localhost:8080/"
        }
      },
      "outputs": [
        {
          "output_type": "stream",
          "name": "stdout",
          "text": [
            "[-15, -14, -13, -12, -11, -10, -9, -8, -7, -6, -5, -4, -3, -2, -1]\n"
          ]
        }
      ],
      "source": [
        "Num_negativos = []\n",
        "n = -15\n",
        "while (n <= -1):\n",
        "    Num_negativos.append(n)\n",
        "    n += 1\n",
        "print(Num_negativos)"
      ]
    },
    {
      "cell_type": "markdown",
      "metadata": {
        "id": "mOeofGIS2cge"
      },
      "source": [
        "2) ¿Con un ciclo while sería posible recorrer la lista para imprimir sólo los números pares?"
      ]
    },
    {
      "cell_type": "code",
      "execution_count": 6,
      "metadata": {
        "id": "Q3Y32oJH2cge",
        "outputId": "2df6947d-ba8d-4442-f973-721265a230af",
        "colab": {
          "base_uri": "https://localhost:8080/"
        }
      },
      "outputs": [
        {
          "output_type": "stream",
          "name": "stdout",
          "text": [
            "-14\n",
            "-12\n",
            "-10\n",
            "-8\n",
            "-6\n",
            "-4\n",
            "-2\n"
          ]
        }
      ],
      "source": [
        "n = 0\n",
        "while (n < len(Num_negativos)):\n",
        "    if (Num_negativos[n] % 2 == 0):\n",
        "        print(Num_negativos[n])\n",
        "    n += 1"
      ]
    },
    {
      "cell_type": "markdown",
      "metadata": {
        "id": "8tJXiwJt2cgf"
      },
      "source": [
        "3) Resolver el punto anterior sin utilizar un ciclo while"
      ]
    },
    {
      "cell_type": "code",
      "execution_count": 8,
      "metadata": {
        "id": "wAY_Fban2cgf",
        "outputId": "e1c3ae14-ced7-4b45-b45b-49e17e28b8bb",
        "colab": {
          "base_uri": "https://localhost:8080/"
        }
      },
      "outputs": [
        {
          "output_type": "stream",
          "name": "stdout",
          "text": [
            "-14\n",
            "-12\n",
            "-10\n",
            "-8\n",
            "-6\n",
            "-4\n",
            "-2\n"
          ]
        }
      ],
      "source": [
        "for elemento in Num_negativos:\n",
        "    if (elemento % 2 == 0):\n",
        "        print(elemento)"
      ]
    },
    {
      "cell_type": "markdown",
      "metadata": {
        "id": "wGl1eBaJ2cgg"
      },
      "source": [
        "4) Utilizar el iterable para recorrer sólo los primeros 3 elementos"
      ]
    },
    {
      "cell_type": "code",
      "execution_count": 9,
      "metadata": {
        "id": "5D8uzP8t2cgg",
        "outputId": "7df38985-7d2f-4900-9f95-91b58d7523a2",
        "colab": {
          "base_uri": "https://localhost:8080/"
        }
      },
      "outputs": [
        {
          "output_type": "stream",
          "name": "stdout",
          "text": [
            "-15\n",
            "-14\n",
            "-13\n"
          ]
        }
      ],
      "source": [
        "for elemento in Num_negativos[:3]:\n",
        "    print(elemento)"
      ]
    },
    {
      "cell_type": "markdown",
      "metadata": {
        "id": "2hr_i7E12cgh"
      },
      "source": [
        "5) Utilizar la función **enumerate** para obtener dentro del iterable, tambien el índice al que corresponde el elemento"
      ]
    },
    {
      "cell_type": "code",
      "execution_count": 10,
      "metadata": {
        "id": "kNQmczz62cgh",
        "outputId": "46cfc18e-6bd2-455e-fcbd-13414048de4a",
        "colab": {
          "base_uri": "https://localhost:8080/"
        }
      },
      "outputs": [
        {
          "output_type": "stream",
          "name": "stdout",
          "text": [
            "0 -15\n",
            "1 -14\n",
            "2 -13\n",
            "3 -12\n",
            "4 -11\n",
            "5 -10\n",
            "6 -9\n",
            "7 -8\n",
            "8 -7\n",
            "9 -6\n",
            "10 -5\n",
            "11 -4\n",
            "12 -3\n",
            "13 -2\n",
            "14 -1\n"
          ]
        }
      ],
      "source": [
        "for i, c in enumerate(Num_negativos):\n",
        "    print(i, c)"
      ]
    },
    {
      "cell_type": "markdown",
      "metadata": {
        "id": "PnDqDmHc2cgi"
      },
      "source": [
        "6) Dada la siguiente lista de números enteros entre 1 y 20, crear un ciclo donde se completen los valores faltantes: lista = [1,2,5,7,8,10,13,14,15,17,20]"
      ]
    },
    {
      "cell_type": "code",
      "execution_count": null,
      "metadata": {
        "id": "3fQwqPHj2cgi"
      },
      "outputs": [],
      "source": [
        "lista = [1,2,5,7,8,10,13,14,15,17,20]"
      ]
    },
    {
      "cell_type": "code",
      "source": [
        "lista = [1,2,5,7,8,10,13,14,15,17,20]\n",
        "n = 1\n",
        "while n <= 20:\n",
        "    if n not in lista:\n",
        "        lista.append(n)\n",
        "    n += 1\n",
        "lista.sort()\n",
        "print(lista)"
      ],
      "metadata": {
        "id": "kRXKe5RdORw4",
        "outputId": "620a454e-1e95-47ce-ef54-7aae2c6c4727",
        "colab": {
          "base_uri": "https://localhost:8080/"
        }
      },
      "execution_count": 13,
      "outputs": [
        {
          "output_type": "stream",
          "name": "stdout",
          "text": [
            "[1, 2, 3, 4, 5, 6, 7, 8, 9, 10, 11, 12, 13, 14, 15, 16, 17, 18, 19, 20]\n"
          ]
        }
      ]
    },
    {
      "cell_type": "code",
      "source": [
        "lista = [1,2,5,7,8,10,13,14,15,17,20]\n",
        "for i in range(1, 21):\n",
        "    if i not in lista:\n",
        "        lista.append(i)\n",
        "    elif len(lista) == 20:\n",
        "        break\n",
        "lista.sort()     \n",
        "print(lista)"
      ],
      "metadata": {
        "id": "rJ9pKBAJORin",
        "outputId": "30301726-7633-473d-8fba-75226c3df81f",
        "colab": {
          "base_uri": "https://localhost:8080/"
        }
      },
      "execution_count": 31,
      "outputs": [
        {
          "output_type": "stream",
          "name": "stdout",
          "text": [
            "[1, 2, 3, 4, 5, 6, 7, 8, 9, 10, 11, 12, 13, 14, 15, 16, 17, 18, 19, 20]\n"
          ]
        }
      ]
    },
    {
      "cell_type": "code",
      "execution_count": null,
      "metadata": {
        "id": "5EuGL99G2cgj",
        "outputId": "631ab05f-2f69-4d0d-dd4a-3830813aba45"
      },
      "outputs": [
        {
          "name": "stdout",
          "output_type": "stream",
          "text": [
            "[1, 2, 3, 4, 5, 6, 7, 8, 9, 10, 11, 12, 13, 14, 15, 16, 17, 18, 19, 20]\n"
          ]
        }
      ],
      "source": [
        "n = 1\n",
        "while(n <= 20):\n",
        "    if (not(n in lista)):\n",
        "        lista.insert((n-1), n)\n",
        "    n += 1\n",
        "print(lista)"
      ]
    },
    {
      "cell_type": "markdown",
      "metadata": {
        "id": "WbshgnA02cgj"
      },
      "source": [
        "7) La sucesión de Fibonacci es un listado de números que sigue la fórmula: <br>\n",
        "n<sub>0</sub> = 0<br>\n",
        "n<sub>1</sub> = 1<br>\n",
        "n<sub>i</sub> = n<sub>i-1</sub> + n<sub>i-2</sub><br>\n",
        "Crear una lista con los primeros treinta números de la sucesión.<br>"
      ]
    },
    {
      "cell_type": "code",
      "execution_count": null,
      "metadata": {
        "id": "H_gJaiiH2cgk",
        "outputId": "97340a45-270d-4dee-ebc5-20789acc5e35"
      },
      "outputs": [
        {
          "name": "stdout",
          "output_type": "stream",
          "text": [
            "[0, 1, 1, 2, 3, 5, 8, 13, 21, 34, 55, 89, 144, 233, 377, 610, 987, 1597, 2584, 4181, 6765, 10946, 17711, 28657, 46368, 75025, 121393, 196418, 317811, 514229]\n"
          ]
        }
      ],
      "source": [
        "fibo = [0,1]\n",
        "n = 2\n",
        "while(n < 30):\n",
        "    fibo.append(fibo[n-1]+fibo[n-2])\n",
        "    n += 1\n",
        "print(fibo)"
      ]
    },
    {
      "cell_type": "markdown",
      "metadata": {
        "id": "vT7HeZ4r2cgk"
      },
      "source": [
        "8) Realizar la suma de todos elementos de la lista del punto anterior"
      ]
    },
    {
      "cell_type": "code",
      "execution_count": null,
      "metadata": {
        "id": "_sb8HqUs2cgk",
        "outputId": "f98f60f8-5bc9-4305-ca01-c4bd238da3f2"
      },
      "outputs": [
        {
          "data": {
            "text/plain": [
              "1346268"
            ]
          },
          "execution_count": 24,
          "metadata": {},
          "output_type": "execute_result"
        }
      ],
      "source": [
        "sum(fibo)"
      ]
    },
    {
      "cell_type": "markdown",
      "metadata": {
        "id": "xlOBPSGu2cgl"
      },
      "source": [
        "9) La proporción aurea se expresa con una proporción matemática que nace el número irracional Phi= 1,618… que los griegos llamaron número áureo. El cuál se puede aproximar con la sucesión de Fibonacci. Con la lista del ejercicio anterior, imprimir el cociente de los últimos 5 pares de dos números contiguos:<br>\n",
        "Donde i es la cantidad total de elementos<br>\n",
        "n<sub>i-1</sub> / n<sub>i</sub><br>\n",
        "n<sub>i-2</sub> / n<sub>i-1</sub><br>\n",
        "n<sub>i-3</sub> / n<sub>i-2</sub><br>\n",
        "n<sub>i-4</sub> / n<sub>i-3</sub><br>\n",
        "n<sub>i-5</sub> / n<sub>i-4</sub><br>\n",
        " "
      ]
    },
    {
      "cell_type": "code",
      "execution_count": null,
      "metadata": {
        "id": "kdxjrk7x2cgl",
        "outputId": "79d793fa-d969-45b8-d5ff-06a83d1a0e78"
      },
      "outputs": [
        {
          "name": "stdout",
          "output_type": "stream",
          "text": [
            "1.6176470588235294\n",
            "1.6181818181818182\n",
            "1.6179775280898876\n",
            "1.6180555555555556\n",
            "1.6180257510729614\n"
          ]
        }
      ],
      "source": [
        "primeros = 15\n",
        "n = primeros - 5\n",
        "while(n < primeros):\n",
        "    print(fibo[n]/fibo[n-1])\n",
        "    n += 1"
      ]
    },
    {
      "cell_type": "markdown",
      "metadata": {
        "id": "6Z_UWSxV2cgl"
      },
      "source": [
        "10) A partir de la variable cadena ya dada, mostrar en qué posiciones aparece la letra \"n\"<br>\n",
        "cadena = 'Hola Mundo. Esto es una practica del lenguaje de programación Python'"
      ]
    },
    {
      "cell_type": "code",
      "execution_count": null,
      "metadata": {
        "id": "cTaclaoF2cgl",
        "outputId": "b8d11462-018f-4268-acdd-adb35a32a522"
      },
      "outputs": [
        {
          "name": "stdout",
          "output_type": "stream",
          "text": [
            "7\n",
            "21\n",
            "39\n",
            "60\n",
            "67\n"
          ]
        }
      ],
      "source": [
        "cadena = 'Hola Mundo. Esto es una practica del lenguaje de programación Python'\n",
        "for i, c in enumerate(cadena):\n",
        "    if c == 'n':\n",
        "        print(i)"
      ]
    },
    {
      "cell_type": "markdown",
      "metadata": {
        "id": "Yoo1Wxe32cgm"
      },
      "source": [
        "11) Crear un diccionario e imprimir sus claves utilizando un iterador"
      ]
    },
    {
      "cell_type": "code",
      "execution_count": null,
      "metadata": {
        "id": "vVfKTYA22cgm",
        "outputId": "4ceedb43-4d97-4b3b-d69c-0790b97c72f5"
      },
      "outputs": [
        {
          "name": "stdout",
          "output_type": "stream",
          "text": [
            "Ciudad\n",
            "País\n",
            "Continente\n"
          ]
        }
      ],
      "source": [
        "dicc = {  'Ciudad': ['Buenos Aires','Caracas','Bogotá','Lisboa','Roma'], \n",
        "'País': ['Argentina','Venezuela','Colombia','Portugal','Italia'], \n",
        "'Continente' : ['América','América','América','Europa','Europa']}\n",
        "for i in dicc:\n",
        "    print(i)"
      ]
    },
    {
      "cell_type": "markdown",
      "metadata": {
        "id": "CynSF5Ms2cgm"
      },
      "source": [
        "12) Convertir en una lista la variable \"cadena\" del punto 10 y luego recorrerla con un iterador "
      ]
    },
    {
      "cell_type": "code",
      "execution_count": null,
      "metadata": {
        "id": "GWDP5piW2cgm",
        "outputId": "7acb9940-4939-4771-c3ff-24e4502dcc94"
      },
      "outputs": [
        {
          "name": "stdout",
          "output_type": "stream",
          "text": [
            "<class 'str'>\n",
            "<class 'list'>\n"
          ]
        }
      ],
      "source": [
        "cadena = 'Hola Mundo. Esto es una practica del lenguaje de programación Python'\n",
        "print(type(cadena))\n",
        "cadena = list(cadena)\n",
        "print(type(cadena))"
      ]
    },
    {
      "cell_type": "code",
      "execution_count": null,
      "metadata": {
        "id": "9RzOV5Ci2cgn",
        "outputId": "a347c856-9157-40ff-9f75-8249a5540097"
      },
      "outputs": [
        {
          "name": "stdout",
          "output_type": "stream",
          "text": [
            "H\n",
            "o\n",
            "l\n",
            "a\n",
            " \n",
            "M\n",
            "u\n",
            "n\n",
            "d\n",
            "o\n",
            ".\n",
            " \n",
            "E\n",
            "s\n",
            "t\n",
            "o\n",
            " \n",
            "e\n",
            "s\n",
            " \n",
            "u\n",
            "n\n",
            "a\n",
            " \n",
            "p\n",
            "r\n",
            "a\n",
            "c\n",
            "t\n",
            "i\n",
            "c\n",
            "a\n",
            " \n",
            "d\n",
            "e\n",
            "l\n",
            " \n",
            "l\n",
            "e\n",
            "n\n",
            "g\n",
            "u\n",
            "a\n",
            "j\n",
            "e\n",
            " \n",
            "d\n",
            "e\n",
            " \n",
            "p\n",
            "r\n",
            "o\n",
            "g\n",
            "r\n",
            "a\n",
            "m\n",
            "a\n",
            "c\n",
            "i\n",
            "ó\n",
            "n\n",
            " \n",
            "P\n",
            "y\n",
            "t\n",
            "h\n",
            "o\n",
            "n\n"
          ]
        }
      ],
      "source": [
        "recorre = iter(cadena)\n",
        "largo = len(cadena)\n",
        "for i in range(0, largo):\n",
        "    print(next(recorre))"
      ]
    },
    {
      "cell_type": "markdown",
      "metadata": {
        "id": "jvGFGkqY2cgn"
      },
      "source": [
        "13) Crear dos listas y unirlas en una tupla utilizando la función zip"
      ]
    },
    {
      "cell_type": "code",
      "execution_count": null,
      "metadata": {
        "id": "vcGVigfp2cgn",
        "outputId": "0b2a34a9-69cd-4590-987b-ce5a065bb573"
      },
      "outputs": [
        {
          "name": "stdout",
          "output_type": "stream",
          "text": [
            "<class 'zip'>\n",
            "[('run', 'correr'), ('fly', 'volar'), ('sleep', 'dormir')]\n"
          ]
        }
      ],
      "source": [
        "lis1 = ['run','fly','sleep']\n",
        "lis2 = ['correr','volar','dormir']\n",
        "lisz = zip(lis1, lis2)\n",
        "print(type(lisz))\n",
        "print(list(lisz))"
      ]
    },
    {
      "cell_type": "markdown",
      "metadata": {
        "id": "R3XUQgPj2cgn"
      },
      "source": [
        "14) A partir de la siguiente lista de números, crear una nueva sólo si el número es divisible por 7<br>\n",
        "lis = [18,21,29,32,35,42,56,60,63,71,84,90,91,100]"
      ]
    },
    {
      "cell_type": "code",
      "execution_count": null,
      "metadata": {
        "id": "iheHTfIm2cgn",
        "outputId": "a3257d1f-546a-41af-8574-e55a0c45009a"
      },
      "outputs": [
        {
          "name": "stdout",
          "output_type": "stream",
          "text": [
            "[21, 35, 42, 56, 63, 84, 91]\n"
          ]
        }
      ],
      "source": [
        "lis = [18,21,29,32,35,42,56,60,63,71,84,90,91,100]\n",
        "lis2 = [i for i in lis if i % 7 == 0]\n",
        "print(lis2)"
      ]
    },
    {
      "cell_type": "markdown",
      "metadata": {
        "id": "IfyYJtKz2cgo"
      },
      "source": [
        "15) A partir de la lista de a continuación, contar la cantidad total de elementos que contiene, teniendo en cuenta que un elemento de la lista podría ser otra lista:<br>\n",
        "lis = [[1,2,3,4],'rojo','verde',[True,False,False],['uno','dos','tres']]"
      ]
    },
    {
      "cell_type": "code",
      "execution_count": null,
      "metadata": {
        "id": "suxLYnN72cgo"
      },
      "outputs": [],
      "source": [
        "lis = [[1,2,3,4],'rojo','verde',[True,False,False],['uno','dos','tres']]"
      ]
    },
    {
      "cell_type": "code",
      "execution_count": null,
      "metadata": {
        "id": "hzQp1WZa2cgo",
        "outputId": "c0e97a82-0f7c-425c-a636-b47d121d079d"
      },
      "outputs": [
        {
          "data": {
            "text/plain": [
              "list"
            ]
          },
          "execution_count": 51,
          "metadata": {},
          "output_type": "execute_result"
        }
      ],
      "source": [
        "type(lis)"
      ]
    },
    {
      "cell_type": "code",
      "execution_count": null,
      "metadata": {
        "id": "3A-K_6X_2cgo",
        "outputId": "98389901-854e-4685-a200-8ed9ff643cbe"
      },
      "outputs": [
        {
          "name": "stdout",
          "output_type": "stream",
          "text": [
            "La cantidad total de elementos es 12\n"
          ]
        }
      ],
      "source": [
        "cantidad = 0\n",
        "for elemento in lis:\n",
        "    if (type(elemento) == list):\n",
        "        cantidad += len(elemento)\n",
        "    else:\n",
        "        cantidad += 1\n",
        "print('La cantidad total de elementos es', cantidad)\n"
      ]
    },
    {
      "cell_type": "markdown",
      "metadata": {
        "id": "DsMI8cnO2cgp"
      },
      "source": [
        "16) Tomar la lista del punto anterior y convertir cada elemento en una lista si no lo es"
      ]
    },
    {
      "cell_type": "code",
      "execution_count": null,
      "metadata": {
        "id": "VdyTk8J92cgp",
        "outputId": "21f859dc-3d81-4300-cb6c-cbba93d607bf"
      },
      "outputs": [
        {
          "name": "stdout",
          "output_type": "stream",
          "text": [
            "[[1, 2, 3, 4], ['rojo'], ['verde'], [True, False, False], ['uno', 'dos', 'tres']]\n"
          ]
        }
      ],
      "source": [
        "for indice, elemento in enumerate(lis):\n",
        "    if (type(elemento) != list):\n",
        "        lis[indice]=[elemento]\n",
        "print(lis)"
      ]
    }
  ],
  "metadata": {
    "interpreter": {
      "hash": "c85384e4cb51c8b72350f3a8712cc8351fdc3955e32a27f9b60c6242ab125f01"
    },
    "kernelspec": {
      "display_name": "Python 3 (ipykernel)",
      "language": "python",
      "name": "python3"
    },
    "language_info": {
      "codemirror_mode": {
        "name": "ipython",
        "version": 3
      },
      "file_extension": ".py",
      "mimetype": "text/x-python",
      "name": "python",
      "nbconvert_exporter": "python",
      "pygments_lexer": "ipython3",
      "version": "3.9.7"
    },
    "colab": {
      "provenance": [],
      "include_colab_link": true
    }
  },
  "nbformat": 4,
  "nbformat_minor": 0
}