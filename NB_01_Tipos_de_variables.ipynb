{
  "cells": [
    {
      "cell_type": "markdown",
      "metadata": {
        "id": "view-in-github",
        "colab_type": "text"
      },
      "source": [
        "<a href=\"https://colab.research.google.com/github/vivianahuetio/Notebooks_Python/blob/main/NB_01_Tipos_de_variables.ipynb\" target=\"_parent\"><img src=\"https://colab.research.google.com/assets/colab-badge.svg\" alt=\"Open In Colab\"/></a>"
      ]
    },
    {
      "cell_type": "markdown",
      "metadata": {
        "id": "YyrowBhhtq6y"
      },
      "source": [
        "## Variables"
      ]
    },
    {
      "cell_type": "code",
      "source": [],
      "metadata": {
        "id": "B5NHfMHWuDOE"
      },
      "execution_count": null,
      "outputs": []
    },
    {
      "cell_type": "code",
      "execution_count": 3,
      "metadata": {
        "colab": {
          "base_uri": "https://localhost:8080/"
        },
        "id": "Un-UbBQ7tq65",
        "outputId": "11f7ae60-89b9-4dd2-d823-f14a37238099"
      },
      "outputs": [
        {
          "output_type": "stream",
          "name": "stdout",
          "text": [
            "Hola Perro !\n"
          ]
        }
      ],
      "source": [
        "a = 'Hola '\n",
        "b = 'Perro !'\n",
        "print(a + b)"
      ]
    },
    {
      "cell_type": "code",
      "source": [
        "c = {'a':4, 'd':'peero'}\n",
        "type(c)"
      ],
      "metadata": {
        "colab": {
          "base_uri": "https://localhost:8080/"
        },
        "id": "wAR9ijYNuMDp",
        "outputId": "6c2b791c-e9e2-4ab2-d66b-56e6e09674d5"
      },
      "execution_count": 8,
      "outputs": [
        {
          "output_type": "execute_result",
          "data": {
            "text/plain": [
              "dict"
            ]
          },
          "metadata": {},
          "execution_count": 8
        }
      ]
    },
    {
      "cell_type": "code",
      "execution_count": null,
      "metadata": {
        "id": "zZsUkXQetq67",
        "outputId": "4389cabb-d86c-4b6f-ad6c-d23172d40f12"
      },
      "outputs": [
        {
          "name": "stdout",
          "output_type": "stream",
          "text": [
            "15\n"
          ]
        }
      ],
      "source": [
        "x = 3\n",
        "y = 12\n",
        "print(x + y)"
      ]
    },
    {
      "cell_type": "code",
      "execution_count": null,
      "metadata": {
        "id": "Wg4gkxNDtq68",
        "outputId": "2dc43053-dcb8-41c8-e9d9-cc6c0bdead04"
      },
      "outputs": [
        {
          "ename": "TypeError",
          "evalue": "can only concatenate str (not \"int\") to str",
          "output_type": "error",
          "traceback": [
            "\u001b[1;31m---------------------------------------------------------------------------\u001b[0m",
            "\u001b[1;31mTypeError\u001b[0m                                 Traceback (most recent call last)",
            "\u001b[1;32m~\\AppData\\Local\\Temp/ipykernel_18232/136165486.py\u001b[0m in \u001b[0;36m<module>\u001b[1;34m\u001b[0m\n\u001b[1;32m----> 1\u001b[1;33m \u001b[0mprint\u001b[0m\u001b[1;33m(\u001b[0m\u001b[0ma\u001b[0m \u001b[1;33m+\u001b[0m \u001b[0mx\u001b[0m\u001b[1;33m)\u001b[0m\u001b[1;33m\u001b[0m\u001b[1;33m\u001b[0m\u001b[0m\n\u001b[0m",
            "\u001b[1;31mTypeError\u001b[0m: can only concatenate str (not \"int\") to str"
          ]
        }
      ],
      "source": [
        "print(a + x)"
      ]
    },
    {
      "cell_type": "code",
      "execution_count": null,
      "metadata": {
        "id": "Z9p_VT7ltq68",
        "outputId": "44ff77fb-2759-4008-b3ad-c0cb4253fc2b"
      },
      "outputs": [
        {
          "name": "stdout",
          "output_type": "stream",
          "text": [
            "3.0\n"
          ]
        }
      ],
      "source": [
        "# Dividir \"y\" entre \"x\"\n",
        "y = 9\n",
        "x = 3\n",
        "print(y/x)"
      ]
    },
    {
      "cell_type": "code",
      "execution_count": null,
      "metadata": {
        "id": "Ba08XRbjtq68",
        "outputId": "db2b9237-22a1-47fb-94a4-2013939e346a"
      },
      "outputs": [
        {
          "name": "stdout",
          "output_type": "stream",
          "text": [
            "16\n"
          ]
        }
      ],
      "source": [
        "# Potencia de \"y\" elevado a la \"x\"\n",
        "y = 2\n",
        "x = 4\n",
        "print(y**x)"
      ]
    },
    {
      "cell_type": "code",
      "execution_count": null,
      "metadata": {
        "id": "T_WCXwFBtq69",
        "outputId": "6c5be2a0-51fe-43dc-a744-18169db81cac"
      },
      "outputs": [
        {
          "name": "stdout",
          "output_type": "stream",
          "text": [
            "1\n"
          ]
        }
      ],
      "source": [
        "# Devolver el resto de la división\n",
        "y = 13\n",
        "x = 3\n",
        "print(y%x)"
      ]
    },
    {
      "cell_type": "code",
      "execution_count": null,
      "metadata": {
        "id": "R3hUtZ2btq6-",
        "outputId": "5a199c43-d950-4150-dd8a-f61179f41bdc"
      },
      "outputs": [
        {
          "name": "stdout",
          "output_type": "stream",
          "text": [
            "El número es igual a cero\n"
          ]
        }
      ],
      "source": [
        "valor = 0\n",
        "if (valor < 0):\n",
        "    print('El número es negativo')\n",
        "elif (valor > 0):\n",
        "    print('El número es positivo')\n",
        "else:\n",
        "    print('El número es igual a cero')"
      ]
    },
    {
      "cell_type": "code",
      "execution_count": null,
      "metadata": {
        "id": "MZwT6LH7tq6-",
        "outputId": "ffbd054f-d543-44df-bac7-73ee13353b5d"
      },
      "outputs": [
        {
          "name": "stdout",
          "output_type": "stream",
          "text": [
            "1\n",
            "2\n",
            "3\n",
            "4\n",
            "5\n",
            "6\n",
            "7\n",
            "8\n",
            "9\n"
          ]
        }
      ],
      "source": [
        "for n in range(1,10):\n",
        "    print(n)"
      ]
    },
    {
      "cell_type": "code",
      "execution_count": null,
      "metadata": {
        "id": "fHXond1gtq6_",
        "outputId": "4c91bf30-2a39-46b3-db74-8c0b12b002ea"
      },
      "outputs": [
        {
          "name": "stdout",
          "output_type": "stream",
          "text": [
            "1\n",
            "2\n",
            "3\n",
            "4\n",
            "5\n",
            "6\n",
            "7\n",
            "8\n",
            "9\n"
          ]
        }
      ],
      "source": [
        "n = 1\n",
        "while (n < 10):\n",
        "    print(n)\n",
        "    n = n + 1"
      ]
    },
    {
      "cell_type": "code",
      "execution_count": null,
      "metadata": {
        "id": "rw_sT8W0tq7B",
        "outputId": "e0c785c8-19e7-4fee-be6d-d6313469555d"
      },
      "outputs": [
        {
          "name": "stdout",
          "output_type": "stream",
          "text": [
            "5\n"
          ]
        }
      ],
      "source": [
        "edad = (3,1,0.2,8,7)\n",
        "print(len(edad))"
      ]
    },
    {
      "cell_type": "markdown",
      "metadata": {
        "id": "Ne-hFsLitq7B"
      },
      "source": [
        "Listas"
      ]
    },
    {
      "cell_type": "code",
      "execution_count": null,
      "metadata": {
        "id": "s4VSgFiatq7B"
      },
      "outputs": [],
      "source": [
        "mi_lista = ['Rojo','Azul','Amarillo','Naranja','Violeta','Verde']"
      ]
    },
    {
      "cell_type": "code",
      "execution_count": null,
      "metadata": {
        "id": "zRlrDVGKtq7C",
        "outputId": "1d588224-aed6-458b-c059-c7e912bdcc57"
      },
      "outputs": [
        {
          "data": {
            "text/plain": [
              "list"
            ]
          },
          "execution_count": 39,
          "metadata": {},
          "output_type": "execute_result"
        }
      ],
      "source": [
        "type(mi_lista)"
      ]
    },
    {
      "cell_type": "code",
      "execution_count": null,
      "metadata": {
        "id": "Ws-r-iHStq7C",
        "outputId": "e0862e9a-0a5a-4628-948e-f69a6480d61d"
      },
      "outputs": [
        {
          "name": "stdout",
          "output_type": "stream",
          "text": [
            "['Rojo', 'Azul', 'Amarillo', 'Negro', 'Naranja', 'Violeta', 'Verde']\n"
          ]
        }
      ],
      "source": [
        "print(mi_lista)"
      ]
    },
    {
      "cell_type": "code",
      "execution_count": null,
      "metadata": {
        "id": "qGmy_7Q3tq7C",
        "outputId": "2aaaf385-36a4-4fc4-c0c1-955e6caddfb7"
      },
      "outputs": [
        {
          "name": "stdout",
          "output_type": "stream",
          "text": [
            "['Rojo', 'Azul']\n"
          ]
        }
      ],
      "source": [
        "print(mi_lista[0:2])"
      ]
    },
    {
      "cell_type": "code",
      "execution_count": null,
      "metadata": {
        "id": "8DvJZ_n6tq7C",
        "outputId": "6f6a08e5-09ed-4ad1-8542-660d58356a3a"
      },
      "outputs": [
        {
          "name": "stdout",
          "output_type": "stream",
          "text": [
            "['Rojo', 'Azul']\n"
          ]
        }
      ],
      "source": [
        "print(mi_lista[:2])"
      ]
    },
    {
      "cell_type": "code",
      "execution_count": null,
      "metadata": {
        "id": "Lx8yoGFutq7C",
        "outputId": "f8ac3478-5948-4051-abbb-09f456a3452b"
      },
      "outputs": [
        {
          "name": "stdout",
          "output_type": "stream",
          "text": [
            "['Azul', 'Amarillo']\n"
          ]
        }
      ],
      "source": [
        "print(mi_lista[1:])"
      ]
    },
    {
      "cell_type": "code",
      "execution_count": null,
      "metadata": {
        "id": "EVbf07uetq7D"
      },
      "outputs": [],
      "source": [
        "mi_lista.insert(3,'Negro')"
      ]
    },
    {
      "cell_type": "code",
      "execution_count": null,
      "metadata": {
        "id": "Dl5R9pePtq7D",
        "outputId": "bb76d9d1-03f0-4cec-cf4e-c499dfb8f48f"
      },
      "outputs": [
        {
          "name": "stdout",
          "output_type": "stream",
          "text": [
            "1\n"
          ]
        }
      ],
      "source": [
        "print(mi_lista.index('Azul'))"
      ]
    },
    {
      "cell_type": "code",
      "execution_count": null,
      "metadata": {
        "id": "AZ8J-RQYtq7D"
      },
      "outputs": [],
      "source": [
        "mi_lista.insert(3,'Negro')"
      ]
    },
    {
      "cell_type": "code",
      "execution_count": null,
      "metadata": {
        "id": "nNSuxGvLtq7D"
      },
      "outputs": [],
      "source": [
        "mi_lista.extend(['Marrón','Gris'])"
      ]
    },
    {
      "cell_type": "code",
      "execution_count": null,
      "metadata": {
        "id": "y__4hJArtq7D",
        "outputId": "b1d0ab73-fa97-4e5d-cd32-278b78d6831d"
      },
      "outputs": [
        {
          "name": "stdout",
          "output_type": "stream",
          "text": [
            "['a', 'b', 'c', 'a', 'b', 'c', 'a', 'b', 'c']\n"
          ]
        }
      ],
      "source": [
        "print(['a','b','c'] * 3)"
      ]
    },
    {
      "cell_type": "code",
      "execution_count": null,
      "metadata": {
        "id": "CYh_-jSTtq7E",
        "outputId": "a7433da5-adc6-4186-d383-bb217590afab"
      },
      "outputs": [
        {
          "name": "stdout",
          "output_type": "stream",
          "text": [
            "1\n"
          ]
        }
      ],
      "source": [
        "print(mi_lista.index('Azul'))"
      ]
    },
    {
      "cell_type": "code",
      "execution_count": null,
      "metadata": {
        "id": "2rM31Qb7tq7E",
        "outputId": "a765c4f3-c6ee-452c-a44e-784ac9880c77"
      },
      "outputs": [
        {
          "ename": "ValueError",
          "evalue": "list.remove(x): x not in list",
          "output_type": "error",
          "traceback": [
            "\u001b[1;31m---------------------------------------------------------------------------\u001b[0m",
            "\u001b[1;31mValueError\u001b[0m                                Traceback (most recent call last)",
            "\u001b[1;32m~\\AppData\\Local\\Temp/ipykernel_10044/2480624766.py\u001b[0m in \u001b[0;36m<module>\u001b[1;34m\u001b[0m\n\u001b[1;32m----> 1\u001b[1;33m \u001b[0mmi_lista\u001b[0m\u001b[1;33m.\u001b[0m\u001b[0mremove\u001b[0m\u001b[1;33m(\u001b[0m\u001b[1;34m'Blanco'\u001b[0m\u001b[1;33m)\u001b[0m\u001b[1;33m\u001b[0m\u001b[1;33m\u001b[0m\u001b[0m\n\u001b[0m",
            "\u001b[1;31mValueError\u001b[0m: list.remove(x): x not in list"
          ]
        }
      ],
      "source": [
        "mi_lista.remove('Blanco')"
      ]
    },
    {
      "cell_type": "code",
      "execution_count": null,
      "metadata": {
        "id": "hVzaZTqItq7E",
        "outputId": "dc1d76c4-6353-4451-b27e-ce4ffa65ac2f"
      },
      "outputs": [
        {
          "ename": "ValueError",
          "evalue": "list.remove(x): x not in list",
          "output_type": "error",
          "traceback": [
            "\u001b[1;31m---------------------------------------------------------------------------\u001b[0m",
            "\u001b[1;31mValueError\u001b[0m                                Traceback (most recent call last)",
            "\u001b[1;32m~\\AppData\\Local\\Temp/ipykernel_10044/298389232.py\u001b[0m in \u001b[0;36m<module>\u001b[1;34m\u001b[0m\n\u001b[1;32m----> 1\u001b[1;33m \u001b[0mmi_lista\u001b[0m\u001b[1;33m.\u001b[0m\u001b[0mremove\u001b[0m\u001b[1;33m(\u001b[0m\u001b[1;34m'Negro'\u001b[0m\u001b[1;33m)\u001b[0m\u001b[1;33m\u001b[0m\u001b[1;33m\u001b[0m\u001b[0m\n\u001b[0m",
            "\u001b[1;31mValueError\u001b[0m: list.remove(x): x not in list"
          ]
        }
      ],
      "source": [
        "mi_lista.remove('Negro')"
      ]
    },
    {
      "cell_type": "code",
      "execution_count": null,
      "metadata": {
        "id": "CZgEEjy_tq7E"
      },
      "outputs": [],
      "source": [
        "ultimo = mi_lista.pop()"
      ]
    },
    {
      "cell_type": "code",
      "execution_count": null,
      "metadata": {
        "id": "Hk_bPp23tq7E",
        "outputId": "e9b87931-00ae-4f2e-adb6-9fc3375504fa"
      },
      "outputs": [
        {
          "name": "stdout",
          "output_type": "stream",
          "text": [
            "Gris\n"
          ]
        }
      ],
      "source": [
        "ultimo = mi_lista.pop()\n",
        "print(ultimo)"
      ]
    },
    {
      "cell_type": "code",
      "execution_count": null,
      "metadata": {
        "id": "glBoFX_ztq7E"
      },
      "outputs": [],
      "source": [
        "ultimo = mi_lista.pop()"
      ]
    },
    {
      "cell_type": "code",
      "execution_count": null,
      "metadata": {
        "id": "sPS6ZWSAtq7E",
        "outputId": "8003a678-93ba-4979-e4dd-ba260c7efc60"
      },
      "outputs": [
        {
          "data": {
            "text/plain": [
              "'Amarillo'"
            ]
          },
          "execution_count": 35,
          "metadata": {},
          "output_type": "execute_result"
        }
      ],
      "source": [
        "ultimo"
      ]
    },
    {
      "cell_type": "code",
      "execution_count": null,
      "metadata": {
        "id": "WZw2KmRBtq7F"
      },
      "outputs": [],
      "source": [
        "mi_tupla=tuple(mi_lista)"
      ]
    },
    {
      "cell_type": "code",
      "execution_count": null,
      "metadata": {
        "id": "3Ou46hQStq7F",
        "outputId": "0f3eaec7-6314-48ed-9a65-ccdd487bfede"
      },
      "outputs": [
        {
          "name": "stdout",
          "output_type": "stream",
          "text": [
            "Azul\n"
          ]
        }
      ],
      "source": [
        "print(mi_tupla[1])"
      ]
    },
    {
      "cell_type": "code",
      "execution_count": null,
      "metadata": {
        "id": "oi-CHoirtq7F",
        "outputId": "aa60997d-ec8f-403e-a8c8-ec3bd916da4a"
      },
      "outputs": [
        {
          "data": {
            "text/plain": [
              "True"
            ]
          },
          "execution_count": 74,
          "metadata": {},
          "output_type": "execute_result"
        }
      ],
      "source": [
        "'Rojo' in mi_tupla"
      ]
    },
    {
      "cell_type": "code",
      "execution_count": null,
      "metadata": {
        "id": "Fupn6Tahtq7F",
        "outputId": "60aa3cad-3479-4cdd-9909-0b4c3871510d"
      },
      "outputs": [
        {
          "data": {
            "text/plain": [
              "1"
            ]
          },
          "execution_count": 75,
          "metadata": {},
          "output_type": "execute_result"
        }
      ],
      "source": [
        " mi_tupla.count('Rojo')"
      ]
    },
    {
      "cell_type": "code",
      "execution_count": null,
      "metadata": {
        "id": "thxHnpfWtq7F",
        "outputId": "6793499a-8855-48d8-b35d-0ae9a90edf3c"
      },
      "outputs": [
        {
          "name": "stdout",
          "output_type": "stream",
          "text": [
            "['Rojo', 'Azul', 'Amarillo', 'Negro', 'Marrón', 'Gris', 'Rojo', 'Azul', 'Amarillo', 'Negro', 'Marrón', 'Gris', 'Rojo', 'Azul', 'Amarillo', 'Negro', 'Marrón', 'Gris']\n"
          ]
        }
      ],
      "source": [
        "print(mi_lista[:] * 3)"
      ]
    },
    {
      "cell_type": "code",
      "execution_count": null,
      "metadata": {
        "id": "S0lmqXtStq7F",
        "outputId": "cb5f3c8d-024d-4798-84c5-0c2f8b623260"
      },
      "outputs": [
        {
          "data": {
            "text/plain": [
              "1"
            ]
          },
          "execution_count": 55,
          "metadata": {},
          "output_type": "execute_result"
        }
      ],
      "source": [
        "mi_tupla.count('Rojo')"
      ]
    },
    {
      "cell_type": "code",
      "execution_count": null,
      "metadata": {
        "id": "SM7XxEwktq7F"
      },
      "outputs": [],
      "source": [
        "mi_tupla='Gaspar', 5, 8, 1999"
      ]
    },
    {
      "cell_type": "code",
      "execution_count": null,
      "metadata": {
        "id": "fWBEz_-ytq7F",
        "outputId": "b0ebcc1f-b1f1-4e18-b4ba-ad7f75c4183a"
      },
      "outputs": [
        {
          "name": "stdout",
          "output_type": "stream",
          "text": [
            "Nombre:  Gaspar  - Dia: 5  - Mes:  8  - Año:  1999\n"
          ]
        }
      ],
      "source": [
        "nombre, dia, mes, año = mi_tupla\n",
        "print(\"Nombre: \", nombre, \" - Dia:\", dia, \" - Mes: \", mes, \" - Año: \", año)"
      ]
    },
    {
      "cell_type": "code",
      "execution_count": null,
      "metadata": {
        "id": "Y21nrDGktq7G",
        "outputId": "fbf41392-4bbc-4bc6-cf13-ccf114408f52"
      },
      "outputs": [
        {
          "name": "stdout",
          "output_type": "stream",
          "text": [
            "Darío 39\n",
            "Mi nombre es Darío . Mi edad es 39 años\n",
            "Mi nombre es Darío. Mi edad es 39 años\n"
          ]
        }
      ],
      "source": [
        "nombre = 'Darío'\n",
        "edad = 39\n",
        "print(nombre, edad)\n",
        "print(\"Mi nombre es\", nombre, \". Mi edad es\", edad, \"años\")\n",
        "print(\"Mi nombre es {}. Mi edad es {} años\". format(nombre, edad))"
      ]
    },
    {
      "cell_type": "code",
      "execution_count": null,
      "metadata": {
        "id": "eQuXv8edtq7G"
      },
      "outputs": [],
      "source": [
        "mi_diccionario = {  'Colores Primarios': ['Rojo','Azul','Amarillo'], \n",
        "                    'Colores secundarios': ['Naranja','Violeta','Verde'], \n",
        "                    'Clave3': 10,\n",
        "                    'Clave4': False}"
      ]
    },
    {
      "cell_type": "code",
      "execution_count": null,
      "metadata": {
        "id": "msQDLetPtq7G",
        "outputId": "14151393-e8c3-4a67-9c01-313aa0c95e3a"
      },
      "outputs": [
        {
          "name": "stdout",
          "output_type": "stream",
          "text": [
            "['Naranja', 'Violeta', 'Verde']\n"
          ]
        }
      ],
      "source": [
        "print(mi_diccionario['Colores secundarios'])"
      ]
    },
    {
      "cell_type": "code",
      "execution_count": null,
      "metadata": {
        "id": "9Q1KAtZjtq7G"
      },
      "outputs": [],
      "source": [
        "mi_diccionario={'Clave1':'Valor1', 'Clave2':{'numeros':[1,2,3,4,5]}}"
      ]
    },
    {
      "cell_type": "code",
      "execution_count": null,
      "metadata": {
        "id": "YluXyBOAtq7G",
        "outputId": "04f2e594-c927-494b-ef9d-3cef1a1d96d2"
      },
      "outputs": [
        {
          "name": "stdout",
          "output_type": "stream",
          "text": [
            "dict_keys(['Clave1', 'Clave2'])\n"
          ]
        }
      ],
      "source": [
        "print(mi_diccionario.keys())"
      ]
    },
    {
      "cell_type": "code",
      "execution_count": null,
      "metadata": {
        "id": "wDM2aJUytq7G",
        "outputId": "75047590-f51c-4bfa-e91f-4627c3ac0a67"
      },
      "outputs": [
        {
          "name": "stdout",
          "output_type": "stream",
          "text": [
            "dict_values(['Valor1', {'numeros': [1, 2, 3, 4, 5]}])\n"
          ]
        }
      ],
      "source": [
        "print(mi_diccionario.values())"
      ]
    },
    {
      "cell_type": "code",
      "execution_count": null,
      "metadata": {
        "id": "TS-XkKgAtq7G",
        "outputId": "e4b6a26a-c6d3-44a1-d3dd-1a1f29d4ca40"
      },
      "outputs": [
        {
          "data": {
            "text/plain": [
              "2"
            ]
          },
          "execution_count": 85,
          "metadata": {},
          "output_type": "execute_result"
        }
      ],
      "source": [
        "len(mi_diccionario)"
      ]
    },
    {
      "cell_type": "code",
      "execution_count": null,
      "metadata": {
        "id": "JdttsUDKtq7H",
        "outputId": "de0d8010-dea1-4d32-a9dc-170f58ca58d3"
      },
      "outputs": [
        {
          "name": "stdout",
          "output_type": "stream",
          "text": [
            "50\n"
          ]
        }
      ],
      "source": [
        "edad = 60\n",
        "edad_compa = 50\n",
        "if (edad < edad_compa):\n",
        "    print(edad)\n",
        "    if (edad < 100):\n",
        "        print(edad + 100)\n",
        "    else:\n",
        "        print(edad - 100)\n",
        "else:\n",
        "    print(edad_compa)"
      ]
    },
    {
      "cell_type": "code",
      "execution_count": null,
      "metadata": {
        "id": "XC24OT7Rtq7H",
        "outputId": "469d6293-9623-4c17-fc14-a6b8377c010c"
      },
      "outputs": [
        {
          "name": "stdout",
          "output_type": "stream",
          "text": [
            "[0, 1, 2, 3, 4, 5, 6, 7, 8, 9]\n"
          ]
        }
      ],
      "source": [
        "primeros_10 = [0,1,2,3,4,5,6,7,8,9]\n",
        "print(primeros_10)"
      ]
    },
    {
      "cell_type": "code",
      "execution_count": null,
      "metadata": {
        "id": "Utj-96iFtq7H",
        "outputId": "f8a42f7d-9e3f-4952-a8e3-cd7409226a10"
      },
      "outputs": [
        {
          "name": "stdout",
          "output_type": "stream",
          "text": [
            "0\n",
            "2\n",
            "4\n",
            "6\n",
            "8\n",
            "\n",
            "va de nuevo....\n",
            "\n"
          ]
        }
      ],
      "source": [
        "for n in primeros_10:\n",
        "    if (n%2 == 0):\n",
        "        print(n)\n",
        "        primeros_10[n]=0\n",
        "print(\"\\nva de nuevo....\\n\")"
      ]
    },
    {
      "cell_type": "code",
      "execution_count": null,
      "metadata": {
        "id": "d7BQhwL7tq7H",
        "outputId": "cc1ccb42-1a6c-447e-fb91-891229552981"
      },
      "outputs": [
        {
          "name": "stdout",
          "output_type": "stream",
          "text": [
            "[0, 1, 0, 3, 0, 5, 0, 7, 0, 9]\n"
          ]
        }
      ],
      "source": [
        "print(primeros_10)"
      ]
    },
    {
      "cell_type": "code",
      "execution_count": null,
      "metadata": {
        "id": "f2ZtPM6Otq7I",
        "outputId": "368d8966-e265-4ac9-f1c8-0d4171101717"
      },
      "outputs": [
        {
          "name": "stdout",
          "output_type": "stream",
          "text": [
            "0\n",
            "1\n",
            "0\n",
            "3\n",
            "0\n",
            "5\n",
            "0\n",
            "7\n",
            "0\n",
            "9\n",
            "\n",
            "va de nuevo....\n",
            "\n"
          ]
        }
      ],
      "source": [
        "for n in primeros_10:\n",
        "    print(primeros_10[n])\n",
        "print(\"\\nva de nuevo....\\n\")"
      ]
    },
    {
      "cell_type": "code",
      "execution_count": null,
      "metadata": {
        "id": "Wd6wuhnytq7I",
        "outputId": "812a7c58-089b-4b1c-f2f6-c8c6f615dd28"
      },
      "outputs": [
        {
          "name": "stdout",
          "output_type": "stream",
          "text": [
            "9\n"
          ]
        }
      ],
      "source": [
        "print(primeros_10[9])"
      ]
    },
    {
      "cell_type": "code",
      "execution_count": null,
      "metadata": {
        "id": "zAogpea2tq7I"
      },
      "outputs": [],
      "source": [
        "primeros_10 = ['a','b','c','d']"
      ]
    },
    {
      "cell_type": "code",
      "execution_count": null,
      "metadata": {
        "id": "Kcw0NeuZtq7I",
        "outputId": "5f5e698c-eee3-417b-c0a6-d7b05b3c8dd0"
      },
      "outputs": [
        {
          "ename": "IndexError",
          "evalue": "list index out of range",
          "output_type": "error",
          "traceback": [
            "\u001b[1;31m---------------------------------------------------------------------------\u001b[0m",
            "\u001b[1;31mIndexError\u001b[0m                                Traceback (most recent call last)",
            "\u001b[1;32m<ipython-input-21-1f7c241d828c>\u001b[0m in \u001b[0;36m<module>\u001b[1;34m\u001b[0m\n\u001b[1;32m----> 1\u001b[1;33m \u001b[0mprimeros_10\u001b[0m\u001b[1;33m[\u001b[0m\u001b[1;36m4\u001b[0m\u001b[1;33m]\u001b[0m\u001b[1;33m\u001b[0m\u001b[1;33m\u001b[0m\u001b[0m\n\u001b[0m",
            "\u001b[1;31mIndexError\u001b[0m: list index out of range"
          ]
        }
      ],
      "source": [
        "primeros_10[4]"
      ]
    },
    {
      "cell_type": "code",
      "execution_count": null,
      "metadata": {
        "id": "FldtzXAVtq7I"
      },
      "outputs": [],
      "source": [
        "n = 40\n",
        "sequence = [0,1]"
      ]
    },
    {
      "cell_type": "code",
      "execution_count": null,
      "metadata": {
        "id": "BMER3UpUtq7J",
        "outputId": "9c3a82a6-559c-4585-c7c2-a6ddd19105fe"
      },
      "outputs": [
        {
          "name": "stdout",
          "output_type": "stream",
          "text": [
            "[0, 1, 1, 2, 3, 5, 8, 13, 21, 34, 55, 89, 144, 233, 377, 610, 987, 1597, 2584, 4181, 6765, 10946, 17711, 28657, 46368, 75025, 121393, 196418, 317811, 514229, 832040, 1346269, 2178309, 3524578, 5702887, 9227465, 14930352, 24157817, 39088169, 63245986]\n"
          ]
        }
      ],
      "source": [
        "for i in range(2,n):\n",
        "    sequence.append(sequence[i-1]+sequence[i-2])\n",
        "print (sequence)"
      ]
    },
    {
      "cell_type": "code",
      "execution_count": null,
      "metadata": {
        "id": "NTIqZeTZtq7J"
      },
      "outputs": [],
      "source": [
        "mi_diccionario = {  'Colores Primarios': ['Rojo','Azul','Amarillo'], \n",
        "                        'Colores secundarios': ['Naranja','Violeta','Verde'], \n",
        "                        'Clave3': 10,\n",
        "                        'Clave4': False}"
      ]
    },
    {
      "cell_type": "code",
      "execution_count": null,
      "metadata": {
        "id": "HOkQpxettq7J",
        "outputId": "19dc1ed1-7522-45b6-c4c0-7cc5b634a8d7"
      },
      "outputs": [
        {
          "name": "stdout",
          "output_type": "stream",
          "text": [
            "['Naranja', 'Violeta', 'Verde']\n"
          ]
        }
      ],
      "source": [
        "print(mi_diccionario['Colores secundarios'])"
      ]
    },
    {
      "cell_type": "code",
      "execution_count": null,
      "metadata": {
        "id": "C6eAtQKAtq7J"
      },
      "outputs": [],
      "source": [
        "mi_diccionario['Clave3']=2"
      ]
    },
    {
      "cell_type": "code",
      "execution_count": null,
      "metadata": {
        "id": "ORYasTJOtq7J",
        "outputId": "58722774-257d-4039-dc05-ae72d0acb4c5"
      },
      "outputs": [
        {
          "data": {
            "text/plain": [
              "{'Argentina': 'Buenos Aires', 'Italia': 'Roma', 'Inglaterra': 'Londres'}"
            ]
          },
          "execution_count": 69,
          "metadata": {},
          "output_type": "execute_result"
        }
      ],
      "source": [
        "mi_diccionario"
      ]
    },
    {
      "cell_type": "code",
      "execution_count": null,
      "metadata": {
        "id": "O8cKEQNetq7J"
      },
      "outputs": [],
      "source": [
        "mi_diccionario['Clave5']='Otro ejemplo'"
      ]
    },
    {
      "cell_type": "code",
      "execution_count": null,
      "metadata": {
        "id": "T7NE-Pj_tq7J"
      },
      "outputs": [],
      "source": [
        "mi_tupla=(\"Argentina\", \"Italia\", \"Inglaterra\")\n",
        "mi_diccionario={mi_tupla[0]:\"Buenos Aires\", mi_tupla[1]:\"Roma\", mi_tupla[2]:\"Londres\"}"
      ]
    },
    {
      "cell_type": "code",
      "execution_count": null,
      "metadata": {
        "id": "jsEpZo4Rtq7J"
      },
      "outputs": [],
      "source": [
        "mi_diccionario={'Clave1':'Valor1', 'Clave2':(1,2,3,4,5)}"
      ]
    },
    {
      "cell_type": "code",
      "execution_count": null,
      "metadata": {
        "id": "_RcS1pQ-tq7K",
        "outputId": "6f4af2e8-5683-40e2-c3f8-4a61fd5fabd6"
      },
      "outputs": [
        {
          "data": {
            "text/plain": [
              "tuple"
            ]
          },
          "execution_count": 73,
          "metadata": {},
          "output_type": "execute_result"
        }
      ],
      "source": [
        "type(mi_diccionario['Clave2'])"
      ]
    },
    {
      "cell_type": "code",
      "execution_count": null,
      "metadata": {
        "id": "uGxtQ84ntq7K"
      },
      "outputs": [],
      "source": [
        "mi_diccionario={'Clave1':'Valor1', 'Clave2':{'numeros':[1,2,3,4,5]}}"
      ]
    },
    {
      "cell_type": "code",
      "execution_count": null,
      "metadata": {
        "id": "sE2FRFxqtq7K",
        "outputId": "049cb685-4f86-4879-ddba-85b22a21b07b"
      },
      "outputs": [
        {
          "data": {
            "text/plain": [
              "dict"
            ]
          },
          "execution_count": 75,
          "metadata": {},
          "output_type": "execute_result"
        }
      ],
      "source": [
        "type(mi_diccionario['Clave2'])"
      ]
    },
    {
      "cell_type": "code",
      "execution_count": null,
      "metadata": {
        "id": "3lxbH4lttq7K"
      },
      "outputs": [],
      "source": [
        "mi_diccionario={'Clave1':'Valor1', 'Clave2':[1,2,3,4,5]}"
      ]
    },
    {
      "cell_type": "code",
      "execution_count": null,
      "metadata": {
        "id": "jghUlQDWtq7K",
        "outputId": "06e708d7-892f-4cd3-9688-67d32b67fb96"
      },
      "outputs": [
        {
          "data": {
            "text/plain": [
              "list"
            ]
          },
          "execution_count": 77,
          "metadata": {},
          "output_type": "execute_result"
        }
      ],
      "source": [
        "type(mi_diccionario['Clave2'])"
      ]
    },
    {
      "cell_type": "code",
      "execution_count": null,
      "metadata": {
        "id": "2KGR6O_2tq7K",
        "outputId": "c2f55936-b45e-4f04-c706-8aeb82428f75"
      },
      "outputs": [
        {
          "name": "stdout",
          "output_type": "stream",
          "text": [
            "dict_keys(['Clave1', 'Clave2'])\n"
          ]
        }
      ],
      "source": [
        "print(mi_diccionario.keys())"
      ]
    },
    {
      "cell_type": "code",
      "execution_count": null,
      "metadata": {
        "id": "Qlqy4yojtq7K",
        "outputId": "af0d6f79-2ca6-4fcc-eddb-eeb61a73a620"
      },
      "outputs": [
        {
          "name": "stdout",
          "output_type": "stream",
          "text": [
            "dict_values(['Valor1', [1, 2, 3, 4, 5]])\n"
          ]
        }
      ],
      "source": [
        "print(mi_diccionario.values())"
      ]
    },
    {
      "cell_type": "code",
      "execution_count": null,
      "metadata": {
        "id": "ny73hYLTtq7K",
        "outputId": "caefd3b5-1f69-4ca7-8b15-83a209cd8832"
      },
      "outputs": [
        {
          "data": {
            "text/plain": [
              "3"
            ]
          },
          "execution_count": 82,
          "metadata": {},
          "output_type": "execute_result"
        }
      ],
      "source": [
        "len(mi_tupla)"
      ]
    },
    {
      "cell_type": "code",
      "execution_count": null,
      "metadata": {
        "id": "0l_PvWRVtq7K"
      },
      "outputs": [],
      "source": [
        "def imprimir_valor_variable(var):\n",
        "    print('El valor de la variable es' + str(var))"
      ]
    },
    {
      "cell_type": "code",
      "execution_count": null,
      "metadata": {
        "id": "66JHlV1Atq7L",
        "outputId": "2d5027ba-034e-410e-d9a7-4803d73d2c80"
      },
      "outputs": [
        {
          "name": "stdout",
          "output_type": "stream",
          "text": [
            "El valor de la variable es['Rojo', 'Azul', 'Amarillo', 'Negro', 'Marrón', 'Gris']\n"
          ]
        }
      ],
      "source": [
        "imprimir_valor_variable(mi_lista)"
      ]
    },
    {
      "cell_type": "code",
      "execution_count": null,
      "metadata": {
        "id": "5N2vHTJAtq7L"
      },
      "outputs": [],
      "source": [
        "def ordenar_dos_numeros(num1, num2):\n",
        "        if (num1 > num2):\n",
        "            return num2, num1\n",
        "        else:\n",
        "            return num1, num2"
      ]
    },
    {
      "cell_type": "code",
      "execution_count": null,
      "metadata": {
        "id": "3yCecWEQtq7L",
        "outputId": "883c58de-61e5-42fb-ce1c-6ea686af79fa"
      },
      "outputs": [
        {
          "data": {
            "text/plain": [
              "(1, 8)"
            ]
          },
          "execution_count": 4,
          "metadata": {},
          "output_type": "execute_result"
        }
      ],
      "source": [
        "ordenar_dos_numeros(8,1)"
      ]
    },
    {
      "cell_type": "code",
      "execution_count": null,
      "metadata": {
        "id": "dW9Htt5Xtq7L"
      },
      "outputs": [],
      "source": [
        "def factorial(numero):\n",
        "    '''\n",
        "    Devuelve el factorial\n",
        "    '''\n",
        "    if (numero > 1):\n",
        "        numero = numero * factorial(numero - 1)\n",
        "    return numero"
      ]
    },
    {
      "cell_type": "code",
      "execution_count": null,
      "metadata": {
        "id": "q2BWgni5tq7L",
        "outputId": "818e2168-4944-4976-cd46-d7acbe7cfd20"
      },
      "outputs": [
        {
          "data": {
            "text/plain": [
              "6"
            ]
          },
          "execution_count": 11,
          "metadata": {},
          "output_type": "execute_result"
        }
      ],
      "source": [
        "factorial(3)"
      ]
    },
    {
      "cell_type": "code",
      "execution_count": null,
      "metadata": {
        "id": "ExIdx4yftq7L",
        "outputId": "810f6e85-dc8d-403f-f26f-ceec2b20a7be"
      },
      "outputs": [
        {
          "name": "stdout",
          "output_type": "stream",
          "text": [
            "Help on function factorial in module __main__:\n",
            "\n",
            "factorial(numero)\n",
            "    Devuelve el factorial\n",
            "\n"
          ]
        }
      ],
      "source": [
        "help(factorial)"
      ]
    },
    {
      "cell_type": "code",
      "execution_count": null,
      "metadata": {
        "id": "DLBCd4sKtq7L"
      },
      "outputs": [],
      "source": [
        "def dividir(dividendo, divisor = 1):\n",
        "    if (divisor == 0):\n",
        "        return 'No se puede dividir por cero'\n",
        "    else:\n",
        "        return dividendo / divisor"
      ]
    },
    {
      "cell_type": "code",
      "execution_count": null,
      "metadata": {
        "id": "QtCxuPnStq7L",
        "outputId": "a9292bc4-1c4d-4d9a-e2d8-2ac3bd53c571"
      },
      "outputs": [
        {
          "name": "stdout",
          "output_type": "stream",
          "text": [
            "10.0\n"
          ]
        }
      ],
      "source": [
        "print(dividir(10))"
      ]
    },
    {
      "cell_type": "code",
      "execution_count": null,
      "metadata": {
        "id": "jGkZ4J9wtq7M",
        "outputId": "0de68fe4-221b-4785-ea72-12a6beaaf0a2"
      },
      "outputs": [
        {
          "ename": "NameError",
          "evalue": "name 'divisor' is not defined",
          "output_type": "error",
          "traceback": [
            "\u001b[1;31m---------------------------------------------------------------------------\u001b[0m",
            "\u001b[1;31mNameError\u001b[0m                                 Traceback (most recent call last)",
            "\u001b[1;32m~\\AppData\\Local\\Temp/ipykernel_10044/1862935505.py\u001b[0m in \u001b[0;36m<module>\u001b[1;34m\u001b[0m\n\u001b[1;32m----> 1\u001b[1;33m \u001b[0mprint\u001b[0m\u001b[1;33m(\u001b[0m\u001b[0mdivisor\u001b[0m\u001b[1;33m)\u001b[0m\u001b[1;33m\u001b[0m\u001b[1;33m\u001b[0m\u001b[0m\n\u001b[0m",
            "\u001b[1;31mNameError\u001b[0m: name 'divisor' is not defined"
          ]
        }
      ],
      "source": [
        "print(divisor)"
      ]
    },
    {
      "cell_type": "code",
      "execution_count": null,
      "metadata": {
        "id": "FnO_6pMstq7M"
      },
      "outputs": [],
      "source": [
        "divisor = 5\n",
        "def dividir(dividendo):\n",
        "    if (divisor == 0):\n",
        "        return 'No se puede dividir por cero'\n",
        "    else:\n",
        "        return dividendo / divisor"
      ]
    },
    {
      "cell_type": "code",
      "execution_count": null,
      "metadata": {
        "id": "EbnDqyM-tq7M",
        "outputId": "7faedfff-5f53-4541-fbc6-791855a7a6c5"
      },
      "outputs": [
        {
          "name": "stdout",
          "output_type": "stream",
          "text": [
            "2.0\n"
          ]
        }
      ],
      "source": [
        "print(dividir(10))"
      ]
    },
    {
      "cell_type": "code",
      "execution_count": null,
      "metadata": {
        "id": "Bz4xvz6_tq7M",
        "outputId": "27608680-0b98-42b2-c427-d390aa46c8c7"
      },
      "outputs": [
        {
          "name": "stdout",
          "output_type": "stream",
          "text": [
            "5\n"
          ]
        }
      ],
      "source": [
        "print(divisor)"
      ]
    },
    {
      "cell_type": "code",
      "execution_count": null,
      "metadata": {
        "id": "-xJDfB3Etq7M"
      },
      "outputs": [],
      "source": [
        "divisor = 5\n",
        "def dividir(dividendo, divisor = 1):\n",
        "    if (divisor == 0):\n",
        "        return 'No se puede dividir por cero'\n",
        "    else:\n",
        "        return dividendo / divisor"
      ]
    },
    {
      "cell_type": "code",
      "execution_count": null,
      "metadata": {
        "id": "p0hEERTPtq7M",
        "outputId": "c6e77cf9-00de-433b-9881-7811b53cf686"
      },
      "outputs": [
        {
          "name": "stdout",
          "output_type": "stream",
          "text": [
            "10.0\n"
          ]
        }
      ],
      "source": [
        "print(dividir(10))"
      ]
    },
    {
      "cell_type": "code",
      "execution_count": null,
      "metadata": {
        "id": "ZRfE7Y-Htq7M",
        "outputId": "eaa499b5-5801-4d1c-ca38-70b3da2c0f9a"
      },
      "outputs": [
        {
          "name": "stdout",
          "output_type": "stream",
          "text": [
            "5\n"
          ]
        }
      ],
      "source": [
        "print(divisor)"
      ]
    },
    {
      "cell_type": "code",
      "execution_count": null,
      "metadata": {
        "id": "VGD0cZQatq7N",
        "outputId": "8b74d6bd-0c4f-4aa8-cf9a-4d644304cbb2"
      },
      "outputs": [
        {
          "data": {
            "text/plain": [
              "12"
            ]
          },
          "execution_count": 23,
          "metadata": {},
          "output_type": "execute_result"
        }
      ],
      "source": [
        "lambda_producto = lambda x, y: x * y\n",
        "lambda_producto(3, 4)"
      ]
    },
    {
      "cell_type": "code",
      "execution_count": null,
      "metadata": {
        "id": "G2GjA3Wktq7N"
      },
      "outputs": [],
      "source": [
        "class Animal:\n",
        "    '''\n",
        "    En esta clase se crean los animales\n",
        "    '''\n",
        "    def __init__(self, especie, edad, color):\n",
        "        self.especie = especie\n",
        "        self.edad = edad\n",
        "        self.color = color\n",
        "    def mePresento(self):\n",
        "        print('Hola, soy ', self.especie, ', de color', self.color, ' y tengo ', self.edad, ' años')\n",
        "    def cumplirAños(self):\n",
        "        self.edad = self.edad + 1"
      ]
    },
    {
      "cell_type": "code",
      "execution_count": null,
      "metadata": {
        "id": "099K4qqvtq7N",
        "outputId": "3ab60967-aba2-4f11-e357-c355401d26a5"
      },
      "outputs": [
        {
          "name": "stdout",
          "output_type": "stream",
          "text": [
            "Ratón\n",
            "2\n",
            "Liebre\n",
            "3\n"
          ]
        }
      ],
      "source": [
        "a1 = Animal('Ratón', 2, 'Marrón')\n",
        "print(a1.especie)\n",
        "print(a1.edad)\n",
        "\n",
        "a2 = Animal('Liebre', 3, 'Gris')\n",
        "print(a2.especie)\n",
        "print(a2.edad)"
      ]
    },
    {
      "cell_type": "code",
      "execution_count": null,
      "metadata": {
        "id": "6rIrdHtitq7N",
        "outputId": "5afa60d6-0fe0-4fde-9c54-48153853d05d"
      },
      "outputs": [
        {
          "name": "stdout",
          "output_type": "stream",
          "text": [
            "Hola, soy  Ratón , de color Marrón  y tengo  2  años\n"
          ]
        }
      ],
      "source": [
        "a1.mePresento()"
      ]
    },
    {
      "cell_type": "code",
      "execution_count": null,
      "metadata": {
        "id": "dCNmjEKwtq7N",
        "outputId": "7d31f4f5-234a-4719-ac5f-4925264547ad"
      },
      "outputs": [
        {
          "name": "stdout",
          "output_type": "stream",
          "text": [
            "Hola, soy  Liebre , de color Gris  y tengo  3  años\n"
          ]
        }
      ],
      "source": [
        "a2.mePresento()"
      ]
    },
    {
      "cell_type": "code",
      "execution_count": null,
      "metadata": {
        "id": "OgZsPTnjtq7N",
        "outputId": "330da7cc-fc79-4a02-e61f-51d0f8cd5f29"
      },
      "outputs": [
        {
          "name": "stdout",
          "output_type": "stream",
          "text": [
            "Hola, soy  Ratón , de color Marrón  y tengo  3  años\n"
          ]
        }
      ],
      "source": [
        "a1.cumplirAños()\n",
        "a1.mePresento()"
      ]
    },
    {
      "cell_type": "code",
      "execution_count": null,
      "metadata": {
        "id": "gnikzujItq7N"
      },
      "outputs": [],
      "source": [
        "# Caja Negra\n",
        "import unittest\n"
      ]
    },
    {
      "cell_type": "code",
      "execution_count": null,
      "metadata": {
        "id": "DUuqN2DCtq7N"
      },
      "outputs": [],
      "source": [
        "\n",
        "def suma(num_1, num_2):\n",
        "    return num_1 + num_2"
      ]
    },
    {
      "cell_type": "code",
      "execution_count": null,
      "metadata": {
        "id": "KFXGWuI5tq7O"
      },
      "outputs": [],
      "source": [
        "\n",
        "class CajaNegraTest(unittest.TestCase):\n",
        "\n",
        "    def test_suma_dos_positivos(self):\n",
        "        num_1 = 10\n",
        "        num_2 = 5\n",
        "\n",
        "        resultado = suma(num_1, num_2)\n",
        "\n",
        "        self.assertEqual(resultado, 15)\n",
        "\n",
        "    def test_suma_dos_negativos(self):\n",
        "        num_1 = -10\n",
        "        num_2 = -7\n",
        "\n",
        "        resultado = suma(num_1, num_2)\n",
        "\n",
        "        self.assertEqual(resultado, -17)\n"
      ]
    },
    {
      "cell_type": "code",
      "execution_count": null,
      "metadata": {
        "id": "Gr0ZLSQGtq7O",
        "outputId": "2d2a7c8f-95a0-4f9f-d46a-c2db751b8d1e"
      },
      "outputs": [
        {
          "name": "stderr",
          "output_type": "stream",
          "text": [
            "test_suma_dos_negativos (__main__.CajaNegraTest) ... ok\n",
            "test_suma_dos_positivos (__main__.CajaNegraTest) ... ok\n",
            "\n",
            "----------------------------------------------------------------------\n",
            "Ran 2 tests in 0.004s\n",
            "\n",
            "OK\n"
          ]
        },
        {
          "data": {
            "text/plain": [
              "<unittest.main.TestProgram at 0x2226bd08400>"
            ]
          },
          "execution_count": 47,
          "metadata": {},
          "output_type": "execute_result"
        }
      ],
      "source": [
        "unittest.main(argv=[''], verbosity=2, exit=False)"
      ]
    },
    {
      "cell_type": "code",
      "execution_count": null,
      "metadata": {
        "id": "ZkUHduuYtq7O"
      },
      "outputs": [],
      "source": [
        "if __name__ == '__main__':\n",
        "    unittest.main()"
      ]
    },
    {
      "cell_type": "code",
      "execution_count": null,
      "metadata": {
        "id": "uKDhqWmAtq7O",
        "outputId": "75d572ee-dd7a-45e3-a7cd-9b2ed82d3252"
      },
      "outputs": [
        {
          "name": "stderr",
          "output_type": "stream",
          "text": [
            "test_suma_dos_negativos (__main__.CajaNegraTest) ... ok\n",
            "test_suma_dos_positivos (__main__.CajaNegraTest) ... ok\n",
            "test_es_mayor_de_edad (__main__.PruebaDeCristalTest) ... ok\n",
            "test_es_menor_de_edad (__main__.PruebaDeCristalTest) ... ok\n",
            "\n",
            "----------------------------------------------------------------------\n",
            "Ran 4 tests in 0.006s\n",
            "\n",
            "OK\n"
          ]
        },
        {
          "data": {
            "text/plain": [
              "<unittest.main.TestProgram at 0x2226bd153d0>"
            ]
          },
          "execution_count": 49,
          "metadata": {},
          "output_type": "execute_result"
        }
      ],
      "source": [
        "#Caja de Cristal\n",
        "import unittest\n",
        "\n",
        "def es_mayor_de_edad(edad):\n",
        "    if edad >= 18:\n",
        "        return True\n",
        "    else:\n",
        "        return False\n",
        "\n",
        "class PruebaDeCristalTest(unittest.TestCase):\n",
        "\n",
        "    def test_es_mayor_de_edad(self):\n",
        "        edad = 20\n",
        "\n",
        "        resultado = es_mayor_de_edad(edad)\n",
        "\n",
        "        self.assertEqual(resultado, True)\n",
        "\n",
        "    def test_es_menor_de_edad(self):\n",
        "        edad = 15\n",
        "\n",
        "        resultado = es_mayor_de_edad(edad)\n",
        "\n",
        "        self.assertEqual(resultado, False)\n",
        "\n",
        "unittest.main(argv=[''], verbosity=2, exit=False)"
      ]
    },
    {
      "cell_type": "code",
      "execution_count": null,
      "metadata": {
        "id": "oNX1RaaUtq7O"
      },
      "outputs": [],
      "source": [
        "if __name__ == '__main__':\n",
        "    unittest.main()"
      ]
    },
    {
      "cell_type": "code",
      "execution_count": null,
      "metadata": {
        "id": "tp5sNQVNtq7O"
      },
      "outputs": [],
      "source": [
        "# Python\n",
        "\n",
        "def busca_pais(paises, pais):\n",
        "    '''\n",
        "    Paises es un diccionario. Pais es la llave.\n",
        "    Codigo con el principio EAFP.\n",
        "    '''    \n",
        "    try:\n",
        "        return paises[pais]\n",
        "    except KeyError:\n",
        "        return None"
      ]
    },
    {
      "cell_type": "code",
      "execution_count": null,
      "metadata": {
        "id": "OWixufo5tq7Q",
        "outputId": "d38e3e00-c9d5-4b4c-a6a5-9ff225227686"
      },
      "outputs": [
        {
          "name": "stdout",
          "output_type": "stream",
          "text": [
            "division by zero\n",
            "[0, 1, 2, 3, 4, 5, 6, 7, 8, 9]\n"
          ]
        }
      ],
      "source": [
        "def divide_elementos_de_lista(lista, divisor):\n",
        "    '''\n",
        "    Cada elemento de una lista es dividida por un divisor definido.\n",
        "    En caso de error de tipo ZeroDivisionError que\n",
        "    significa error al dividir en cero\n",
        "    la función devuelve la lista inicial\n",
        "    '''\n",
        "    try:\n",
        "        return [i / divisor for i in lista]\n",
        "    \n",
        "    except ZeroDivisionError as e:\n",
        "        print(e)\n",
        "        return lista\n",
        "\n",
        "lista = list(range(10))\n",
        "divisor = 0\n",
        "\n",
        "print(divide_elementos_de_lista(lista, divisor))"
      ]
    },
    {
      "cell_type": "code",
      "execution_count": null,
      "metadata": {
        "id": "0SwZExZctq7R",
        "outputId": "89171d46-61c9-43c8-9483-9aaa0fddd869"
      },
      "outputs": [
        {
          "name": "stdout",
          "output_type": "stream",
          "text": [
            "[0.0, 0.3333333333333333, 0.6666666666666666, 1.0, 1.3333333333333333, 1.6666666666666667, 2.0, 2.3333333333333335, 2.6666666666666665, 3.0]\n"
          ]
        }
      ],
      "source": [
        "divisor = 3\n",
        "print(divide_elementos_de_lista(lista, divisor))"
      ]
    },
    {
      "cell_type": "code",
      "execution_count": null,
      "metadata": {
        "id": "OcYzBcDMtq7R",
        "outputId": "d0ddf035-a312-42d3-fd03-8a2196e3b48b"
      },
      "outputs": [
        {
          "name": "stdout",
          "output_type": "stream",
          "text": [
            "5\n",
            "4\n",
            "9\n",
            "2\n"
          ]
        }
      ],
      "source": [
        "lista = [5, 4, 9, 2]\n",
        "i = 0\n",
        "while i < len(lista):\n",
        "    elemento = lista[i]\n",
        "    print(elemento)\n",
        "    i += 1"
      ]
    },
    {
      "cell_type": "code",
      "execution_count": null,
      "metadata": {
        "id": "3ifiRUIztq7R",
        "outputId": "3c601d6a-07a9-48e7-cde5-060fa8c41083"
      },
      "outputs": [
        {
          "name": "stdout",
          "output_type": "stream",
          "text": [
            "5\n",
            "4\n",
            "9\n",
            "2\n"
          ]
        }
      ],
      "source": [
        "lista = [5, 4, 9, 2]\n",
        "for elemento in lista:\n",
        "    print(elemento)"
      ]
    },
    {
      "cell_type": "code",
      "execution_count": null,
      "metadata": {
        "id": "LE15epSCtq7R",
        "outputId": "c4f8aaec-2782-4bc9-90e1-1b107635a9b7"
      },
      "outputs": [
        {
          "name": "stdout",
          "output_type": "stream",
          "text": [
            "cadena True\n",
            "numero False\n"
          ]
        },
        {
          "name": "stderr",
          "output_type": "stream",
          "text": [
            "C:\\Users\\lopez\\AppData\\Local\\Temp/ipykernel_10044/1562366592.py:1: DeprecationWarning: Using or importing the ABCs from 'collections' instead of from 'collections.abc' is deprecated since Python 3.3, and in 3.10 it will stop working\n",
            "  from collections import Iterable\n"
          ]
        }
      ],
      "source": [
        "from collections import Iterable\n",
        "cadena = \"Hola\"\n",
        "numero = 3\n",
        "print(\"cadena\", isinstance(cadena, Iterable))\n",
        "print(\"numero\", isinstance(numero, Iterable))"
      ]
    },
    {
      "cell_type": "code",
      "execution_count": null,
      "metadata": {
        "id": "k6WBg42Ktq7S",
        "outputId": "dc635099-8a4d-4f28-b99c-b2a332116aa3"
      },
      "outputs": [
        {
          "name": "stdout",
          "output_type": "stream",
          "text": [
            "['H', 'o', 'l', 'a']\n"
          ]
        }
      ],
      "source": [
        "print(list(\"Hola\"))"
      ]
    },
    {
      "cell_type": "code",
      "execution_count": null,
      "metadata": {
        "id": "Ydo0th35tq7T",
        "outputId": "519b287d-b8d4-4cf6-a816-5aa4be5ad914"
      },
      "outputs": [
        {
          "name": "stdout",
          "output_type": "stream",
          "text": [
            "6\n"
          ]
        }
      ],
      "source": [
        "print(sum([1, 2, 3]))"
      ]
    },
    {
      "cell_type": "code",
      "execution_count": null,
      "metadata": {
        "id": "mftKCbWvtq7T",
        "outputId": "ccd8a9df-52b6-43d1-8ba7-f441842dd3a0"
      },
      "outputs": [
        {
          "name": "stdout",
          "output_type": "stream",
          "text": [
            "H-o-l-a\n"
          ]
        }
      ],
      "source": [
        "print(\"-\".join(\"Hola\"))"
      ]
    },
    {
      "cell_type": "code",
      "execution_count": null,
      "metadata": {
        "id": "IJ1iAOnFtq7T",
        "outputId": "7d3ca798-6558-4b8b-e002-113a7f7bab23"
      },
      "outputs": [
        {
          "name": "stdout",
          "output_type": "stream",
          "text": [
            "a\n",
            "b\n",
            "c\n"
          ]
        }
      ],
      "source": [
        "mi_dict = {'a':1, 'b':2, 'c':3}\n",
        "for i in mi_dict:\n",
        "    print(i)"
      ]
    },
    {
      "cell_type": "code",
      "execution_count": null,
      "metadata": {
        "id": "LvROCQgxtq7T"
      },
      "outputs": [],
      "source": [
        "libro = ['página1', 'página2', 'página3', 'página4']\n",
        "marcapaginas = iter(libro)"
      ]
    },
    {
      "cell_type": "code",
      "execution_count": null,
      "metadata": {
        "id": "6Ms8iS_0tq7Z",
        "outputId": "dc961f30-372b-4ac0-9b5e-31b90bbe1e24"
      },
      "outputs": [
        {
          "name": "stdout",
          "output_type": "stream",
          "text": [
            "página1\n",
            "página2\n",
            "página3\n",
            "página4\n"
          ]
        }
      ],
      "source": [
        "print(next(marcapaginas))\n",
        "print(next(marcapaginas))\n",
        "print(next(marcapaginas))\n",
        "print(next(marcapaginas))"
      ]
    },
    {
      "cell_type": "code",
      "execution_count": null,
      "metadata": {
        "id": "kiMDQixCtq7Z",
        "outputId": "0c3ae3b5-93dc-4328-9a46-3d455d6fba7e"
      },
      "outputs": [
        {
          "ename": "StopIteration",
          "evalue": "",
          "output_type": "error",
          "traceback": [
            "\u001b[1;31m---------------------------------------------------------------------------\u001b[0m",
            "\u001b[1;31mStopIteration\u001b[0m                             Traceback (most recent call last)",
            "\u001b[1;32m~\\AppData\\Local\\Temp/ipykernel_10044/1391636315.py\u001b[0m in \u001b[0;36m<module>\u001b[1;34m\u001b[0m\n\u001b[1;32m----> 1\u001b[1;33m \u001b[0mprint\u001b[0m\u001b[1;33m(\u001b[0m\u001b[0mnext\u001b[0m\u001b[1;33m(\u001b[0m\u001b[0mmarcapaginas\u001b[0m\u001b[1;33m)\u001b[0m\u001b[1;33m)\u001b[0m\u001b[1;33m\u001b[0m\u001b[1;33m\u001b[0m\u001b[0m\n\u001b[0m",
            "\u001b[1;31mStopIteration\u001b[0m: "
          ]
        }
      ],
      "source": [
        "print(next(marcapaginas))"
      ]
    },
    {
      "cell_type": "code",
      "execution_count": null,
      "metadata": {
        "id": "8lgx4kiNtq7a",
        "outputId": "22112a9d-2add-403b-deae-e0287ede7917"
      },
      "outputs": [
        {
          "data": {
            "text/plain": [
              "2"
            ]
          },
          "execution_count": 99,
          "metadata": {},
          "output_type": "execute_result"
        }
      ],
      "source": [
        "14 % 3"
      ]
    },
    {
      "cell_type": "code",
      "execution_count": null,
      "metadata": {
        "id": "_keysLZotq7a",
        "outputId": "4dde0f52-346c-456e-9bb7-9d8234fa1c06"
      },
      "outputs": [
        {
          "data": {
            "text/plain": [
              "4"
            ]
          },
          "execution_count": 97,
          "metadata": {},
          "output_type": "execute_result"
        }
      ],
      "source": [
        "14 // 3"
      ]
    },
    {
      "cell_type": "code",
      "execution_count": null,
      "metadata": {
        "id": "eOlf-ARBtq7a"
      },
      "outputs": [],
      "source": [
        "a = [1,2]\n"
      ]
    },
    {
      "cell_type": "code",
      "execution_count": null,
      "metadata": {
        "id": "T5M4Bar0tq7a"
      },
      "outputs": [],
      "source": [
        "b = a.copy()"
      ]
    },
    {
      "cell_type": "code",
      "execution_count": null,
      "metadata": {
        "id": "MQWUKir5tq7a"
      },
      "outputs": [],
      "source": [
        "b.append(3)"
      ]
    },
    {
      "cell_type": "code",
      "execution_count": null,
      "metadata": {
        "id": "7sYvd609tq7a",
        "outputId": "bc759141-25fc-4c90-e935-5f0b81980864"
      },
      "outputs": [
        {
          "name": "stdout",
          "output_type": "stream",
          "text": [
            "[1, 2]\n"
          ]
        }
      ],
      "source": [
        "print(a)"
      ]
    },
    {
      "cell_type": "code",
      "execution_count": null,
      "metadata": {
        "id": "FqwyW3Dqtq7b",
        "outputId": "a851c567-05b7-4f8c-c7e3-905efe39c634"
      },
      "outputs": [
        {
          "name": "stdout",
          "output_type": "stream",
          "text": [
            "[1, 2, 3]\n"
          ]
        }
      ],
      "source": [
        "print(b)"
      ]
    },
    {
      "cell_type": "code",
      "execution_count": null,
      "metadata": {
        "id": "BQFSgDestq7b"
      },
      "outputs": [],
      "source": [
        "b.append(4)"
      ]
    },
    {
      "cell_type": "code",
      "execution_count": null,
      "metadata": {
        "id": "Onph3Ulntq7b",
        "outputId": "287adf36-4050-4193-971d-861b7a7382f1"
      },
      "outputs": [
        {
          "name": "stdout",
          "output_type": "stream",
          "text": [
            "[1, 2, 3]\n"
          ]
        }
      ],
      "source": [
        "print(a)"
      ]
    },
    {
      "cell_type": "code",
      "execution_count": null,
      "metadata": {
        "id": "xE7VxixHtq7b",
        "outputId": "7a51f197-6f3c-4965-889f-9c8014e065a9"
      },
      "outputs": [
        {
          "name": "stdout",
          "output_type": "stream",
          "text": [
            "[1, 2, 3, 4]\n"
          ]
        }
      ],
      "source": [
        "print(b)"
      ]
    },
    {
      "cell_type": "code",
      "execution_count": null,
      "metadata": {
        "id": "qth-qKi1tq7b"
      },
      "outputs": [],
      "source": [
        "x = 7"
      ]
    },
    {
      "cell_type": "code",
      "execution_count": null,
      "metadata": {
        "id": "-nusQzJptq7b",
        "outputId": "503d029a-213c-4fa6-9196-995a6903889d"
      },
      "outputs": [
        {
          "data": {
            "text/plain": [
              "2"
            ]
          },
          "execution_count": 34,
          "metadata": {},
          "output_type": "execute_result"
        }
      ],
      "source": [
        "7 & 7"
      ]
    },
    {
      "cell_type": "code",
      "execution_count": null,
      "metadata": {
        "id": "9YCfRr5btq7b",
        "outputId": "e8c0dc71-8a63-409a-d9b5-94037b8a4b4b"
      },
      "outputs": [
        {
          "name": "stdout",
          "output_type": "stream",
          "text": [
            "2\n"
          ]
        }
      ],
      "source": [
        "print(x)"
      ]
    },
    {
      "cell_type": "code",
      "execution_count": null,
      "metadata": {
        "id": "1p_WF9Petq7c"
      },
      "outputs": [],
      "source": [
        "a = [1, 2]"
      ]
    },
    {
      "cell_type": "code",
      "execution_count": null,
      "metadata": {
        "id": "oKQX1qSGtq7c"
      },
      "outputs": [],
      "source": [
        "b = [\"Uno\", \"Dos\"]"
      ]
    },
    {
      "cell_type": "code",
      "execution_count": null,
      "metadata": {
        "id": "QTZh3yTGtq7c"
      },
      "outputs": [],
      "source": [
        "c = zip(a, b)"
      ]
    },
    {
      "cell_type": "code",
      "execution_count": null,
      "metadata": {
        "id": "xdwQ4zH1tq7c",
        "outputId": "4a290db4-c811-4c70-e459-319812f70a63"
      },
      "outputs": [
        {
          "data": {
            "text/plain": [
              "zip"
            ]
          },
          "execution_count": 39,
          "metadata": {},
          "output_type": "execute_result"
        }
      ],
      "source": [
        "type(c)"
      ]
    },
    {
      "cell_type": "code",
      "execution_count": null,
      "metadata": {
        "id": "_dVhC2iptq7c",
        "outputId": "d9f38478-b882-415b-bb5d-d2103237edbc"
      },
      "outputs": [
        {
          "data": {
            "text/plain": [
              "[(1, 'Uno'), (2, 'Dos')]"
            ]
          },
          "execution_count": 40,
          "metadata": {},
          "output_type": "execute_result"
        }
      ],
      "source": [
        "list(c)"
      ]
    },
    {
      "cell_type": "code",
      "execution_count": null,
      "metadata": {
        "id": "IwaBO93Vtq7c"
      },
      "outputs": [],
      "source": [
        "frase = \"El perro de san roque no tiene rabo\""
      ]
    },
    {
      "cell_type": "code",
      "execution_count": null,
      "metadata": {
        "id": "sLCeV5b7tq7c",
        "outputId": "cccde89d-b591-4974-acea-1429eeeab47a"
      },
      "outputs": [
        {
          "name": "stdout",
          "output_type": "stream",
          "text": [
            "['r', 'r', 'r', 'r']\n"
          ]
        }
      ],
      "source": [
        "errores = [i for i in frase if i == 'r']\n",
        "print(errores)"
      ]
    },
    {
      "cell_type": "code",
      "execution_count": null,
      "metadata": {
        "id": "be0sjO-8tq7c",
        "outputId": "a5e76e96-7419-4e61-ae2c-2dc71c0697e3"
      },
      "outputs": [
        {
          "name": "stdout",
          "output_type": "stream",
          "text": [
            "2\n",
            "3\n",
            "4\n",
            "5\n",
            "6\n",
            "7\n",
            "8\n",
            "9\n",
            "10\n",
            "11\n",
            "12\n",
            "13\n",
            "14\n",
            "15\n",
            "16\n",
            "17\n",
            "18\n",
            "19\n",
            "20\n",
            "21\n",
            "22\n",
            "23\n",
            "24\n",
            "25\n",
            "26\n",
            "27\n",
            "28\n",
            "29\n",
            "30\n",
            "31\n",
            "32\n",
            "33\n",
            "34\n",
            "35\n",
            "36\n",
            "37\n",
            "38\n",
            "39\n"
          ]
        }
      ],
      "source": [
        "n = 40 \n",
        "sequence = [0,1] \n",
        "for i in range(2,n): \n",
        "    sequence.append(sequence[i-1]+sequence[i-2]) \n",
        "    print (sequence)"
      ]
    },
    {
      "cell_type": "code",
      "execution_count": null,
      "metadata": {
        "id": "xGwHpinWtq7c",
        "outputId": "19435ca5-3dd1-4d63-a74c-7d17e17c1532"
      },
      "outputs": [
        {
          "data": {
            "text/plain": [
              "8"
            ]
          },
          "execution_count": 3,
          "metadata": {},
          "output_type": "execute_result"
        }
      ],
      "source": [
        "4 << 1"
      ]
    }
  ],
  "metadata": {
    "kernelspec": {
      "display_name": "Python 3 (ipykernel)",
      "language": "python",
      "name": "python3"
    },
    "language_info": {
      "codemirror_mode": {
        "name": "ipython",
        "version": 3
      },
      "file_extension": ".py",
      "mimetype": "text/x-python",
      "name": "python",
      "nbconvert_exporter": "python",
      "pygments_lexer": "ipython3",
      "version": "3.9.7"
    },
    "colab": {
      "provenance": [],
      "include_colab_link": true
    }
  },
  "nbformat": 4,
  "nbformat_minor": 0
}