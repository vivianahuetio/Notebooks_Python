{
  "cells": [
    {
      "cell_type": "markdown",
      "metadata": {
        "id": "view-in-github",
        "colab_type": "text"
      },
      "source": [
        "<a href=\"https://colab.research.google.com/github/vivianahuetio/Notebooks_Python/blob/main/NB_05_Funciones.ipynb\" target=\"_parent\"><img src=\"https://colab.research.google.com/assets/colab-badge.svg\" alt=\"Open In Colab\"/></a>"
      ]
    },
    {
      "cell_type": "markdown",
      "metadata": {
        "id": "Ei-D14YdUO8h"
      },
      "source": [
        "## Funciones"
      ]
    },
    {
      "cell_type": "markdown",
      "metadata": {
        "id": "EXh9V-4gUO8j"
      },
      "source": [
        "1) Crear una función que reciba un número como parámetro y devuelva True si es primo y False si no lo es"
      ]
    },
    {
      "cell_type": "code",
      "execution_count": null,
      "metadata": {
        "id": "hePGvWSEUO8k",
        "outputId": "a898cf0a-b262-4786-fac5-432e83ea7e0f",
        "colab": {
          "base_uri": "https://localhost:8080/"
        }
      },
      "outputs": [
        {
          "output_type": "stream",
          "name": "stdout",
          "text": [
            "5\n"
          ]
        }
      ],
      "source": [
        "def suma(a,b):\n",
        "  resultado = a+b\n",
        "  return resultado\n",
        "resultado = suma(2,3)\n",
        "print(resultado)\n",
        "\n",
        "\n",
        "\n"
      ]
    },
    {
      "cell_type": "code",
      "source": [
        "def sumar_lista(lista):\n",
        "    suma = 0\n",
        "    for elemento in lista:\n",
        "        suma += elemento\n",
        "    return suma\n",
        "\n",
        "lista = [1, 2, 3, 4, 5]\n",
        "print(sumar_lista(lista)) "
      ],
      "metadata": {
        "id": "8erEthO_TX1r",
        "outputId": "2e193214-cf42-4d69-b0db-abee2ebbb354",
        "colab": {
          "base_uri": "https://localhost:8080/"
        }
      },
      "execution_count": null,
      "outputs": [
        {
          "output_type": "stream",
          "name": "stdout",
          "text": [
            "15\n"
          ]
        }
      ]
    },
    {
      "cell_type": "code",
      "source": [],
      "metadata": {
        "id": "_Cd5wDi6YC8G"
      },
      "execution_count": null,
      "outputs": []
    },
    {
      "cell_type": "markdown",
      "source": [
        "Cuando no uso la variable con el valor inicial antes del For, sale error:"
      ],
      "metadata": {
        "id": "K5xSu6SOX-oM"
      }
    },
    {
      "cell_type": "code",
      "source": [
        "def sumar_lista(lista):\n",
        "    for elemento in lista:\n",
        "        suma += elemento\n",
        "    return suma\n",
        "\n",
        "lista = [1, 2, 3, 4, 5]\n",
        "print(sumar_lista(lista))"
      ],
      "metadata": {
        "id": "n0fE7LOZXTvp",
        "outputId": "fb08d881-01ab-497d-d910-1488acb80909",
        "colab": {
          "base_uri": "https://localhost:8080/",
          "height": 329
        }
      },
      "execution_count": null,
      "outputs": [
        {
          "output_type": "error",
          "ename": "UnboundLocalError",
          "evalue": "ignored",
          "traceback": [
            "\u001b[0;31m---------------------------------------------------------------------------\u001b[0m",
            "\u001b[0;31mUnboundLocalError\u001b[0m                         Traceback (most recent call last)",
            "\u001b[0;32m<ipython-input-5-51d8b380f840>\u001b[0m in \u001b[0;36m<module>\u001b[0;34m\u001b[0m\n\u001b[1;32m      5\u001b[0m \u001b[0;34m\u001b[0m\u001b[0m\n\u001b[1;32m      6\u001b[0m \u001b[0mlista\u001b[0m \u001b[0;34m=\u001b[0m \u001b[0;34m[\u001b[0m\u001b[0;36m1\u001b[0m\u001b[0;34m,\u001b[0m \u001b[0;36m2\u001b[0m\u001b[0;34m,\u001b[0m \u001b[0;36m3\u001b[0m\u001b[0;34m,\u001b[0m \u001b[0;36m4\u001b[0m\u001b[0;34m,\u001b[0m \u001b[0;36m5\u001b[0m\u001b[0;34m]\u001b[0m\u001b[0;34m\u001b[0m\u001b[0;34m\u001b[0m\u001b[0m\n\u001b[0;32m----> 7\u001b[0;31m \u001b[0mprint\u001b[0m\u001b[0;34m(\u001b[0m\u001b[0msumar_lista\u001b[0m\u001b[0;34m(\u001b[0m\u001b[0mlista\u001b[0m\u001b[0;34m)\u001b[0m\u001b[0;34m)\u001b[0m\u001b[0;34m\u001b[0m\u001b[0;34m\u001b[0m\u001b[0m\n\u001b[0m",
            "\u001b[0;32m<ipython-input-5-51d8b380f840>\u001b[0m in \u001b[0;36msumar_lista\u001b[0;34m(lista)\u001b[0m\n\u001b[1;32m      1\u001b[0m \u001b[0;32mdef\u001b[0m \u001b[0msumar_lista\u001b[0m\u001b[0;34m(\u001b[0m\u001b[0mlista\u001b[0m\u001b[0;34m)\u001b[0m\u001b[0;34m:\u001b[0m\u001b[0;34m\u001b[0m\u001b[0;34m\u001b[0m\u001b[0m\n\u001b[1;32m      2\u001b[0m     \u001b[0;32mfor\u001b[0m \u001b[0melemento\u001b[0m \u001b[0;32min\u001b[0m \u001b[0mlista\u001b[0m\u001b[0;34m:\u001b[0m\u001b[0;34m\u001b[0m\u001b[0;34m\u001b[0m\u001b[0m\n\u001b[0;32m----> 3\u001b[0;31m         \u001b[0msuma\u001b[0m \u001b[0;34m+=\u001b[0m \u001b[0melemento\u001b[0m\u001b[0;34m\u001b[0m\u001b[0;34m\u001b[0m\u001b[0m\n\u001b[0m\u001b[1;32m      4\u001b[0m     \u001b[0;32mreturn\u001b[0m \u001b[0msuma\u001b[0m\u001b[0;34m\u001b[0m\u001b[0;34m\u001b[0m\u001b[0m\n\u001b[1;32m      5\u001b[0m \u001b[0;34m\u001b[0m\u001b[0m\n",
            "\u001b[0;31mUnboundLocalError\u001b[0m: local variable 'suma' referenced before assignment"
          ]
        }
      ]
    },
    {
      "cell_type": "markdown",
      "source": [
        "Multiplicar numeros de una lista con For:"
      ],
      "metadata": {
        "id": "nLpf5YHqb78O"
      }
    },
    {
      "cell_type": "code",
      "source": [
        "def multiplicar_lista(lista):\n",
        "  producto = 1\n",
        "  for elemento in (lista):\n",
        "      producto *= elemento\n",
        "  return producto\n",
        "\n",
        "Mi_lista =[1,2,3,4]\n",
        "Resultado = multiplicar_lista(Mi_lista)\n",
        "print(Resultado)\n"
      ],
      "metadata": {
        "id": "eS7BnXtmb7p0",
        "outputId": "11a9a986-5f36-4a80-9cc6-aa099bfa534e",
        "colab": {
          "base_uri": "https://localhost:8080/"
        }
      },
      "execution_count": null,
      "outputs": [
        {
          "output_type": "stream",
          "name": "stdout",
          "text": [
            "24\n"
          ]
        }
      ]
    },
    {
      "cell_type": "markdown",
      "source": [
        "Calcular el décimo término de la secuencia de Fibonacci"
      ],
      "metadata": {
        "id": "sSsMZ9r4H81H"
      }
    },
    {
      "cell_type": "code",
      "source": [
        "def fibonacci(n):\n",
        "    if n <= 1:\n",
        "        return n\n",
        "    else:\n",
        "        return fibonacci(n-1) + fibonacci(n-2)\n",
        "decimo_termino = fibonacci(10)\n",
        "print ('el decimo termino de fibonacci es', decimo_termino)\n"
      ],
      "metadata": {
        "id": "hXrSA-wF4iyK",
        "outputId": "a97f2eb1-5854-47b5-b4e1-193116204610",
        "colab": {
          "base_uri": "https://localhost:8080/"
        }
      },
      "execution_count": null,
      "outputs": [
        {
          "output_type": "stream",
          "name": "stdout",
          "text": [
            "el decimo termino de fibonacci es 55\n"
          ]
        }
      ]
    },
    {
      "cell_type": "markdown",
      "source": [
        "Buscar el número más grande en una lista de enteros. \n",
        "\n",
        "la variable mayor, antes del For debe referenciar la lista y si primer elemento, porque si colocolo mayor = 0, La idea es que \"mayor\" tenga un valor inicial que sea menor que cualquier número en la lista, de manera que al comenzar a comparar los números en la lista, cualquier número será mayor que \"mayor\" al principio y se actualizará según se encuentren números más grandes. Por lo tanto, la mejor opción es inicializar \"mayor\" con el primer elemento de la lista, como se muestra en el ejemplo\n"
      ],
      "metadata": {
        "id": "yScnOvgFmTlJ"
      }
    },
    {
      "cell_type": "code",
      "source": [
        "def numero_mayor(lista):\n",
        "  mayor = lista[0]\n",
        "  for i in (lista):\n",
        "    if i > mayor:\n",
        "      mayor = i\n",
        "  return mayor\n",
        "\n",
        "lista_enteros = [1,2,3,4]\n",
        "print('el numero mayor es',numero_mayor(lista_enteros))          "
      ],
      "metadata": {
        "id": "D9MOHBxWrCau",
        "outputId": "0e843fce-795c-4119-bfe4-ba51cd0b0a3e",
        "colab": {
          "base_uri": "https://localhost:8080/"
        }
      },
      "execution_count": null,
      "outputs": [
        {
          "output_type": "stream",
          "name": "stdout",
          "text": [
            "el numero mayor es 4\n"
          ]
        }
      ]
    },
    {
      "cell_type": "markdown",
      "source": [
        "\"mayor\" inicia en el primero de la lista que es 1, y luego va tomando el número mas grande que se encuentre, mientras \"i\" toma el valor de cada elemento, en cada iteración. Entonces En cada iteración, \"i\" toma un valor, si este es mayor que mayor, se actualiza el número de \"mayor\" en  \"I\", y así, hasta que finalice el cliclo en 6. En ese momento el número en \"mayor\" será el más grande:\n",
        "\n",
        "Primera iteración\n",
        "i = 1\n",
        "Mayor = 1,\n",
        "i>mayor, 1>1?, no, entonces mayor sigue siendo 1\n",
        "\n",
        "Segunda iteración\n",
        "i= 2\n",
        "Mayor =1\n",
        "i>mayor, 2>1?, si, entonces mayor toma el valor de de i que es 2\n",
        "\n",
        "Tercera iteración\n",
        "i=3\n",
        "Mayor = 2\n",
        "i>mayor, 3>2? si, entonces mayor toma el valor de i que es 3\n",
        "\n",
        "Cuarta y ultima Iteración (porq hay 4 elementos en la lista)\n",
        "i= 4\n",
        "mayor = 3\n",
        "i>mayor, 4>3 ? si, entonces mayor toma el valor de i que es 4\n",
        "\n",
        "Aquí finaliza el ciclo, y se ejecuta el return mayor, por tanto \"mayor\" arrojará el número más grande que enconrtró en el ciclo.\n",
        "\n"
      ],
      "metadata": {
        "id": "lfwqyTsiC_G1"
      }
    },
    {
      "cell_type": "code",
      "source": [],
      "metadata": {
        "id": "RdYt8yANrCUP"
      },
      "execution_count": null,
      "outputs": []
    },
    {
      "cell_type": "code",
      "source": [
        "\n",
        "def suma_enteros(n):\n",
        "    if n == 0:\n",
        "        return 0\n",
        "    else:\n",
        "        return n + suma_enteros(n-1)\n",
        "Resultado = suma_enteros(10)\n",
        "print(Resultado)"
      ],
      "metadata": {
        "id": "Tceg7r0E4ijK",
        "outputId": "75ef1c0c-c7a0-42d5-f1cd-a1655124f560",
        "colab": {
          "base_uri": "https://localhost:8080/"
        }
      },
      "execution_count": null,
      "outputs": [
        {
          "output_type": "stream",
          "name": "stdout",
          "text": [
            "55\n"
          ]
        }
      ]
    },
    {
      "cell_type": "markdown",
      "metadata": {
        "id": "CWNBKgbyUO8m"
      },
      "source": [
        "2) Utilizando la función del punto 1, realizar otra función que reciba de parámetro una lista de números y devuelva sólo aquellos que son primos en otra lista"
      ]
    },
    {
      "cell_type": "code",
      "execution_count": null,
      "metadata": {
        "id": "XpyLiDx-UO8m"
      },
      "outputs": [],
      "source": [
        "def extrae_primos_de_lista(lista):\n",
        "    lista_primos = []\n",
        "    for elemento in lista:\n",
        "        if verifica_primo(int(elemento)):\n",
        "            lista_primos.append(elemento)\n",
        "    return lista_primos"
      ]
    },
    {
      "cell_type": "code",
      "execution_count": null,
      "metadata": {
        "id": "U5RYuDo3UO8m",
        "outputId": "87eda489-a641-48c7-db3f-163013c364d4"
      },
      "outputs": [
        {
          "data": {
            "text/plain": [
              "[1, 2, 3, 5, 7, 11, 13, 17, 19]"
            ]
          },
          "execution_count": 26,
          "metadata": {},
          "output_type": "execute_result"
        }
      ],
      "source": [
        "lis_completa = [1,2,3,4,5,6,7,8,9,10,11,12,13,14,15,16,17,18,19,20]\n",
        "lis_primos = extrae_primos_de_lista(lis_completa)\n",
        "lis_primos"
      ]
    },
    {
      "cell_type": "markdown",
      "metadata": {
        "id": "mKY8ETc1UO8o"
      },
      "source": [
        "3) Crear una función que al recibir una lista de números, devuelva el que más se repite y cuántas veces lo hace. Si hay más de un \"más repetido\", que devuelva cualquiera"
      ]
    },
    {
      "cell_type": "code",
      "execution_count": null,
      "metadata": {
        "id": "PDm3L9BcUO8o"
      },
      "outputs": [],
      "source": [
        "def valor_modal(lista):\n",
        "    lista_unicos = []\n",
        "    lista_repeticiones = []\n",
        "    if len(lista) == 0:\n",
        "        return None\n",
        "    for elemento in lista:\n",
        "        if elemento in lista_unicos:\n",
        "            i = lista_unicos.index(elemento)\n",
        "            lista_repeticiones[i] += 1\n",
        "        else:\n",
        "            lista_unicos.append(elemento)\n",
        "            lista_repeticiones.append(1)\n",
        "    moda = lista_unicos[0]\n",
        "    maximo = lista_repeticiones[0]\n",
        "    for i, elemento in enumerate(lista_unicos):\n",
        "        if lista_repeticiones[i] > maximo:\n",
        "            moda = lista_unicos[i]\n",
        "            maximo = lista_repeticiones[i]\n",
        "    return moda, maximo"
      ]
    },
    {
      "cell_type": "code",
      "execution_count": null,
      "metadata": {
        "id": "qxvr5OBqUO8o",
        "outputId": "359c96e4-8466-4b40-bb9e-ddeea304f5f4"
      },
      "outputs": [
        {
          "name": "stdout",
          "output_type": "stream",
          "text": [
            "El valor modal es 5 y se repite 3 veces.\n"
          ]
        }
      ],
      "source": [
        "lis = [1,1,5,6,8,10,22,5,6,4,11,9,5]\n",
        "moda, repite = valor_modal(lis)\n",
        "print('El valor modal es', moda, 'y se repite', repite, 'veces.')"
      ]
    },
    {
      "cell_type": "markdown",
      "metadata": {
        "id": "MRyYX1lFUO8p"
      },
      "source": [
        "4) A la función del punto 3, agregar un parámetro más, que permita elegir si se requiere el menor o el mayor de los mas repetidos."
      ]
    },
    {
      "cell_type": "code",
      "execution_count": null,
      "metadata": {
        "id": "z-y-Cwr2UO8p"
      },
      "outputs": [],
      "source": [
        "def valor_modal(lista, menor):\n",
        "    '''\n",
        "    Esta función devuelve el valor modal y recibe de parámetros dos valores:\n",
        "    1-Una lista de números\n",
        "    2-Verdadero (por defecto) por si se requiere el mínimo de los más repetidos, o Falso si se requiere el máximo\n",
        "    '''\n",
        "    lista_unicos = []\n",
        "    lista_repeticiones = []\n",
        "    if len(lista) == 0:\n",
        "        return None\n",
        "    if (menor):\n",
        "        lista.sort()\n",
        "    else:\n",
        "        lista.sort(reverse=True)\n",
        "    for elemento in lista:\n",
        "        if elemento in lista_unicos:\n",
        "            i = lista_unicos.index(elemento)\n",
        "            lista_repeticiones[i] += 1\n",
        "        else:\n",
        "            lista_unicos.append(elemento)\n",
        "            lista_repeticiones.append(1)\n",
        "    moda = lista_unicos[0]\n",
        "    maximo = lista_repeticiones[0]\n",
        "    for i, elemento in enumerate(lista_unicos):\n",
        "        if lista_repeticiones[i] > maximo:\n",
        "            moda = lista_unicos[i]\n",
        "            maximo = lista_repeticiones[i]\n",
        "    return moda, maximo"
      ]
    },
    {
      "cell_type": "code",
      "execution_count": null,
      "metadata": {
        "id": "zixl_HFGUO8r",
        "outputId": "530cde01-be45-4247-e8f6-0096444c8aab"
      },
      "outputs": [
        {
          "name": "stdout",
          "output_type": "stream",
          "text": [
            "El valor modal es 5 y se repite 3 veces.\n"
          ]
        }
      ],
      "source": [
        "lis = [10,1,5,6,8,10,22,5,6,4,11,10,9,5]\n",
        "moda, repite = valor_modal(lis, True)\n",
        "print('El valor modal es', moda, 'y se repite', repite, 'veces.')"
      ]
    },
    {
      "cell_type": "code",
      "execution_count": null,
      "metadata": {
        "id": "ie0-9Te1UO8t",
        "outputId": "beeb195f-9626-4731-af7a-c97a7396f664"
      },
      "outputs": [
        {
          "name": "stdout",
          "output_type": "stream",
          "text": [
            "El valor modal es 10 y se repite 3 veces.\n"
          ]
        }
      ],
      "source": [
        "lis = [10,1,5,6,8,10,22,5,6,4,11,10,9,5]\n",
        "moda, repite = valor_modal(lis, False)\n",
        "print('El valor modal es', moda, 'y se repite', repite, 'veces.')"
      ]
    },
    {
      "cell_type": "markdown",
      "metadata": {
        "id": "Cf9CqBwrUO8t"
      },
      "source": [
        "5) Crear una función que convierta entre grados Celsius, Farenheit y Kelvin<br>\n",
        "Fórmula 1\t: (°C × 9/5) + 32 = °F<br>\n",
        "Fórmula 2\t: °C + 273.15 = °K<br>\n",
        "Debe recibir 3 parámetros: el valor, la medida de orígen y la medida de destino\n"
      ]
    },
    {
      "cell_type": "code",
      "execution_count": null,
      "metadata": {
        "id": "FTCApy0wUO8t"
      },
      "outputs": [],
      "source": [
        "def conversion_grados(valor, origen, destino):\n",
        "    if (origen == 'celsius'):\n",
        "        if (destino == 'celsius'):\n",
        "            valor_destino = valor\n",
        "        elif (destino == 'farenheit'):\n",
        "            valor_destino = (valor * 9 / 5) + 32\n",
        "        elif (destino == 'kelvin'):\n",
        "            valor_destino = valor + 273.15\n",
        "        else:\n",
        "            print('Parámetro de Destino incorrecto')\n",
        "    elif (origen == 'farenheit'):\n",
        "        if (destino == 'celsius'):\n",
        "            valor_destino = (valor - 32) * 5 / 9\n",
        "        elif (destino == 'farenheit'):\n",
        "            valor_destino = valor\n",
        "        elif (destino == 'kelvin'):\n",
        "            valor_destino = ((valor - 32) * 5 / 9) + 273.15\n",
        "        else:\n",
        "            print('Parámetro de Destino incorrecto')\n",
        "    elif (origen == 'kelvin'):\n",
        "        if (destino == 'celsius'):\n",
        "            valor_destino = valor - 273.15\n",
        "        elif (destino == 'farenheit'):\n",
        "            valor_destino = ((valor - 273.15) * 9 / 5) + 32\n",
        "        elif (destino == 'kelvin'):\n",
        "            valor_destino = valor\n",
        "        else:\n",
        "            print('Parámetro de Destino incorrecto')\n",
        "    else:\n",
        "        print('Parámetro de Origen incorrecto')\n",
        "    return valor_destino"
      ]
    },
    {
      "cell_type": "code",
      "execution_count": null,
      "metadata": {
        "id": "-nRyRSggUO8u",
        "outputId": "1e96caaa-a88c-468b-c20b-79cf7e30b902"
      },
      "outputs": [
        {
          "name": "stdout",
          "output_type": "stream",
          "text": [
            "1 grado Celsius a Celsius: 1\n",
            "1 grado Celsius a Kelvin: 274.15\n",
            "1 grado Celsius a Farenheit: 33.8\n",
            "1 grado Kelvin a Celsius: -272.15\n",
            "1 grado Kelvin a Kelvin: 1\n",
            "1 grado Kelvin a Farenheit: -457.87\n",
            "1 grado Farenheit a Celsius: -17.22222222222222\n",
            "1 grado Farenheit a Kelvin: 255.92777777777775\n",
            "1 grado Farenheit a Farenheit: 1\n"
          ]
        }
      ],
      "source": [
        "print('1 grado Celsius a Celsius:', conversion_grados(1, 'celsius', 'celsius'))\n",
        "print('1 grado Celsius a Kelvin:', conversion_grados(1, 'celsius', 'kelvin'))\n",
        "print('1 grado Celsius a Farenheit:', conversion_grados(1, 'celsius', 'farenheit'))\n",
        "print('1 grado Kelvin a Celsius:', conversion_grados(1, 'kelvin', 'celsius'))\n",
        "print('1 grado Kelvin a Kelvin:', conversion_grados(1, 'kelvin', 'kelvin'))\n",
        "print('1 grado Kelvin a Farenheit:', conversion_grados(1, 'kelvin', 'farenheit'))\n",
        "print('1 grado Farenheit a Celsius:', conversion_grados(1, 'farenheit', 'celsius'))\n",
        "print('1 grado Farenheit a Kelvin:', conversion_grados(1, 'farenheit', 'kelvin'))\n",
        "print('1 grado Farenheit a Farenheit:', conversion_grados(1, 'farenheit', 'farenheit'))"
      ]
    },
    {
      "cell_type": "markdown",
      "metadata": {
        "id": "jQGEG_xBUO8v"
      },
      "source": [
        "6) Iterando una lista con los tres valores posibles de temperatura que recibe la función del punto 5, hacer un print para cada combinación de los mismos:"
      ]
    },
    {
      "cell_type": "code",
      "execution_count": null,
      "metadata": {
        "id": "eV5fZcB_UO8v",
        "outputId": "27b3950e-3abf-4048-dbde-7ea39c0a5603"
      },
      "outputs": [
        {
          "name": "stdout",
          "output_type": "stream",
          "text": [
            "1 grado celsius a celsius : 1\n",
            "1 grado celsius a kelvin : 274.15\n",
            "1 grado celsius a farenheit : 33.8\n",
            "1 grado kelvin a celsius : -272.15\n",
            "1 grado kelvin a kelvin : 1\n",
            "1 grado kelvin a farenheit : -457.87\n",
            "1 grado farenheit a celsius : -17.22222222222222\n",
            "1 grado farenheit a kelvin : 255.92777777777775\n",
            "1 grado farenheit a farenheit : 1\n"
          ]
        }
      ],
      "source": [
        "metricas = ['celsius','kelvin','farenheit']\n",
        "for i in range(0,3):\n",
        "    for j in range(0,3):\n",
        "        print('1 grado', metricas[i], 'a', metricas[j],':', conversion_grados(1, metricas[i], metricas[j]))"
      ]
    },
    {
      "cell_type": "markdown",
      "metadata": {
        "id": "DbrHys1hUO8v"
      },
      "source": [
        "7) Armar una función que devuelva el factorial de un número. Tener en cuenta que el usuario puede equivocarse y enviar de parámetro un número no entero o negativo"
      ]
    },
    {
      "cell_type": "code",
      "execution_count": null,
      "metadata": {
        "id": "tB2gdlRBUO8w",
        "outputId": "e2c3636e-25e8-47a4-a177-addf5f50c0af"
      },
      "outputs": [
        {
          "name": "stdout",
          "output_type": "stream",
          "text": [
            "6\n",
            "El numero debe ser pisitivo\n",
            "El numero debe ser un entero\n",
            "El numero debe ser un entero\n"
          ]
        }
      ],
      "source": [
        "def factorial(numero):\n",
        "    if(type(numero) != int):\n",
        "        return 'El numero debe ser un entero'\n",
        "    if(numero < 0):\n",
        "        return 'El numero debe ser pisitivo'\n",
        "    if (numero > 1):\n",
        "        numero = numero * factorial(numero - 1)\n",
        "    return numero\n",
        "print(factorial(3))\n",
        "print(factorial(-2))\n",
        "print(factorial(1.23))\n",
        "print(factorial('6'))"
      ]
    }
  ],
  "metadata": {
    "interpreter": {
      "hash": "c85384e4cb51c8b72350f3a8712cc8351fdc3955e32a27f9b60c6242ab125f01"
    },
    "kernelspec": {
      "display_name": "Python 3 (ipykernel)",
      "language": "python",
      "name": "python3"
    },
    "language_info": {
      "codemirror_mode": {
        "name": "ipython",
        "version": 3
      },
      "file_extension": ".py",
      "mimetype": "text/x-python",
      "name": "python",
      "nbconvert_exporter": "python",
      "pygments_lexer": "ipython3",
      "version": "3.9.7"
    },
    "colab": {
      "provenance": [],
      "include_colab_link": true
    }
  },
  "nbformat": 4,
  "nbformat_minor": 0
}